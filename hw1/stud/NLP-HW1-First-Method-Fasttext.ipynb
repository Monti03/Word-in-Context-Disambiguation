{
  "nbformat": 4,
  "nbformat_minor": 0,
  "metadata": {
    "colab": {
      "name": "Fasttext  Download-data-734-HW1-word_level",
      "provenance": [],
      "collapsed_sections": []
    },
    "kernelspec": {
      "name": "python3",
      "display_name": "Python 3"
    },
    "accelerator": "GPU"
  },
  "cells": [
    {
      "cell_type": "markdown",
      "metadata": {
        "id": "DFxNTxGDeVaL"
      },
      "source": [
        "# Preparing the Environment"
      ]
    },
    {
      "cell_type": "code",
      "metadata": {
        "id": "YfD_pcyZe0LR",
        "colab": {
          "base_uri": "https://localhost:8080/"
        },
        "outputId": "8595a912-d49f-4036-9a84-a79b8488994f"
      },
      "source": [
        "# imports\n",
        "import matplotlib.pyplot as plt\n",
        "import numpy as np\n",
        "import json\n",
        "import re\n",
        "\n",
        "from collections import Counter\n",
        "from tqdm.notebook import tqdm\n",
        "from typing import *\n",
        "\n",
        "import nltk\n",
        "from nltk.corpus import stopwords\n",
        "from nltk.tokenize import word_tokenize\n",
        "nltk.download('stopwords')\n",
        "nltk.download('punkt')"
      ],
      "execution_count": null,
      "outputs": [
        {
          "output_type": "stream",
          "text": [
            "[nltk_data] Downloading package stopwords to /root/nltk_data...\n",
            "[nltk_data]   Unzipping corpora/stopwords.zip.\n",
            "[nltk_data] Downloading package punkt to /root/nltk_data...\n",
            "[nltk_data]   Unzipping tokenizers/punkt.zip.\n"
          ],
          "name": "stdout"
        },
        {
          "output_type": "execute_result",
          "data": {
            "text/plain": [
              "True"
            ]
          },
          "metadata": {
            "tags": []
          },
          "execution_count": 1
        }
      ]
    },
    {
      "cell_type": "code",
      "metadata": {
        "id": "8VQo_JT08ES3"
      },
      "source": [
        "# pythorch imports\n",
        "import torch\n",
        "\n",
        "from torch import nn\n",
        "from torch.utils.data import Dataset, DataLoader"
      ],
      "execution_count": null,
      "outputs": []
    },
    {
      "cell_type": "code",
      "metadata": {
        "id": "CL1tzNUsZRCr"
      },
      "source": [
        "# seed used in order to thave reproducibility\n",
        "SEED = 93\n",
        "\n",
        "# patience in the train\n",
        "PATIENCE = 10\n",
        "\n",
        "# weight to give to the target term when building the embeddings of the phrases\n",
        "# I have set it to zero since I think that is more important the context than\n",
        "# the given term, since it is surely in both the phrases\n",
        "WEIGHT = 0\n",
        "\n",
        "# embedding dimension\n",
        "EMBEDDING_DIMENSION = 300\n",
        "\n",
        "\n",
        "LR = 0.000_01\n",
        "BATCH_SIZE = 300"
      ],
      "execution_count": null,
      "outputs": []
    },
    {
      "cell_type": "code",
      "metadata": {
        "id": "JHY51I6xBdjg"
      },
      "source": [
        "# hanlde preproducibility by setting the seed and deterministic algorithms\n",
        "torch.manual_seed(SEED)\n",
        "torch.use_deterministic_algorithms(True)"
      ],
      "execution_count": null,
      "outputs": []
    },
    {
      "cell_type": "code",
      "metadata": {
        "id": "4XrspF4VBI9A"
      },
      "source": [
        "# get the name of the file (works in colab) I sued it in order to save the \n",
        "# models (since I tried several models each with a different colab file)\n",
        "from requests import get\n",
        "# the below command do not work in local, but works in colab\n",
        "#FILE_NAME = get('http://172.28.0.2:9000/api/sessions').json()[0]['name']\n",
        "FILE_NAME = \"NLP-HW1-First-Method-Fasttext\""
      ],
      "execution_count": null,
      "outputs": []
    },
    {
      "cell_type": "code",
      "metadata": {
        "id": "K1QQNq__fKgr"
      },
      "source": [
        "! rm -rf sample_data"
      ],
      "execution_count": null,
      "outputs": []
    },
    {
      "cell_type": "code",
      "metadata": {
        "colab": {
          "base_uri": "https://localhost:8080/"
        },
        "id": "SoOh8WMjQnLU",
        "outputId": "dbfebeed-7ad1-4138-9edc-4ec5fa6e0c79"
      },
      "source": [
        "# download train and dev datasets\n",
        "! git clone https://github.com/SapienzaNLP/nlp2021-hw1.git"
      ],
      "execution_count": null,
      "outputs": [
        {
          "output_type": "stream",
          "text": [
            "Cloning into 'nlp2021-hw1'...\n",
            "remote: Enumerating objects: 40, done.\u001b[K\n",
            "remote: Counting objects: 100% (40/40), done.\u001b[K\n",
            "remote: Compressing objects: 100% (36/36), done.\u001b[K\n",
            "remote: Total 40 (delta 11), reused 18 (delta 0), pack-reused 0\u001b[K\n",
            "Unpacking objects: 100% (40/40), done.\n"
          ],
          "name": "stdout"
        }
      ]
    },
    {
      "cell_type": "code",
      "metadata": {
        "id": "wwyr26ftQt4W"
      },
      "source": [
        "# load train and dev sets\n",
        "with open (\"nlp2021-hw1/data/train.jsonl\") as fin:\n",
        "  train = []\n",
        "  for line in fin:\n",
        "    train.append(json.loads(line))\n",
        "\n",
        "\n",
        "with open (\"nlp2021-hw1/data/dev.jsonl\") as fin:\n",
        "  dev = []\n",
        "  for line in fin:\n",
        "    dev.append(json.loads(line))\n"
      ],
      "execution_count": null,
      "outputs": []
    },
    {
      "cell_type": "code",
      "metadata": {
        "colab": {
          "base_uri": "https://localhost:8080/"
        },
        "id": "ch0h2sxq5Y41",
        "outputId": "4057bc96-118c-49d3-ce55-3332669e21da"
      },
      "source": [
        "# see the structure of an entry of the dataset\n",
        "train[0]"
      ],
      "execution_count": null,
      "outputs": [
        {
          "output_type": "execute_result",
          "data": {
            "text/plain": [
              "{'end1': '73',\n",
              " 'end2': '14',\n",
              " 'id': 'train.0',\n",
              " 'label': 'False',\n",
              " 'lemma': 'play',\n",
              " 'pos': 'NOUN',\n",
              " 'sentence1': 'In that context of coordination and integration, Bolivia holds a key play in any process of infrastructure development.',\n",
              " 'sentence2': 'A musical play on the same subject was also staged in Kathmandu for three days.',\n",
              " 'start1': '69',\n",
              " 'start2': '10'}"
            ]
          },
          "metadata": {
            "tags": []
          },
          "execution_count": 9
        }
      ]
    },
    {
      "cell_type": "markdown",
      "metadata": {
        "id": "2zQSaLyicbSY"
      },
      "source": [
        "**Visualize class distribution** in order to see if is usefull to weight the classes in the loss function"
      ]
    },
    {
      "cell_type": "code",
      "metadata": {
        "colab": {
          "base_uri": "https://localhost:8080/",
          "height": 630
        },
        "id": "b2BKER5_vtIn",
        "outputId": "8be4f16c-6bef-4197-e69f-38141ef6ecf5"
      },
      "source": [
        "def visualize_class_distribution(train_gold: dict, title: str):\n",
        "    \n",
        "    counter = Counter()\n",
        "\n",
        "    for entry in train_gold:\n",
        "        label = entry[\"label\"] \n",
        "        counter[label] += 1\n",
        "\n",
        "    labels = sorted(counter)\n",
        "    values = [counter[label] for label in labels]\n",
        "\n",
        "    plt.bar(labels, values)\n",
        "    plt.title(title)\n",
        "    plt.show()\n",
        "    t_count = counter[\"True\"]\n",
        "    f_count = counter[\"False\"]\n",
        "    \n",
        "    print(f\"T: {t_count}\")\n",
        "    print(f\"F: {f_count}\")\n",
        "\n",
        "visualize_class_distribution(train, \"label distribution in train data\")\n",
        "print()\n",
        "visualize_class_distribution(dev, \"label distribution in development data\")\n"
      ],
      "execution_count": null,
      "outputs": [
        {
          "output_type": "display_data",
          "data": {
            "image/png": "[encoded data removed]",
            "text/plain": [
              "<Figure size 432x288 with 1 Axes>"
            ]
          },
          "metadata": {
            "tags": [],
            "needs_background": "light"
          }
        },
        {
          "output_type": "stream",
          "text": [
            "T: 4000\n",
            "F: 4000\n",
            "\n"
          ],
          "name": "stdout"
        },
        {
          "output_type": "display_data",
          "data": {
            "image/png": "[encoded data removed]",
            "text/plain": [
              "<Figure size 432x288 with 1 Axes>"
            ]
          },
          "metadata": {
            "tags": [],
            "needs_background": "light"
          }
        },
        {
          "output_type": "stream",
          "text": [
            "T: 500\n",
            "F: 500\n"
          ],
          "name": "stdout"
        }
      ]
    },
    {
      "cell_type": "markdown",
      "metadata": {
        "id": "i-LkaJ0Rwhll"
      },
      "source": [
        "So the classes are balanced. \n",
        "Let's see how the classes are distributed with respect to the pos tag"
      ]
    },
    {
      "cell_type": "code",
      "metadata": {
        "colab": {
          "base_uri": "https://localhost:8080/",
          "height": 1000
        },
        "id": "Uk4oS7N2vJ27",
        "outputId": "1a882767-8345-4498-d7c6-5a5fbca83a9e"
      },
      "source": [
        "def visualize_class_distribution_wrt_pos(train: dict, title: str):\n",
        "    # dictionary containing a counter per pos\n",
        "    counter = {}  \n",
        "  \n",
        "    for entry in train:\n",
        "        label = entry[\"label\"] \n",
        "        pos = entry[\"pos\"]\n",
        "        if (not pos in counter):\n",
        "          counter[pos] = Counter()  \n",
        "        counter[pos][label] += 1\n",
        "\n",
        "    for pos in counter:\n",
        "      print(f\"\\npos: {pos}\")\n",
        "      labels = sorted(counter[pos])\n",
        "      values = [counter[pos][label] for label in labels]\n",
        "\n",
        "      plt.bar(labels, values)\n",
        "      plt.title(title + f\" pos: {pos}\")\n",
        "      plt.show()\n",
        "      t_count = counter[pos][\"True\"]\n",
        "      f_count = counter[pos][\"False\"]\n",
        "    \n",
        "      print(f\"T: {t_count}\")\n",
        "      print(f\"F: {f_count}\")\n",
        "\n",
        "visualize_class_distribution_wrt_pos(train, \"label distribution in train data\")\n",
        "print()\n",
        "visualize_class_distribution_wrt_pos(dev, \"label distribution in development data\")"
      ],
      "execution_count": null,
      "outputs": [
        {
          "output_type": "stream",
          "text": [
            "\n",
            "pos: NOUN\n"
          ],
          "name": "stdout"
        },
        {
          "output_type": "display_data",
          "data": {
            "image/png": "[encoded data removed]",
            "text/plain": [
              "<Figure size 432x288 with 1 Axes>"
            ]
          },
          "metadata": {
            "tags": [],
            "needs_background": "light"
          }
        },
        {
          "output_type": "stream",
          "text": [
            "T: 2093\n",
            "F: 2031\n",
            "\n",
            "pos: ADJ\n"
          ],
          "name": "stdout"
        },
        {
          "output_type": "display_data",
          "data": {
            "image/png": "[encoded data removed]",
            "text/plain": [
              "<Figure size 432x288 with 1 Axes>"
            ]
          },
          "metadata": {
            "tags": [],
            "needs_background": "light"
          }
        },
        {
          "output_type": "stream",
          "text": [
            "T: 724\n",
            "F: 706\n",
            "\n",
            "pos: VERB\n"
          ],
          "name": "stdout"
        },
        {
          "output_type": "display_data",
          "data": {
            "image/png": "[encoded data removed]",
            "text/plain": [
              "<Figure size 432x288 with 1 Axes>"
            ]
          },
          "metadata": {
            "tags": [],
            "needs_background": "light"
          }
        },
        {
          "output_type": "stream",
          "text": [
            "T: 1095\n",
            "F: 1175\n",
            "\n",
            "pos: ADV\n"
          ],
          "name": "stdout"
        },
        {
          "output_type": "display_data",
          "data": {
            "image/png": "[encoded data removed]",
            "text/plain": [
              "<Figure size 432x288 with 1 Axes>"
            ]
          },
          "metadata": {
            "tags": [],
            "needs_background": "light"
          }
        },
        {
          "output_type": "stream",
          "text": [
            "T: 88\n",
            "F: 88\n",
            "\n",
            "\n",
            "pos: NOUN\n"
          ],
          "name": "stdout"
        },
        {
          "output_type": "display_data",
          "data": {
            "image/png": "[encoded data removed]",
            "text/plain": [
              "<Figure size 432x288 with 1 Axes>"
            ]
          },
          "metadata": {
            "tags": [],
            "needs_background": "light"
          }
        },
        {
          "output_type": "stream",
          "text": [
            "T: 290\n",
            "F: 292\n",
            "\n",
            "pos: ADJ\n"
          ],
          "name": "stdout"
        },
        {
          "output_type": "display_data",
          "data": {
            "image/png": "[encoded data removed]",
            "text/plain": [
              "<Figure size 432x288 with 1 Axes>"
            ]
          },
          "metadata": {
            "tags": [],
            "needs_background": "light"
          }
        },
        {
          "output_type": "stream",
          "text": [
            "T: 78\n",
            "F: 80\n",
            "\n",
            "pos: ADV\n"
          ],
          "name": "stdout"
        },
        {
          "output_type": "display_data",
          "data": {
            "image/png": "[encoded data removed]",
            "text/plain": [
              "<Figure size 432x288 with 1 Axes>"
            ]
          },
          "metadata": {
            "tags": [],
            "needs_background": "light"
          }
        },
        {
          "output_type": "stream",
          "text": [
            "T: 6\n",
            "F: 8\n",
            "\n",
            "pos: VERB\n"
          ],
          "name": "stdout"
        },
        {
          "output_type": "display_data",
          "data": {
            "image/png": "[encoded data removed]",
            "text/plain": [
              "<Figure size 432x288 with 1 Axes>"
            ]
          },
          "metadata": {
            "tags": [],
            "needs_background": "light"
          }
        },
        {
          "output_type": "stream",
          "text": [
            "T: 126\n",
            "F: 120\n"
          ],
          "name": "stdout"
        }
      ]
    },
    {
      "cell_type": "markdown",
      "metadata": {
        "id": "ueGkRHclxC3Q"
      },
      "source": [
        "As we can see from the precedent plots the classes are almost balanced also with respect to the pos tags\n"
      ]
    },
    {
      "cell_type": "code",
      "metadata": {
        "colab": {
          "base_uri": "https://localhost:8080/"
        },
        "id": "OSQnogT0fbxR",
        "outputId": "afd1197e-9b2c-4045-d0a9-9756283dc1ea"
      },
      "source": [
        "# download the pre trained embeddings\n",
        "! wget https://dl.fbaipublicfiles.com/fasttext/vectors-crawl/cc.en.300.vec.gz"
      ],
      "execution_count": null,
      "outputs": [
        {
          "output_type": "stream",
          "text": [
            "--2021-04-28 14:57:19--  https://dl.fbaipublicfiles.com/fasttext/vectors-crawl/cc.en.300.vec.gz\n",
            "Resolving dl.fbaipublicfiles.com (dl.fbaipublicfiles.com)... 172.67.9.4, 104.22.74.142, 104.22.75.142, ...\n",
            "Connecting to dl.fbaipublicfiles.com (dl.fbaipublicfiles.com)|172.67.9.4|:443... connected.\n",
            "HTTP request sent, awaiting response... 200 OK\n",
            "Length: 1325960915 (1.2G) [binary/octet-stream]\n",
            "Saving to: ‘cc.en.300.vec.gz’\n",
            "\n",
            "cc.en.300.vec.gz    100%[===================>]   1.23G  61.7MB/s    in 20s     \n",
            "\n",
            "2021-04-28 14:57:40 (61.8 MB/s) - ‘cc.en.300.vec.gz’ saved [1325960915/1325960915]\n",
            "\n"
          ],
          "name": "stdout"
        }
      ]
    },
    {
      "cell_type": "code",
      "metadata": {
        "id": "hgtWO6hthrsu"
      },
      "source": [
        "# unzip the embeddings\n",
        "! gunzip cc.en.300.vec.gz"
      ],
      "execution_count": null,
      "outputs": []
    },
    {
      "cell_type": "markdown",
      "metadata": {
        "id": "0dCogkvtxQ1d"
      },
      "source": [
        "**Load the embedding** and check for oov terms"
      ]
    },
    {
      "cell_type": "code",
      "metadata": {
        "id": "gbHOXxiuY_ZK"
      },
      "source": [
        "# load the embeddings to a dictionary with key the term and value the embedding\n",
        "embeddings = {}\n",
        "with open(f\"cc.en.{EMBEDDING_DIMENSION}.vec\") as fin:\n",
        "  for line in fin:\n",
        "    term, *embedding = line.strip().split(\" \")\n",
        "    embedding = torch.tensor(list(map(lambda x: float(x), embedding)))\n",
        "        \n",
        "    embeddings[term] = embedding"
      ],
      "execution_count": null,
      "outputs": []
    },
    {
      "cell_type": "code",
      "metadata": {
        "colab": {
          "base_uri": "https://localhost:8080/"
        },
        "id": "k5o1LnCPaM0c",
        "outputId": "ec2c4b92-7fcf-4b7a-f1dc-a4bc6181af48"
      },
      "source": [
        "# check for out of words vocabulary\n",
        "def check_oovs(train:list, dev:list, embeddings:dict):\n",
        "  oovs = {}\n",
        "  for dataset in [(train, \"train\"), (dev, \"dev\")]:\n",
        "    oovs[dataset[1]] = set()\n",
        "    for entry in dataset[0]:\n",
        "      s1 = entry[\"sentence1\"]\n",
        "      for term in s1.split(\" \"):\n",
        "        if (term not in embeddings):\n",
        "          oovs[dataset[1]].add(term)\n",
        "      \n",
        "      s2 = entry[\"sentence2\"]\n",
        "      for term in s2.split(\" \"):\n",
        "        if (term not in embeddings):\n",
        "          oovs[dataset[1]].add(term)\n",
        "    # print num of oov terms\n",
        "    print(len(oovs[dataset[1]]))\n",
        "    # print the first oov terms\n",
        "    print(list(oovs[dataset[1]])[:20])\n",
        "\n",
        "check_oovs(train, dev, embeddings)"
      ],
      "execution_count": null,
      "outputs": [
        {
          "output_type": "stream",
          "text": [
            "12269\n",
            "['', 'inheritance,', 'screenwriting.', 'potatoes,', 'shotgun,', 'telescopes,', 'UNCTAD’s', 'Turkified,', 'keywind', 'Alliance,', 'Rombin', '2019,', 'governed\".', 'depletion,', 'production,', 'blow-pipe.', '\"contacts', 'tip,', 'seasons:', 'statewide.']\n",
            "1890\n",
            "['', \"creditor's\", 'favoured.', \"al-Mukhtar's\", 'potatoes,', 'fashion,', 'Westminster.', '\"Merul\"', \"Mongolia's\", 'Lock,', '2019,', 'confront.', 'weather;', 'America’s', 'tip,', 'Coviello,', 'cornmeal.', 'threat,', 'Congo,', 'photovoltaic-wind']\n"
          ],
          "name": "stdout"
        }
      ]
    },
    {
      "cell_type": "markdown",
      "metadata": {
        "id": "8_Z4Zfoycf_g"
      },
      "source": [
        "I have to do some preprocessing of the data in order to remove some out of vocabulary terms: \n",
        "\n",
        "1. remove punctuation\n",
        "2. lower "
      ]
    },
    {
      "cell_type": "code",
      "metadata": {
        "colab": {
          "base_uri": "https://localhost:8080/"
        },
        "id": "kdl2d03YcYYl",
        "outputId": "b9484d8a-92ef-4116-c231-34e3ff8658a8"
      },
      "source": [
        "# I tried also to remove stopwords but this was not usefull\n",
        "def remove_stopwords(phrase: str, original_term: str):\n",
        "  tokens = phrase.split(\" \")\n",
        "  tokens = [token for token in tokens if (token == original_term or not token in stopwords.words()) ]\n",
        "\n",
        "  return (\" \").join(tokens)\n",
        "\n",
        "# preprocess a single phrase by removing punctuation and lowerize it\n",
        "def preprocess_phrase(sentence:str, start:int, end:int):\n",
        "  # get the original target term\n",
        "  original_term = sentence[start:end].lower()\n",
        "  \n",
        "  # replace punctuation with space\n",
        "  sentence = re.sub(r\"[()\\\",\\-—.;/:@<>#?!&$“”'’`–%\\[\\]−]+\", \" \", sentence) \n",
        "  # remove extra space\n",
        "  sentence = re.sub(r\"\\s+\", \" \", sentence)\n",
        "  sentence = sentence.replace(\"'s\", \" 's\")\n",
        "  # strip and lowerize the obtained sentence\n",
        "  sentence = sentence.strip().lower()\n",
        "  \n",
        "  # get the new position of the target term\n",
        "  start_n = sentence.find(original_term)\n",
        "  end_n = start_n + len(original_term)\n",
        "\n",
        "  # check that the position is correct\n",
        "  assert original_term == sentence[start_n:end_n] \n",
        "\n",
        "  return sentence, start_n, end_n\n",
        "\n",
        "def preprocessing(entries: List[Dict])-> List[Dict]:\n",
        "  preprocessed = []\n",
        "  for entry in entries:\n",
        "    \n",
        "    # get preprocessed phrase and the position of the target term\n",
        "    sentence1, start1, end1 = preprocess_phrase(entry[\"sentence1\"], int(entry[\"start1\"]), int(entry[\"end1\"]))\n",
        "    sentence2, start2, end2 = preprocess_phrase(entry[\"sentence2\"], int(entry[\"start2\"]), int(entry[\"end2\"]))\n",
        "    \n",
        "    # copy the entry and replace senteces and positions of the target terms\n",
        "    # in both the phrases\n",
        "    preprocessed_entry = entry.copy()\n",
        "    preprocessed_entry[\"sentence1\"] = sentence1\n",
        "    preprocessed_entry[\"sentence2\"] = sentence2\n",
        "    preprocessed_entry[\"start1\"] = start1\n",
        "    preprocessed_entry[\"end1\"] = end1\n",
        "    preprocessed_entry[\"start2\"] = start2\n",
        "    preprocessed_entry[\"end2\"] = end2\n",
        "    \n",
        "    preprocessed.append(preprocessed_entry)\n",
        "\n",
        "  return preprocessed\n",
        "\n",
        "# get the new train and dev datasets\n",
        "train_n, dev_n = preprocessing(train), preprocessing(dev)\n",
        "\n",
        "check_oovs(train_n, dev_n, embeddings)"
      ],
      "execution_count": null,
      "outputs": [
        {
          "output_type": "stream",
          "text": [
            "2084\n",
            "['sadda', '000ya', 'horatii', 'millerton', 'lutetia', 'lactifluorum', 'harten', 'keywind', 'weimer', 'pngdf', 'agnihotri', 'licentiats', 'manualizing', 'laurin', 'babangida', 'artrave', 'brington', 'gefion', '£150', 'dembinski']\n",
            "195\n",
            "['kurahashi', 'weidinger', 'chuprene', 'gilfoyle', 'wanuku', 'koina', 'ickes', 'wyatville', 'panagyurishte', 'leuta', 'lamoka', 'masri', 'cobergher', 'ghamidi', 'kratochvílová', 'nuciferine', 'ayrton', 'muldowney', 'starkwedder', 'novembergruppe']\n"
          ],
          "name": "stdout"
        }
      ]
    },
    {
      "cell_type": "markdown",
      "metadata": {
        "id": "kFWxa0YYYnPI"
      },
      "source": [
        "As we can see from the precedent part we have removed the majority of oovs by removing punctuation and applying lower() to the entire phrase"
      ]
    },
    {
      "cell_type": "code",
      "metadata": {
        "id": "ZWwW9W3n57F3"
      },
      "source": [
        "STOPWORDS = stopwords.words()\n",
        "# weight used when computing the avg of the embeddings of the phrase for the stopwords\n",
        "STOPWORDS_WEIGHT = 0.1\n",
        "# function that associates phrase to phrase embedding given an embedding and the\n",
        "# target term\n",
        "def phrase2vector(phrase: str, embeddings: dict, lemma:str):\n",
        "  # split the phrase into tokens\n",
        "  terms = phrase.split(\" \")\n",
        "  # start the phrase embedding as a zero tensor\n",
        "  sum = torch.zeros(EMBEDDING_DIMENSION)\n",
        "\n",
        "  # n -> num of non zero embeddings\n",
        "  n = 0\n",
        "  for term in terms:\n",
        "    if (term in embeddings):\n",
        "      # get the embedding of the term\n",
        "      emb = embeddings[term]\n",
        "      # update the counter of non zero embeddings\n",
        "      n += 1\n",
        "      # update the sum of embeddings of the phrase \n",
        "      # the target term is weighted with WEIGHT\n",
        "      # the stopwords also are weighted with STOPWORDS_WEIGHT\n",
        "      # the other term have weight = 1\n",
        "      sum = sum + WEIGHT*emb if term == lemma else (sum + STOPWORDS_WEIGHT*emb if term in STOPWORDS else sum + emb)\n",
        "\n",
        "    # in order to avoid possible errors in test phase\n",
        "    # (for train and dev data is not necessary)\n",
        "    n = 1 if n == 0 else n \n",
        "  return sum/n"
      ],
      "execution_count": null,
      "outputs": []
    },
    {
      "cell_type": "code",
      "metadata": {
        "id": "nlTcWvBQ73Nw"
      },
      "source": [
        "class PhraseDataset(Dataset):\n",
        "\n",
        "    def __init__(self, dataset: list, feature_extraction_function: Callable[[str], torch.tensor], embeddings: dict):\n",
        "        \n",
        "        self.embeddings = embeddings\n",
        "        self.dataset = dataset\n",
        "        self.feature_extraction_function = feature_extraction_function\n",
        "        # initialize the data\n",
        "        self.__init_data()\n",
        "\n",
        "\n",
        "    def __init_data(self):\n",
        "        self.samples = []\n",
        "        for entry in self.dataset:\n",
        "          # for each entry in the dataset get the target term\n",
        "          term_1 = entry[\"sentence1\"][entry[\"start1\"]: entry[\"end1\"]]\n",
        "          term_2 = entry[\"sentence2\"][entry[\"start2\"]: entry[\"end2\"]]\n",
        "\n",
        "          # get the embeddings of the phrases\n",
        "          emb_1 = self.feature_extraction_function(entry[\"sentence1\"], self.embeddings, term_1)\n",
        "          emb_2 = self.feature_extraction_function(entry[\"sentence2\"], self.embeddings, term_2)\n",
        "          \n",
        "          # build the data sample as a tuple containing \n",
        "          # 1) a tuple with the two embeddings of the sentences\n",
        "          # 2) the label\n",
        "          data = ((emb_1, emb_2), float(1) if entry[\"label\"] == \"True\" else float(0))\n",
        "\n",
        "          # append the sample\n",
        "          self.samples.append(data)\n",
        "          \n",
        "    def __len__(self):\n",
        "        # returns the number of samples in our dataset\n",
        "      return len(self.samples)\n",
        "\n",
        "    def __getitem__(self, idx):\n",
        "        # returns the idx-th sample\n",
        "        return self.samples[idx]"
      ],
      "execution_count": null,
      "outputs": []
    },
    {
      "cell_type": "code",
      "metadata": {
        "id": "rjEZuqVz9FBj"
      },
      "source": [
        "# create the Dataset objects for train and dev datasets\n",
        "train_dataset = PhraseDataset(train_n, phrase2vector, embeddings)\n",
        "dev_dataset = PhraseDataset(dev_n, phrase2vector, embeddings)"
      ],
      "execution_count": null,
      "outputs": []
    },
    {
      "cell_type": "code",
      "metadata": {
        "id": "_bC7UB6N9ZNs",
        "colab": {
          "base_uri": "https://localhost:8080/"
        },
        "outputId": "409c4f60-9327-441a-8fd7-fee7bdd82e3e"
      },
      "source": [
        "# create the dataloader objects for train and test with batch size to BATCH_SIZE\n",
        "train_dataloader = DataLoader(train_dataset, batch_size=BATCH_SIZE, shuffle=True)\n",
        "dev_dataloader = DataLoader(dev_dataset, batch_size=BATCH_SIZE)\n",
        "\n",
        "# see the structure of a sample from the dataloader\n",
        "for batch in train_dataloader:\n",
        "    \n",
        "    batch_x, batch_y = batch\n",
        "    print(f\"# batch len: {len(batch_x)}\")\n",
        "    print(f\"# batch x[0] shape: \\n{batch_x[0].shape}\")\n",
        "    print(f\"# batch x[1] shape: \\n{batch_x[1].shape}\")\n",
        "\n",
        "    print(f\"# batch y shape: \\n{batch_y.shape}\")\n",
        "    break"
      ],
      "execution_count": null,
      "outputs": [
        {
          "output_type": "stream",
          "text": [
            "# batch len: 2\n",
            "# batch x[0] shape: \n",
            "torch.Size([300, 300])\n",
            "# batch x[1] shape: \n",
            "torch.Size([300, 300])\n",
            "# batch y shape: \n",
            "torch.Size([300])\n"
          ],
          "name": "stdout"
        }
      ]
    },
    {
      "cell_type": "markdown",
      "metadata": {
        "id": "0pJ8KIBkoM1S"
      },
      "source": [
        "# Train"
      ]
    },
    {
      "cell_type": "code",
      "metadata": {
        "id": "kLUEgorh_i5U"
      },
      "source": [
        "# method to save the model \n",
        "def save_model(model: nn.Module, path:str):\n",
        "  torch.save(model.state_dict(), path)"
      ],
      "execution_count": null,
      "outputs": []
    },
    {
      "cell_type": "code",
      "metadata": {
        "id": "YPIYd9X2PW49"
      },
      "source": [
        "# method to train and evaluate\n",
        "def train_and_evaluate(\n",
        "    model: nn.Module,\n",
        "    optimizer: torch.optim.Optimizer,\n",
        "    train_dataloader: DataLoader,\n",
        "    epochs: int = 50,\n",
        "    dev_dataloader: DataLoader = None,\n",
        "    dev_fn: Callable = None,\n",
        "    verbose: bool = True,\n",
        "):\n",
        "    # history\n",
        "    train_loss = []\n",
        "    dev_losses = []\n",
        "    dev_accs = []\n",
        "    train_accs = []\n",
        "\n",
        "    # current value of patience\n",
        "    patience = 0\n",
        "    for epoch in range(epochs):\n",
        "        # put the model in train mode so that we activate the dropout\n",
        "        model.train()\n",
        "        # store the losses and the accs over the several batches in this epoch\n",
        "        losses = []\n",
        "        accs = []\n",
        "\n",
        "        # for each batch\n",
        "        for x, y in train_dataloader:\n",
        "            # reset the gradient of the optimizer\n",
        "            optimizer.zero_grad()\n",
        "            # batch_out is a dictionary with loss and acc keys\n",
        "            batch_out = model(x[0], x[1], y.float())\n",
        "            loss = batch_out[\"loss\"]\n",
        "            acc = batch_out[\"acc\"]\n",
        "            # store the acc and the loss\n",
        "            losses.append(loss)\n",
        "            accs.append(acc)\n",
        "\n",
        "            # computes the gradient of the loss\n",
        "            loss.backward()\n",
        "          \n",
        "            # updates parameters based on the gradient information\n",
        "            optimizer.step()\n",
        "\n",
        "        model.global_epoch += 1\n",
        "        # mean loss and acc in the epoch\n",
        "        mean_loss = sum(losses) / len(losses)\n",
        "        mean_acc = sum(accs) / len(accs)\n",
        "        \n",
        "        # store the mean loss and acc\n",
        "        train_loss.append(mean_loss.item())\n",
        "        train_accs.append(mean_acc.item())\n",
        "        \n",
        "        if verbose or epoch == epochs - 1:\n",
        "            print(f\"\\tEpoch\\t{model.global_epoch:3d} => Loss: {mean_loss:0.6f}\")\n",
        "        \n",
        "        if dev_dataloader and dev_fn is not None:\n",
        "            \n",
        "            # put the model in evaluating mode\n",
        "            model.eval()\n",
        "            # evaluate the model over the development set\n",
        "            dev_output = dev_fn(model, dev_dataloader)\n",
        "            # get acc and loss\n",
        "            dev_loss_value = dev_output[\"loss\"]\n",
        "            dev_acc_value = dev_output[\"acc\"]\n",
        "            # if the loss is higher than the minimun dev loss stored, increase \n",
        "            # patience level, otherwise reset it \n",
        "            if (len(dev_losses) > 0 and dev_loss_value > min(dev_losses)):\n",
        "              patience += 1\n",
        "            else:\n",
        "              # save the best model (it will be overwritten when I arrive to a \n",
        "              # lower loss value\n",
        "              save_model(model, f\"{FILE_NAME}.pt\")\n",
        "              patience = 0\n",
        "            \n",
        "            # save dev loss and acc\n",
        "            dev_losses.append(dev_loss_value)\n",
        "            dev_accs.append(dev_acc_value)\n",
        "\n",
        "            # info prints\n",
        "            print(f\"\\t\\tDevelopment => Loss: {dev_loss_value:0.6f}\")\n",
        "            print(f\"\\t\\tDevelopment => Acc: {dev_acc_value:0.6f}\")\n",
        "            print()\n",
        "\n",
        "            # early stopping\n",
        "            if (patience > PATIENCE):\n",
        "              print(\"EARLY STOPPING\")\n",
        "              break \n",
        "    \n",
        "    return {\"train\": train_loss, \"dev\":dev_losses, \"dev_accs\":dev_accs, \"train_accs\": train_accs}"
      ],
      "execution_count": null,
      "outputs": []
    },
    {
      "cell_type": "code",
      "metadata": {
        "id": "UkKXPoS4cOEo"
      },
      "source": [
        "class Classifier(torch.nn.Module):\n",
        "\n",
        "    def __init__(self, \n",
        "                 n_features: int, \n",
        "                 n_hidden1: int, \n",
        "                 n_hidden2: int, \n",
        "                 dropout:float):\n",
        "        super().__init__()\n",
        "        # the first linear layer is shared among the emebeddings of the two sentences\n",
        "        self.lin1 = torch.nn.Linear(n_features, n_hidden1)\n",
        "        # second lienar layer\n",
        "        self.lin2 = torch.nn.Linear(n_hidden1, n_hidden2)\n",
        "        # third one that creates the output\n",
        "        self.lin3 = torch.nn.Linear(n_hidden2, 1)\n",
        "        # dropout\n",
        "        self.drop = torch.nn.Dropout(dropout)\n",
        "        # batch normalization\n",
        "        self.bn1 = nn.BatchNorm1d(num_features=n_hidden1)\n",
        "        self.bn2 = nn.BatchNorm1d(num_features=n_hidden2)\n",
        "\n",
        "        self.loss_fn = torch.nn.BCELoss()\n",
        "        self.global_epoch = 0\n",
        "    def forward(self, ph1: torch.Tensor, ph2: torch.Tensor, y: Optional[torch.Tensor] = None) -> Dict:\n",
        "        \n",
        "        # the embeddings of the two phrases pass through the same linear layer\n",
        "        # so that changing the order of the sentences does not change the result\n",
        "        out1 = self.lin1(ph1)\n",
        "        out1 = torch.relu(out1)\n",
        "        # I use the batch normalization in order to speed up the learning\n",
        "        out1 = self.bn1(out1)\n",
        "\n",
        "        out2 = self.lin1(ph2)\n",
        "        out2 = torch.relu(out2)\n",
        "        out2 = self.bn1(out2)\n",
        "\n",
        "\n",
        "        # element wise product of the two matrices\n",
        "        # in order to merge the results of the first linear layer\n",
        "        # of the two sentence embedding\n",
        "        out = out1*out2    \n",
        "\n",
        "        # fc layer with dropout\n",
        "        res = self.lin2(out)\n",
        "        res = torch.relu(res)\n",
        "        res = self.drop(res)\n",
        "        \n",
        "        res = self.lin3(res)\n",
        "        # pass results in 0-1 range\n",
        "        res = torch.sigmoid(res)\n",
        "        \n",
        "        # remove a dimension\n",
        "        res = res.squeeze()\n",
        "\n",
        "        # save the predictions in order to return it\n",
        "        result = {\"pred\": res}\n",
        "\n",
        "        # compute loss and acc\n",
        "        if y is not None:\n",
        "            loss = self.loss(res, y)\n",
        "            result[\"loss\"] = loss\n",
        "            result[\"acc\"] = (torch.round(res) == y).float().sum()/len(y)\n",
        "            result[\"correct\"] = (torch.round(res) == y).float().sum()\n",
        "\n",
        "        return result\n",
        "\n",
        "    def loss(self, pred, y):\n",
        "        return self.loss_fn(pred, y)\n"
      ],
      "execution_count": null,
      "outputs": []
    },
    {
      "cell_type": "code",
      "metadata": {
        "id": "EVWWFQ_GzWtS"
      },
      "source": [
        "@torch.no_grad()\n",
        "def evaluate(\n",
        "    model: nn.Module,\n",
        "    dataloader: DataLoader,\n",
        "):\n",
        "    losses = []\n",
        "    accs = []\n",
        "    size = 0\n",
        "    for x, y in dataloader:\n",
        "        # get the number of elements in the batch (it is not constant since the \n",
        "        # number of examples is not a multiple of BATCH_SIZE, so the last batch\n",
        "        # will be smaller)\n",
        "        size += len(y)\n",
        "        outputs = model(x[0], x[1], y.float())\n",
        "        # get loss and acc\n",
        "        loss = outputs[\"loss\"]\n",
        "        losses.append(loss*len(y))\n",
        "        \n",
        "        # in acc I store the number of correct elements predicted\n",
        "        # so that I can than sum all the values and obtain the accuracy on the \n",
        "        # set by dividing for the number of elements tested \n",
        "        accs.append(outputs[\"correct\"])\n",
        "\n",
        "    # get mean acc and mean loss\n",
        "    mean_acc = sum(accs)/size\n",
        "    mean_loss = sum(losses) / size\n",
        "    return {\n",
        "        \"loss\": mean_loss,\n",
        "        \"acc\": mean_acc,\n",
        "    }"
      ],
      "execution_count": null,
      "outputs": []
    },
    {
      "cell_type": "code",
      "metadata": {
        "colab": {
          "base_uri": "https://localhost:8080/"
        },
        "id": "cEBQeC199ojj",
        "outputId": "a28d03ab-da26-474b-ebf4-3237736df3bf"
      },
      "source": [
        "# preproducibility\n",
        "torch.manual_seed(SEED)\n",
        "torch.use_deterministic_algorithms(True)\n",
        "\n",
        "model = Classifier(EMBEDDING_DIMENSION, n_hidden1=512, n_hidden2=256, dropout=0.5)\n",
        "\n",
        "# define the adam optimizer \n",
        "optimizer = torch.optim.Adam(model.parameters(), lr=LR)\n",
        "\n",
        "scores = train_and_evaluate(model, optimizer, train_dataloader, epochs=2_000, dev_dataloader=dev_dataloader, dev_fn=evaluate)"
      ],
      "execution_count": null,
      "outputs": [
        {
          "output_type": "stream",
          "text": [
            "\tEpoch\t  1 => Loss: 0.701717\n",
            "\t\tDevelopment => Loss: 0.693396\n",
            "\t\tDevelopment => Acc: 0.500000\n",
            "\n",
            "\tEpoch\t  2 => Loss: 0.695418\n",
            "\t\tDevelopment => Loss: 0.691387\n",
            "\t\tDevelopment => Acc: 0.521000\n",
            "\n",
            "\tEpoch\t  3 => Loss: 0.689132\n",
            "\t\tDevelopment => Loss: 0.687830\n",
            "\t\tDevelopment => Acc: 0.531000\n",
            "\n",
            "\tEpoch\t  4 => Loss: 0.684457\n",
            "\t\tDevelopment => Loss: 0.681930\n",
            "\t\tDevelopment => Acc: 0.554000\n",
            "\n",
            "\tEpoch\t  5 => Loss: 0.681218\n",
            "\t\tDevelopment => Loss: 0.677486\n",
            "\t\tDevelopment => Acc: 0.573000\n",
            "\n",
            "\tEpoch\t  6 => Loss: 0.676395\n",
            "\t\tDevelopment => Loss: 0.673524\n",
            "\t\tDevelopment => Acc: 0.594000\n",
            "\n",
            "\tEpoch\t  7 => Loss: 0.673380\n",
            "\t\tDevelopment => Loss: 0.669192\n",
            "\t\tDevelopment => Acc: 0.620000\n",
            "\n",
            "\tEpoch\t  8 => Loss: 0.672398\n",
            "\t\tDevelopment => Loss: 0.665931\n",
            "\t\tDevelopment => Acc: 0.636000\n",
            "\n",
            "\tEpoch\t  9 => Loss: 0.669116\n",
            "\t\tDevelopment => Loss: 0.662090\n",
            "\t\tDevelopment => Acc: 0.641000\n",
            "\n",
            "\tEpoch\t 10 => Loss: 0.665197\n",
            "\t\tDevelopment => Loss: 0.658890\n",
            "\t\tDevelopment => Acc: 0.650000\n",
            "\n",
            "\tEpoch\t 11 => Loss: 0.661557\n",
            "\t\tDevelopment => Loss: 0.656046\n",
            "\t\tDevelopment => Acc: 0.651000\n",
            "\n",
            "\tEpoch\t 12 => Loss: 0.658995\n",
            "\t\tDevelopment => Loss: 0.653903\n",
            "\t\tDevelopment => Acc: 0.652000\n",
            "\n",
            "\tEpoch\t 13 => Loss: 0.659280\n",
            "\t\tDevelopment => Loss: 0.651095\n",
            "\t\tDevelopment => Acc: 0.651000\n",
            "\n",
            "\tEpoch\t 14 => Loss: 0.654518\n",
            "\t\tDevelopment => Loss: 0.648627\n",
            "\t\tDevelopment => Acc: 0.651000\n",
            "\n",
            "\tEpoch\t 15 => Loss: 0.652388\n",
            "\t\tDevelopment => Loss: 0.646665\n",
            "\t\tDevelopment => Acc: 0.656000\n",
            "\n",
            "\tEpoch\t 16 => Loss: 0.650953\n",
            "\t\tDevelopment => Loss: 0.644364\n",
            "\t\tDevelopment => Acc: 0.661000\n",
            "\n",
            "\tEpoch\t 17 => Loss: 0.648649\n",
            "\t\tDevelopment => Loss: 0.642925\n",
            "\t\tDevelopment => Acc: 0.663000\n",
            "\n",
            "\tEpoch\t 18 => Loss: 0.645584\n",
            "\t\tDevelopment => Loss: 0.641322\n",
            "\t\tDevelopment => Acc: 0.665000\n",
            "\n",
            "\tEpoch\t 19 => Loss: 0.643600\n",
            "\t\tDevelopment => Loss: 0.639248\n",
            "\t\tDevelopment => Acc: 0.664000\n",
            "\n",
            "\tEpoch\t 20 => Loss: 0.643360\n",
            "\t\tDevelopment => Loss: 0.637592\n",
            "\t\tDevelopment => Acc: 0.668000\n",
            "\n",
            "\tEpoch\t 21 => Loss: 0.642115\n",
            "\t\tDevelopment => Loss: 0.635850\n",
            "\t\tDevelopment => Acc: 0.670000\n",
            "\n",
            "\tEpoch\t 22 => Loss: 0.639394\n",
            "\t\tDevelopment => Loss: 0.634886\n",
            "\t\tDevelopment => Acc: 0.671000\n",
            "\n",
            "\tEpoch\t 23 => Loss: 0.636250\n",
            "\t\tDevelopment => Loss: 0.633651\n",
            "\t\tDevelopment => Acc: 0.668000\n",
            "\n",
            "\tEpoch\t 24 => Loss: 0.634138\n",
            "\t\tDevelopment => Loss: 0.631642\n",
            "\t\tDevelopment => Acc: 0.673000\n",
            "\n",
            "\tEpoch\t 25 => Loss: 0.632566\n",
            "\t\tDevelopment => Loss: 0.631289\n",
            "\t\tDevelopment => Acc: 0.670000\n",
            "\n",
            "\tEpoch\t 26 => Loss: 0.631142\n",
            "\t\tDevelopment => Loss: 0.629116\n",
            "\t\tDevelopment => Acc: 0.677000\n",
            "\n",
            "\tEpoch\t 27 => Loss: 0.629015\n",
            "\t\tDevelopment => Loss: 0.628025\n",
            "\t\tDevelopment => Acc: 0.676000\n",
            "\n",
            "\tEpoch\t 28 => Loss: 0.627399\n",
            "\t\tDevelopment => Loss: 0.626846\n",
            "\t\tDevelopment => Acc: 0.677000\n",
            "\n",
            "\tEpoch\t 29 => Loss: 0.624595\n",
            "\t\tDevelopment => Loss: 0.625993\n",
            "\t\tDevelopment => Acc: 0.680000\n",
            "\n",
            "\tEpoch\t 30 => Loss: 0.623939\n",
            "\t\tDevelopment => Loss: 0.624509\n",
            "\t\tDevelopment => Acc: 0.677000\n",
            "\n",
            "\tEpoch\t 31 => Loss: 0.623271\n",
            "\t\tDevelopment => Loss: 0.623994\n",
            "\t\tDevelopment => Acc: 0.678000\n",
            "\n",
            "\tEpoch\t 32 => Loss: 0.619384\n",
            "\t\tDevelopment => Loss: 0.623257\n",
            "\t\tDevelopment => Acc: 0.680000\n",
            "\n",
            "\tEpoch\t 33 => Loss: 0.618886\n",
            "\t\tDevelopment => Loss: 0.621951\n",
            "\t\tDevelopment => Acc: 0.680000\n",
            "\n",
            "\tEpoch\t 34 => Loss: 0.616276\n",
            "\t\tDevelopment => Loss: 0.620558\n",
            "\t\tDevelopment => Acc: 0.682000\n",
            "\n",
            "\tEpoch\t 35 => Loss: 0.614106\n",
            "\t\tDevelopment => Loss: 0.620280\n",
            "\t\tDevelopment => Acc: 0.684000\n",
            "\n",
            "\tEpoch\t 36 => Loss: 0.612758\n",
            "\t\tDevelopment => Loss: 0.619359\n",
            "\t\tDevelopment => Acc: 0.683000\n",
            "\n",
            "\tEpoch\t 37 => Loss: 0.611112\n",
            "\t\tDevelopment => Loss: 0.617738\n",
            "\t\tDevelopment => Acc: 0.687000\n",
            "\n",
            "\tEpoch\t 38 => Loss: 0.609679\n",
            "\t\tDevelopment => Loss: 0.617622\n",
            "\t\tDevelopment => Acc: 0.686000\n",
            "\n",
            "\tEpoch\t 39 => Loss: 0.606310\n",
            "\t\tDevelopment => Loss: 0.618210\n",
            "\t\tDevelopment => Acc: 0.687000\n",
            "\n",
            "\tEpoch\t 40 => Loss: 0.605131\n",
            "\t\tDevelopment => Loss: 0.616712\n",
            "\t\tDevelopment => Acc: 0.686000\n",
            "\n",
            "\tEpoch\t 41 => Loss: 0.602848\n",
            "\t\tDevelopment => Loss: 0.615390\n",
            "\t\tDevelopment => Acc: 0.686000\n",
            "\n",
            "\tEpoch\t 42 => Loss: 0.602331\n",
            "\t\tDevelopment => Loss: 0.614838\n",
            "\t\tDevelopment => Acc: 0.686000\n",
            "\n",
            "\tEpoch\t 43 => Loss: 0.602137\n",
            "\t\tDevelopment => Loss: 0.613218\n",
            "\t\tDevelopment => Acc: 0.686000\n",
            "\n",
            "\tEpoch\t 44 => Loss: 0.598876\n",
            "\t\tDevelopment => Loss: 0.612946\n",
            "\t\tDevelopment => Acc: 0.689000\n",
            "\n",
            "\tEpoch\t 45 => Loss: 0.597492\n",
            "\t\tDevelopment => Loss: 0.613294\n",
            "\t\tDevelopment => Acc: 0.690000\n",
            "\n",
            "\tEpoch\t 46 => Loss: 0.597106\n",
            "\t\tDevelopment => Loss: 0.611269\n",
            "\t\tDevelopment => Acc: 0.692000\n",
            "\n",
            "\tEpoch\t 47 => Loss: 0.594887\n",
            "\t\tDevelopment => Loss: 0.612229\n",
            "\t\tDevelopment => Acc: 0.693000\n",
            "\n",
            "\tEpoch\t 48 => Loss: 0.592014\n",
            "\t\tDevelopment => Loss: 0.612352\n",
            "\t\tDevelopment => Acc: 0.691000\n",
            "\n",
            "\tEpoch\t 49 => Loss: 0.591043\n",
            "\t\tDevelopment => Loss: 0.608235\n",
            "\t\tDevelopment => Acc: 0.691000\n",
            "\n",
            "\tEpoch\t 50 => Loss: 0.588859\n",
            "\t\tDevelopment => Loss: 0.610653\n",
            "\t\tDevelopment => Acc: 0.692000\n",
            "\n",
            "\tEpoch\t 51 => Loss: 0.587069\n",
            "\t\tDevelopment => Loss: 0.609848\n",
            "\t\tDevelopment => Acc: 0.693000\n",
            "\n",
            "\tEpoch\t 52 => Loss: 0.586245\n",
            "\t\tDevelopment => Loss: 0.613602\n",
            "\t\tDevelopment => Acc: 0.691000\n",
            "\n",
            "\tEpoch\t 53 => Loss: 0.585289\n",
            "\t\tDevelopment => Loss: 0.611225\n",
            "\t\tDevelopment => Acc: 0.690000\n",
            "\n",
            "\tEpoch\t 54 => Loss: 0.583194\n",
            "\t\tDevelopment => Loss: 0.609306\n",
            "\t\tDevelopment => Acc: 0.692000\n",
            "\n",
            "\tEpoch\t 55 => Loss: 0.580449\n",
            "\t\tDevelopment => Loss: 0.609800\n",
            "\t\tDevelopment => Acc: 0.691000\n",
            "\n",
            "\tEpoch\t 56 => Loss: 0.577350\n",
            "\t\tDevelopment => Loss: 0.610065\n",
            "\t\tDevelopment => Acc: 0.692000\n",
            "\n",
            "\tEpoch\t 57 => Loss: 0.578428\n",
            "\t\tDevelopment => Loss: 0.609509\n",
            "\t\tDevelopment => Acc: 0.696000\n",
            "\n",
            "\tEpoch\t 58 => Loss: 0.575007\n",
            "\t\tDevelopment => Loss: 0.609802\n",
            "\t\tDevelopment => Acc: 0.694000\n",
            "\n",
            "\tEpoch\t 59 => Loss: 0.573559\n",
            "\t\tDevelopment => Loss: 0.606530\n",
            "\t\tDevelopment => Acc: 0.696000\n",
            "\n",
            "\tEpoch\t 60 => Loss: 0.572099\n",
            "\t\tDevelopment => Loss: 0.605267\n",
            "\t\tDevelopment => Acc: 0.694000\n",
            "\n",
            "\tEpoch\t 61 => Loss: 0.569111\n",
            "\t\tDevelopment => Loss: 0.609393\n",
            "\t\tDevelopment => Acc: 0.693000\n",
            "\n",
            "\tEpoch\t 62 => Loss: 0.569845\n",
            "\t\tDevelopment => Loss: 0.606762\n",
            "\t\tDevelopment => Acc: 0.698000\n",
            "\n",
            "\tEpoch\t 63 => Loss: 0.566541\n",
            "\t\tDevelopment => Loss: 0.606186\n",
            "\t\tDevelopment => Acc: 0.694000\n",
            "\n",
            "\tEpoch\t 64 => Loss: 0.564385\n",
            "\t\tDevelopment => Loss: 0.607332\n",
            "\t\tDevelopment => Acc: 0.700000\n",
            "\n",
            "\tEpoch\t 65 => Loss: 0.563715\n",
            "\t\tDevelopment => Loss: 0.606780\n",
            "\t\tDevelopment => Acc: 0.704000\n",
            "\n",
            "\tEpoch\t 66 => Loss: 0.561124\n",
            "\t\tDevelopment => Loss: 0.603368\n",
            "\t\tDevelopment => Acc: 0.700000\n",
            "\n",
            "\tEpoch\t 67 => Loss: 0.560145\n",
            "\t\tDevelopment => Loss: 0.608495\n",
            "\t\tDevelopment => Acc: 0.700000\n",
            "\n",
            "\tEpoch\t 68 => Loss: 0.558186\n",
            "\t\tDevelopment => Loss: 0.604581\n",
            "\t\tDevelopment => Acc: 0.709000\n",
            "\n",
            "\tEpoch\t 69 => Loss: 0.556240\n",
            "\t\tDevelopment => Loss: 0.606005\n",
            "\t\tDevelopment => Acc: 0.703000\n",
            "\n",
            "\tEpoch\t 70 => Loss: 0.554068\n",
            "\t\tDevelopment => Loss: 0.605027\n",
            "\t\tDevelopment => Acc: 0.702000\n",
            "\n",
            "\tEpoch\t 71 => Loss: 0.553019\n",
            "\t\tDevelopment => Loss: 0.607218\n",
            "\t\tDevelopment => Acc: 0.703000\n",
            "\n",
            "\tEpoch\t 72 => Loss: 0.550188\n",
            "\t\tDevelopment => Loss: 0.606076\n",
            "\t\tDevelopment => Acc: 0.703000\n",
            "\n",
            "\tEpoch\t 73 => Loss: 0.550001\n",
            "\t\tDevelopment => Loss: 0.604055\n",
            "\t\tDevelopment => Acc: 0.705000\n",
            "\n",
            "\tEpoch\t 74 => Loss: 0.547848\n",
            "\t\tDevelopment => Loss: 0.605680\n",
            "\t\tDevelopment => Acc: 0.708000\n",
            "\n",
            "\tEpoch\t 75 => Loss: 0.545150\n",
            "\t\tDevelopment => Loss: 0.605261\n",
            "\t\tDevelopment => Acc: 0.708000\n",
            "\n",
            "\tEpoch\t 76 => Loss: 0.544574\n",
            "\t\tDevelopment => Loss: 0.605720\n",
            "\t\tDevelopment => Acc: 0.708000\n",
            "\n",
            "\tEpoch\t 77 => Loss: 0.542375\n",
            "\t\tDevelopment => Loss: 0.608799\n",
            "\t\tDevelopment => Acc: 0.710000\n",
            "\n",
            "EARLY STOPPING\n"
          ],
          "name": "stdout"
        }
      ]
    },
    {
      "cell_type": "code",
      "metadata": {
        "colab": {
          "base_uri": "https://localhost:8080/",
          "height": 791
        },
        "id": "XEtcaN86dGuz",
        "outputId": "284e9d1c-25c3-4b83-ce1b-53ed53e5a5f0"
      },
      "source": [
        "def plot_logs(logs: dict):\n",
        "    # define the figure\n",
        "    plt.figure(figsize=(8,6))\n",
        "\n",
        "    # define the two sequences that we want to show\n",
        "    plt.plot(list(range(len(logs['train']))), logs['train'], label='Train loss')\n",
        "    plt.plot(list(range(len(logs['dev']))), logs['dev'], label='Dev loss')\n",
        "    \n",
        "    # set title and axis name\n",
        "    plt.title(\"Losses\")\n",
        "    plt.xlabel('Epochs')\n",
        "    plt.ylabel('Loss')\n",
        "    plt.legend(loc=\"upper right\")\n",
        "\n",
        "    plt.show()\n",
        "\n",
        "    # as before but for the accs\n",
        "    plt.figure(figsize=(8,6))\n",
        "    plt.plot(list(range(len(logs['train_accs']))), logs['train_accs'], label='Train acc')\n",
        "    plt.plot(list(range(len(logs['dev_accs']))), logs['dev_accs'], label='Dev acc')\n",
        "    \n",
        "    plt.title(\"Accs\")\n",
        "    plt.xlabel('Epochs')\n",
        "    plt.ylabel('Acc')\n",
        "    plt.legend(loc=\"upper right\")\n",
        "\n",
        "    plt.show()\n",
        "\n",
        "plot_logs(scores)"
      ],
      "execution_count": null,
      "outputs": [
        {
          "output_type": "display_data",
          "data": {
            "image/png": "[encoded data removed]",
            "text/plain": [
              "<Figure size 576x432 with 1 Axes>"
            ]
          },
          "metadata": {
            "tags": [],
            "needs_background": "light"
          }
        },
        {
          "output_type": "display_data",
          "data": {
            "image/png": "[encoded data removed]",
            "text/plain": [
              "<Figure size 576x432 with 1 Axes>"
            ]
          },
          "metadata": {
            "tags": [],
            "needs_background": "light"
          }
        }
      ]
    },
    {
      "cell_type": "code",
      "metadata": {
        "id": "SieOoGg0jih_"
      },
      "source": [
        "from sklearn.metrics import confusion_matrix\n",
        "import seaborn as sn\n",
        "import pandas as pd\n",
        "from matplotlib import pyplot\n",
        "from sklearn.metrics import roc_curve\n",
        "from sklearn.metrics import roc_auc_score\n",
        "\n",
        "@torch.no_grad()\n",
        "def plots(\n",
        "    model: nn.Module,\n",
        "    dataloader: DataLoader,\n",
        "):\n",
        "    accs = []\n",
        "    preds = torch.tensor([])\n",
        "    gt = torch.tensor([])\n",
        "    size = 0\n",
        "    for x, y in dataloader:\n",
        "        # get the number of elements in the batch (it is not constant since the \n",
        "        # number of examples is not a multiple of BATCH_SIZE, so the last batch\n",
        "        # will be smaller)\n",
        "        size += len(y)\n",
        "        outputs = model(x[0], x[1], y.float())\n",
        "        preds = torch.hstack((preds, outputs[\"pred\"]))\n",
        "        gt = torch.hstack((gt, y))\n",
        "        accs.append(outputs[\"correct\"])\n",
        "\n",
        "    # get mean acc and mean loss\n",
        "    mean_acc = sum(accs)/size\n",
        "    \n",
        "    # confusion matrix\n",
        "    classes = [\"True\", \"False\"]\n",
        "    cf_matrix = confusion_matrix(gt.cpu().numpy(), torch.round(preds).cpu().numpy())\n",
        "    df_cm = pd.DataFrame(cf_matrix, index = [i for i in classes],\n",
        "                     columns = [i for i in classes])\n",
        "    plt.figure(figsize = (12,7))\n",
        "    sn.heatmap(df_cm, annot=True, cmap='Blues', fmt='g')\n",
        "    plt.savefig('output.png')\n",
        "    plt.show()\n",
        "\n",
        "    print()\n",
        "\n",
        "    # roc curve and score\n",
        "    roc_score = roc_auc_score(gt.cpu().numpy(), preds.cpu().numpy())\n",
        "    fpr, tpr, _ = roc_curve(gt.cpu().numpy(), preds.cpu().numpy())\n",
        "\n",
        "    # plot the roc curve for the model\n",
        "    pyplot.plot(fpr, tpr, marker='.', label='ROC AUC=%.3f' % (roc_score))\n",
        "    # axis labels\n",
        "    pyplot.xlabel('False Positive Rate')\n",
        "    pyplot.ylabel('True Positive Rate')\n",
        "    pyplot.legend()\n",
        "    # show the plot\n",
        "    pyplot.show()"
      ],
      "execution_count": null,
      "outputs": []
    },
    {
      "cell_type": "code",
      "metadata": {
        "id": "9FYjFbueZMoU",
        "colab": {
          "base_uri": "https://localhost:8080/",
          "height": 707
        },
        "outputId": "8735ed8f-cc2e-4c9e-b6d3-1f992fc93fa9"
      },
      "source": [
        "model = Classifier(EMBEDDING_DIMENSION, n_hidden1=512, n_hidden2=256, dropout=0.5)\n",
        "model.load_state_dict(torch.load(f\"{FILE_NAME}.pt\"))\n",
        "model.eval()\n",
        "\n",
        "plots(model, dev_dataloader)"
      ],
      "execution_count": null,
      "outputs": [
        {
          "output_type": "display_data",
          "data": {
            "image/png": "[encoded data removed]",
            "text/plain": [
              "<Figure size 864x504 with 2 Axes>"
            ]
          },
          "metadata": {
            "tags": [],
            "needs_background": "light"
          }
        },
        {
          "output_type": "stream",
          "text": [
            "\n"
          ],
          "name": "stdout"
        },
        {
          "output_type": "display_data",
          "data": {
            "image/png": "[encoded data removed]",
            "text/plain": [
              "<Figure size 432x288 with 1 Axes>"
            ]
          },
          "metadata": {
            "tags": [],
            "needs_background": "light"
          }
        }
      ]
    },
    {
      "cell_type": "code",
      "metadata": {
        "id": "OmiGag3Ijdnp"
      },
      "source": [],
      "execution_count": null,
      "outputs": []
    }
  ]
}