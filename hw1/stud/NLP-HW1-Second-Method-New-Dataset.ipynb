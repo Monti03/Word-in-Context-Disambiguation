{
  "nbformat": 4,
  "nbformat_minor": 0,
  "metadata": {
    "colab": {
      "name": "New Dataset HW1-RNN-70",
      "provenance": [],
      "collapsed_sections": []
    },
    "kernelspec": {
      "display_name": "Python 3",
      "name": "python3"
    }
  },
  "cells": [
    {
      "cell_type": "markdown",
      "metadata": {
        "id": "DFxNTxGDeVaL"
      },
      "source": [
        "# Preparing the Environment"
      ]
    },
    {
      "cell_type": "code",
      "metadata": {
        "colab": {
          "base_uri": "https://localhost:8080/"
        },
        "id": "YfD_pcyZe0LR",
        "outputId": "1593c933-bc08-46f2-a2ab-76de60f2af1e"
      },
      "source": [
        "# imports\n",
        "import matplotlib.pyplot as plt\n",
        "import numpy as np\n",
        "import json\n",
        "import re\n",
        "\n",
        "from collections import Counter, defaultdict\n",
        "from tqdm.notebook import tqdm\n",
        "from typing import *\n",
        "\n",
        "import nltk.data\n",
        "import nltk\n",
        "from nltk.tokenize import word_tokenize\n",
        "nltk.download('stopwords')\n",
        "nltk.download('punkt')"
      ],
      "execution_count": null,
      "outputs": [
        {
          "output_type": "stream",
          "text": [
            "[nltk_data] Downloading package stopwords to /root/nltk_data...\n",
            "[nltk_data]   Unzipping corpora/stopwords.zip.\n",
            "[nltk_data] Downloading package punkt to /root/nltk_data...\n",
            "[nltk_data]   Unzipping tokenizers/punkt.zip.\n"
          ],
          "name": "stdout"
        },
        {
          "output_type": "execute_result",
          "data": {
            "text/plain": [
              "True"
            ]
          },
          "metadata": {
            "tags": []
          },
          "execution_count": 1
        }
      ]
    },
    {
      "cell_type": "code",
      "metadata": {
        "id": "8VQo_JT08ES3"
      },
      "source": [
        "# pythorch imports\n",
        "import torch\n",
        "\n",
        "from torch import nn\n",
        "from torch.utils.data import Dataset, DataLoader"
      ],
      "execution_count": null,
      "outputs": []
    },
    {
      "cell_type": "code",
      "metadata": {
        "id": "gYraxHPSVeP5"
      },
      "source": [
        "DEVICE = torch.device(\"cuda\" if torch.cuda.is_available() else \"cpu\")\n",
        "# set the device to CPU since GPU  does not increase to much the speed when \n",
        "# using an LSTM\n",
        "DEVICE = \"cpu\""
      ],
      "execution_count": null,
      "outputs": []
    },
    {
      "cell_type": "code",
      "metadata": {
        "id": "CL1tzNUsZRCr"
      },
      "source": [
        "# seed used in order to thave reproducibility\n",
        "SEED = 93\n",
        "\n",
        "# patience in the train\n",
        "PATIENCE = 10\n",
        "\n",
        "# embedding dimension\n",
        "EMBEDDING_DIMENSION = 300\n",
        "\n",
        "\n",
        "LR = 0.000_1\n",
        "BATCH_SIZE = 512 # 512"
      ],
      "execution_count": null,
      "outputs": []
    },
    {
      "cell_type": "code",
      "metadata": {
        "id": "JHY51I6xBdjg"
      },
      "source": [
        "# hanlde preproducibility by setting the seed and deterministic algorithms\n",
        "torch.manual_seed(SEED)\n",
        "torch.use_deterministic_algorithms(True)"
      ],
      "execution_count": null,
      "outputs": []
    },
    {
      "cell_type": "code",
      "metadata": {
        "id": "4XrspF4VBI9A"
      },
      "source": [
        "# get the name of the file (works in colab) I sued it in order to save the \n",
        "# models (since I tried several models each with a different colab file)\n",
        "from requests import get\n",
        "# the below command do not work in local, but works in colab\n",
        "#FILE_NAME = get('http://172.28.0.2:9000/api/sessions').json()[0]['name']\n",
        "FILE_NAME = \"NLP-HW1-Second-Method-New-Dataset\""
      ],
      "execution_count": null,
      "outputs": []
    },
    {
      "cell_type": "code",
      "metadata": {
        "id": "ysMMJkGed1Fu"
      },
      "source": [
        "! rm -rf sample_data"
      ],
      "execution_count": null,
      "outputs": []
    },
    {
      "cell_type": "code",
      "metadata": {
        "colab": {
          "base_uri": "https://localhost:8080/"
        },
        "id": "SoOh8WMjQnLU",
        "outputId": "45f3ab5c-6314-4d84-b369-0308786f2641"
      },
      "source": [
        "# download the datasets\n",
        "! wget https://pilehvar.github.io/xlwic/data/xlwic_datasets.zip"
      ],
      "execution_count": null,
      "outputs": [
        {
          "output_type": "stream",
          "text": [
            "--2021-04-30 14:55:37--  https://pilehvar.github.io/xlwic/data/xlwic_datasets.zip\n",
            "Resolving pilehvar.github.io (pilehvar.github.io)... 185.199.111.153, 185.199.110.153, 185.199.109.153, ...\n",
            "Connecting to pilehvar.github.io (pilehvar.github.io)|185.199.111.153|:443... connected.\n",
            "HTTP request sent, awaiting response... 200 OK\n",
            "Length: 18748158 (18M) [application/zip]\n",
            "Saving to: ‘xlwic_datasets.zip’\n",
            "\n",
            "xlwic_datasets.zip  100%[===================>]  17.88M  77.0MB/s    in 0.2s    \n",
            "\n",
            "2021-04-30 14:55:38 (77.0 MB/s) - ‘xlwic_datasets.zip’ saved [18748158/18748158]\n",
            "\n"
          ],
          "name": "stdout"
        }
      ]
    },
    {
      "cell_type": "code",
      "metadata": {
        "id": "gHHAo2iiGrWz",
        "colab": {
          "base_uri": "https://localhost:8080/"
        },
        "outputId": "61cf08ed-fadd-42fb-f34f-fae8d68e1da3"
      },
      "source": [
        "! unzip /content/xlwic_datasets.zip"
      ],
      "execution_count": null,
      "outputs": [
        {
          "output_type": "stream",
          "text": [
            "Archive:  /content/xlwic_datasets.zip\n",
            "   creating: xlwic_datasets/\n",
            "  inflating: xlwic_datasets/.DS_Store  \n",
            "  inflating: xlwic_datasets/README.txt  \n",
            "   creating: xlwic_datasets/wic_english/\n",
            "  inflating: xlwic_datasets/wic_english/train_en.txt  \n",
            "  inflating: xlwic_datasets/wic_english/valid_en.txt  \n",
            "  inflating: xlwic_datasets/xlwic_scorer.py  \n",
            "   creating: xlwic_datasets/xlwic_wikt/\n",
            "  inflating: xlwic_datasets/xlwic_wikt/.DS_Store  \n",
            "   creating: xlwic_datasets/xlwic_wikt/french_fr/\n",
            "  inflating: xlwic_datasets/xlwic_wikt/french_fr/.DS_Store  \n",
            "   creating: xlwic_datasets/xlwic_wikt/french_fr/IV/\n",
            "  inflating: xlwic_datasets/xlwic_wikt/french_fr/IV/fr_iv_test_data.txt  \n",
            "  inflating: xlwic_datasets/xlwic_wikt/french_fr/IV/fr_iv_test_gold.txt  \n",
            "   creating: xlwic_datasets/xlwic_wikt/french_fr/OOV/\n",
            "  inflating: xlwic_datasets/xlwic_wikt/french_fr/OOV/fr_oov_test_data.txt  \n",
            "  inflating: xlwic_datasets/xlwic_wikt/french_fr/OOV/fr_oov_test_gold.txt  \n",
            "  inflating: xlwic_datasets/xlwic_wikt/french_fr/fr_test_data.txt  \n",
            "  inflating: xlwic_datasets/xlwic_wikt/french_fr/fr_test_gold.txt  \n",
            "  inflating: xlwic_datasets/xlwic_wikt/french_fr/fr_train.txt  \n",
            "  inflating: xlwic_datasets/xlwic_wikt/french_fr/fr_valid.txt  \n",
            "   creating: xlwic_datasets/xlwic_wikt/german_de/\n",
            "  inflating: xlwic_datasets/xlwic_wikt/german_de/.DS_Store  \n",
            "   creating: xlwic_datasets/xlwic_wikt/german_de/IV/\n",
            "  inflating: xlwic_datasets/xlwic_wikt/german_de/IV/de_iv_test_data.txt  \n",
            "  inflating: xlwic_datasets/xlwic_wikt/german_de/IV/de_iv_test_gold.txt  \n",
            "   creating: xlwic_datasets/xlwic_wikt/german_de/OOV/\n",
            "  inflating: xlwic_datasets/xlwic_wikt/german_de/OOV/de_oov_test_data.txt  \n",
            "  inflating: xlwic_datasets/xlwic_wikt/german_de/OOV/de_oov_test_gold.txt  \n",
            "  inflating: xlwic_datasets/xlwic_wikt/german_de/de_test_data.txt  \n",
            "  inflating: xlwic_datasets/xlwic_wikt/german_de/de_test_gold.txt  \n",
            "  inflating: xlwic_datasets/xlwic_wikt/german_de/de_train.txt  \n",
            "  inflating: xlwic_datasets/xlwic_wikt/german_de/de_valid.txt  \n",
            "   creating: xlwic_datasets/xlwic_wikt/italian_it/\n",
            "  inflating: xlwic_datasets/xlwic_wikt/italian_it/.DS_Store  \n",
            "   creating: xlwic_datasets/xlwic_wikt/italian_it/IV/\n",
            "  inflating: xlwic_datasets/xlwic_wikt/italian_it/IV/it_iv_test_data.txt  \n",
            "  inflating: xlwic_datasets/xlwic_wikt/italian_it/IV/it_iv_test_gold.txt  \n",
            "   creating: xlwic_datasets/xlwic_wikt/italian_it/OOV/\n",
            "  inflating: xlwic_datasets/xlwic_wikt/italian_it/OOV/it_oov_test_data.txt  \n",
            "  inflating: xlwic_datasets/xlwic_wikt/italian_it/OOV/it_oov_test_gold.txt  \n",
            "  inflating: xlwic_datasets/xlwic_wikt/italian_it/it_test_data.txt  \n",
            "  inflating: xlwic_datasets/xlwic_wikt/italian_it/it_test_gold.txt  \n",
            "  inflating: xlwic_datasets/xlwic_wikt/italian_it/it_train.txt  \n",
            "  inflating: xlwic_datasets/xlwic_wikt/italian_it/it_valid.txt  \n",
            "   creating: xlwic_datasets/xlwic_wn/\n",
            "  inflating: xlwic_datasets/xlwic_wn/.DS_Store  \n",
            "   creating: xlwic_datasets/xlwic_wn/bulgarian_bg/\n",
            "  inflating: xlwic_datasets/xlwic_wn/bulgarian_bg/.DS_Store  \n",
            "  inflating: xlwic_datasets/xlwic_wn/bulgarian_bg/bg_test_data.txt  \n",
            "  inflating: xlwic_datasets/xlwic_wn/bulgarian_bg/bg_test_gold.txt  \n",
            "  inflating: xlwic_datasets/xlwic_wn/bulgarian_bg/bg_valid.txt  \n",
            "   creating: xlwic_datasets/xlwic_wn/chinese_zh/\n",
            "  inflating: xlwic_datasets/xlwic_wn/chinese_zh/.DS_Store  \n",
            "  inflating: xlwic_datasets/xlwic_wn/chinese_zh/zh_test_data.txt  \n",
            "  inflating: xlwic_datasets/xlwic_wn/chinese_zh/zh_test_gold.txt  \n",
            "  inflating: xlwic_datasets/xlwic_wn/chinese_zh/zh_valid.txt  \n",
            "   creating: xlwic_datasets/xlwic_wn/croatian_hr/\n",
            "  inflating: xlwic_datasets/xlwic_wn/croatian_hr/.DS_Store  \n",
            "  inflating: xlwic_datasets/xlwic_wn/croatian_hr/hr_test_data.txt  \n",
            "  inflating: xlwic_datasets/xlwic_wn/croatian_hr/hr_test_gold.txt  \n",
            "  inflating: xlwic_datasets/xlwic_wn/croatian_hr/hr_valid.txt  \n",
            "   creating: xlwic_datasets/xlwic_wn/danish_da/\n",
            "  inflating: xlwic_datasets/xlwic_wn/danish_da/.DS_Store  \n",
            "  inflating: xlwic_datasets/xlwic_wn/danish_da/da_test_data.txt  \n",
            "  inflating: xlwic_datasets/xlwic_wn/danish_da/da_test_gold.txt  \n",
            "  inflating: xlwic_datasets/xlwic_wn/danish_da/da_valid.txt  \n",
            "   creating: xlwic_datasets/xlwic_wn/dutch_nl/\n",
            "  inflating: xlwic_datasets/xlwic_wn/dutch_nl/.DS_Store  \n",
            "  inflating: xlwic_datasets/xlwic_wn/dutch_nl/nl_test_data.txt  \n",
            "  inflating: xlwic_datasets/xlwic_wn/dutch_nl/nl_test_gold.txt  \n",
            "  inflating: xlwic_datasets/xlwic_wn/dutch_nl/nl_valid.txt  \n",
            "   creating: xlwic_datasets/xlwic_wn/estonian_et/\n",
            "  inflating: xlwic_datasets/xlwic_wn/estonian_et/.DS_Store  \n",
            "  inflating: xlwic_datasets/xlwic_wn/estonian_et/et_test_data.txt  \n",
            "  inflating: xlwic_datasets/xlwic_wn/estonian_et/et_test_gold.txt  \n",
            "  inflating: xlwic_datasets/xlwic_wn/estonian_et/et_valid.txt  \n",
            "   creating: xlwic_datasets/xlwic_wn/farsi_fa/\n",
            "  inflating: xlwic_datasets/xlwic_wn/farsi_fa/.DS_Store  \n",
            "  inflating: xlwic_datasets/xlwic_wn/farsi_fa/fa_test_data.txt  \n",
            "  inflating: xlwic_datasets/xlwic_wn/farsi_fa/fa_test_gold.txt  \n",
            "  inflating: xlwic_datasets/xlwic_wn/farsi_fa/fa_valid.txt  \n",
            "   creating: xlwic_datasets/xlwic_wn/japanese_ja/\n",
            "  inflating: xlwic_datasets/xlwic_wn/japanese_ja/.DS_Store  \n",
            "  inflating: xlwic_datasets/xlwic_wn/japanese_ja/ja_test_data.txt  \n",
            "  inflating: xlwic_datasets/xlwic_wn/japanese_ja/ja_test_gold.txt  \n",
            "  inflating: xlwic_datasets/xlwic_wn/japanese_ja/ja_valid.txt  \n",
            "   creating: xlwic_datasets/xlwic_wn/korean_ko/\n",
            "  inflating: xlwic_datasets/xlwic_wn/korean_ko/.DS_Store  \n",
            "  inflating: xlwic_datasets/xlwic_wn/korean_ko/ko_test_data.txt  \n",
            "  inflating: xlwic_datasets/xlwic_wn/korean_ko/ko_test_gold.txt  \n",
            "  inflating: xlwic_datasets/xlwic_wn/korean_ko/ko_valid.txt  \n"
          ],
          "name": "stdout"
        }
      ]
    },
    {
      "cell_type": "code",
      "metadata": {
        "id": "wwyr26ftQt4W"
      },
      "source": [
        "# load train and dev sets\n",
        "with open (\"/content/xlwic_datasets/wic_english/train_en.txt\") as fin:\n",
        "  data = []\n",
        "  cnt = 0\n",
        "  for line in fin:\n",
        "    elements = line.strip().split('\\t')\n",
        "    \n",
        "    entry = {\n",
        "        \"lemma\" : elements[0],\n",
        "        \"pos\" : elements[1],\n",
        "        \"start1\" : elements[2],\n",
        "        \"end1\" : elements[3], \n",
        "        \"start2\" : elements[4], \n",
        "        \"end2\" : elements[5], \n",
        "        \"sentence1\" : elements[6], \n",
        "        \"sentence2\" : elements[7], \n",
        "        \"label\" : \"True\" if elements[8] == \"1\" else \"False\"\n",
        "    }\n",
        "    data.append(entry)\n",
        "\n",
        "\n",
        "with open (\"/content/xlwic_datasets/wic_english/valid_en.txt\") as fin:\n",
        "  for line in fin:\n",
        "    elements = line.strip().split('\\t')\n",
        "  \n",
        "    entry = {\n",
        "        \"lemma\" : elements[0],\n",
        "        \"pos\" : elements[1],\n",
        "        \"start1\" : elements[2],\n",
        "        \"end1\" : elements[3], \n",
        "        \"start2\" : elements[4], \n",
        "        \"end2\" : elements[5], \n",
        "        \"sentence1\" : elements[6], \n",
        "        \"sentence2\" : elements[7], \n",
        "        \"label\" : \"True\" if elements[8] == \"1\" else \"False\"\n",
        "    }\n",
        "    data.append(entry)"
      ],
      "execution_count": null,
      "outputs": []
    },
    {
      "cell_type": "code",
      "metadata": {
        "colab": {
          "base_uri": "https://localhost:8080/"
        },
        "id": "ch0h2sxq5Y41",
        "outputId": "a0266977-f15b-47b6-f672-0e3dc17409ec"
      },
      "source": [
        "# see the structure of an entry of the dataset\n",
        "data[0]"
      ],
      "execution_count": null,
      "outputs": [
        {
          "output_type": "execute_result",
          "data": {
            "text/plain": [
              "{'end1': '8',\n",
              " 'end2': '11',\n",
              " 'label': 'False',\n",
              " 'lemma': 'approach',\n",
              " 'pos': 'V',\n",
              " 'sentence1': 'Approach a task.',\n",
              " 'sentence2': 'To approach the city.',\n",
              " 'start1': '0',\n",
              " 'start2': '3'}"
            ]
          },
          "metadata": {
            "tags": []
          },
          "execution_count": 11
        }
      ]
    },
    {
      "cell_type": "markdown",
      "metadata": {
        "id": "2zQSaLyicbSY"
      },
      "source": [
        "**Visualize class distribution** in order to see if is usefull to weight the classes in the loss function"
      ]
    },
    {
      "cell_type": "code",
      "metadata": {
        "colab": {
          "base_uri": "https://localhost:8080/",
          "height": 315
        },
        "id": "b2BKER5_vtIn",
        "outputId": "e88209ab-1307-4596-d4be-f5e7f026acf8"
      },
      "source": [
        "def visualize_class_distribution(train_gold: dict, title: str):\n",
        "    \n",
        "    counter = Counter()\n",
        "\n",
        "    \n",
        "    for entry in train_gold:\n",
        "        label = entry[\"label\"] \n",
        "        counter[label] += 1\n",
        "\n",
        "    labels = sorted(counter)\n",
        "    values = [counter[label] for label in labels]\n",
        "\n",
        "    plt.bar(labels, values)\n",
        "    plt.title(title)\n",
        "    plt.show()\n",
        "    t_count = counter[\"True\"]\n",
        "    f_count = counter[\"False\"]\n",
        "    \n",
        "    print(f\"T: {t_count}\")\n",
        "    print(f\"F: {f_count}\")\n",
        "\n",
        "visualize_class_distribution(data, \"label distribution in data\")\n"
      ],
      "execution_count": null,
      "outputs": [
        {
          "output_type": "display_data",
          "data": {
            "image/png": "[encoded data removed]",
            "text/plain": [
              "<Figure size 432x288 with 1 Axes>"
            ]
          },
          "metadata": {
            "tags": [],
            "needs_background": "light"
          }
        },
        {
          "output_type": "stream",
          "text": [
            "T: 3033\n",
            "F: 3033\n"
          ],
          "name": "stdout"
        }
      ]
    },
    {
      "cell_type": "markdown",
      "metadata": {
        "id": "i-LkaJ0Rwhll"
      },
      "source": [
        "So the classes are balanced. \n",
        "Let's see how the classes are distributed with respect to the pos tag"
      ]
    },
    {
      "cell_type": "code",
      "metadata": {
        "colab": {
          "base_uri": "https://localhost:8080/",
          "height": 681
        },
        "id": "Uk4oS7N2vJ27",
        "outputId": "9022ae7e-d02f-4133-d03b-bb8ba0221215"
      },
      "source": [
        "def visualize_class_distribution_wrt_pos(train: dict, title: str):\n",
        "    # dictionary containing a counter per pos\n",
        "    counter = {}  \n",
        "  \n",
        "    for entry in train:\n",
        "        label = entry[\"label\"] \n",
        "        pos = entry[\"pos\"]\n",
        "        if (not pos in counter):\n",
        "          counter[pos] = Counter()  \n",
        "        counter[pos][label] += 1\n",
        "\n",
        "    for pos in counter:\n",
        "      print(f\"\\npos: {pos}\")\n",
        "      labels = sorted(counter[pos])\n",
        "      values = [counter[pos][label] for label in labels]\n",
        "\n",
        "      plt.bar(labels, values)\n",
        "      plt.title(title + f\" pos: {pos}\")\n",
        "      plt.show()\n",
        "      t_count = counter[pos][\"True\"]\n",
        "      f_count = counter[pos][\"False\"]\n",
        "    \n",
        "      print(f\"T: {t_count}\")\n",
        "      print(f\"F: {f_count}\")\n",
        "\n",
        "visualize_class_distribution_wrt_pos(data, \"label distribution in data\")"
      ],
      "execution_count": null,
      "outputs": [
        {
          "output_type": "stream",
          "text": [
            "\n",
            "pos: V\n"
          ],
          "name": "stdout"
        },
        {
          "output_type": "display_data",
          "data": {
            "image/png": "[encoded data removed]",
            "text/plain": [
              "<Figure size 432x288 with 1 Axes>"
            ]
          },
          "metadata": {
            "tags": [],
            "needs_background": "light"
          }
        },
        {
          "output_type": "stream",
          "text": [
            "T: 1364\n",
            "F: 1514\n",
            "\n",
            "pos: N\n"
          ],
          "name": "stdout"
        },
        {
          "output_type": "display_data",
          "data": {
            "image/png": "[encoded data removed]",
            "text/plain": [
              "<Figure size 432x288 with 1 Axes>"
            ]
          },
          "metadata": {
            "tags": [],
            "needs_background": "light"
          }
        },
        {
          "output_type": "stream",
          "text": [
            "T: 1669\n",
            "F: 1519\n"
          ],
          "name": "stdout"
        }
      ]
    },
    {
      "cell_type": "markdown",
      "metadata": {
        "id": "ueGkRHclxC3Q"
      },
      "source": [
        "As we can see from the precedent plots the classes are almost balanced also with respect to the pos tags"
      ]
    },
    {
      "cell_type": "code",
      "metadata": {
        "colab": {
          "base_uri": "https://localhost:8080/"
        },
        "id": "L5d98flSd-3_",
        "outputId": "82602953-c555-4318-9888-86a4a85755f8"
      },
      "source": [
        "# download the pre trained embeddings\n",
        "! wget http://nlp.stanford.edu/data/glove.840B.300d.zip"
      ],
      "execution_count": null,
      "outputs": [
        {
          "output_type": "stream",
          "text": [
            "--2021-04-30 14:55:40--  http://nlp.stanford.edu/data/glove.840B.300d.zip\n",
            "Resolving nlp.stanford.edu (nlp.stanford.edu)... 171.64.67.140\n",
            "Connecting to nlp.stanford.edu (nlp.stanford.edu)|171.64.67.140|:80... connected.\n",
            "HTTP request sent, awaiting response... 302 Found\n",
            "Location: https://nlp.stanford.edu/data/glove.840B.300d.zip [following]\n",
            "--2021-04-30 14:55:40--  https://nlp.stanford.edu/data/glove.840B.300d.zip\n",
            "Connecting to nlp.stanford.edu (nlp.stanford.edu)|171.64.67.140|:443... connected.\n",
            "HTTP request sent, awaiting response... 301 Moved Permanently\n",
            "Location: http://downloads.cs.stanford.edu/nlp/data/glove.840B.300d.zip [following]\n",
            "--2021-04-30 14:55:40--  http://downloads.cs.stanford.edu/nlp/data/glove.840B.300d.zip\n",
            "Resolving downloads.cs.stanford.edu (downloads.cs.stanford.edu)... 171.64.64.22\n",
            "Connecting to downloads.cs.stanford.edu (downloads.cs.stanford.edu)|171.64.64.22|:80... connected.\n",
            "HTTP request sent, awaiting response... 200 OK\n",
            "Length: 2176768927 (2.0G) [application/zip]\n",
            "Saving to: ‘glove.840B.300d.zip’\n",
            "\n",
            "glove.840B.300d.zip 100%[===================>]   2.03G  5.06MB/s    in 8m 23s  \n",
            "\n",
            "2021-04-30 15:04:04 (4.13 MB/s) - ‘glove.840B.300d.zip’ saved [2176768927/2176768927]\n",
            "\n"
          ],
          "name": "stdout"
        }
      ]
    },
    {
      "cell_type": "code",
      "metadata": {
        "colab": {
          "base_uri": "https://localhost:8080/"
        },
        "id": "EA2GEmdCeA7i",
        "outputId": "4d417f0a-c514-46bf-a062-e541796b0ada"
      },
      "source": [
        "# download unzip the embeddings\n",
        "! sudo apt-get install unzip\n",
        "# in the below command sometimes asks to type enter near to inflating, otherwise \n",
        "# it will not work  \n",
        "! unzip glove.840B.300d.zip -d glove"
      ],
      "execution_count": null,
      "outputs": [
        {
          "output_type": "stream",
          "text": [
            "Reading package lists... Done\n",
            "Building dependency tree       \n",
            "Reading state information... Done\n",
            "unzip is already the newest version (6.0-21ubuntu1.1).\n",
            "The following package was automatically installed and is no longer required:\n",
            "  libnvidia-common-460\n",
            "Use 'sudo apt autoremove' to remove it.\n",
            "0 upgraded, 0 newly installed, 0 to remove and 34 not upgraded.\n",
            "Archive:  glove.840B.300d.zip\n",
            "  inflating: glove/glove.840B.300d.txt  \n",
            "\n",
            "\n"
          ],
          "name": "stdout"
        }
      ]
    },
    {
      "cell_type": "code",
      "metadata": {
        "id": "QCI5uvObG_wn"
      },
      "source": [
        "# Split data into train, dev and test\n",
        "import random\n",
        "random.seed(SEED)\n",
        "random.shuffle(data)\n",
        "train = data[:int(len(data)*0.8)]\n",
        "dev = data[int(len(data)*0.8):int(len(data)*0.9)]\n",
        "test = data[int(len(data)*0.9):]"
      ],
      "execution_count": null,
      "outputs": []
    },
    {
      "cell_type": "markdown",
      "metadata": {
        "id": "0dCogkvtxQ1d"
      },
      "source": [
        "**Load the embedding** and check for oov terms"
      ]
    },
    {
      "cell_type": "code",
      "metadata": {
        "id": "gbHOXxiuY_ZK"
      },
      "source": [
        "# load the embeddings to a dictionary with key the term and value the embedding\n",
        "embeddings = {}\n",
        "with open(f\"glove/glove.840B.{EMBEDDING_DIMENSION}d.txt\") as fin:\n",
        "  for line in fin:\n",
        "    term, *embedding = line.strip().split(\" \")\n",
        "    if (len(embedding) == EMBEDDING_DIMENSION):\n",
        "      embedding = torch.tensor(list(map(lambda x: float(x), embedding)))  \n",
        "      embeddings[term] = embedding"
      ],
      "execution_count": null,
      "outputs": []
    },
    {
      "cell_type": "code",
      "metadata": {
        "id": "9_HbSFOESQhk"
      },
      "source": [
        "# define embedding for each target term\n",
        "embeddings[\"TARGET_TERM\"] = torch.zeros(EMBEDDING_DIMENSION)"
      ],
      "execution_count": null,
      "outputs": []
    },
    {
      "cell_type": "code",
      "metadata": {
        "colab": {
          "base_uri": "https://localhost:8080/"
        },
        "id": "k5o1LnCPaM0c",
        "outputId": "3edf07c7-c071-49c9-caf5-63d0831d57e5"
      },
      "source": [
        "# check for out of words vocabulary\n",
        "def check_oovs(train:list, dev:list, embeddings:dict):\n",
        "  oovs = {}\n",
        "  for dataset in [(train, \"train\"), (dev, \"dev\")]:\n",
        "    oovs[dataset[1]] = set()\n",
        "    for entry in dataset[0]:\n",
        "      s1 = entry[\"sentence1\"]\n",
        "      for term in s1.split(\" \"):\n",
        "        if (term not in embeddings):\n",
        "          oovs[dataset[1]].add(term)\n",
        "      \n",
        "      s2 = entry[\"sentence2\"]\n",
        "      for term in s2.split(\" \"):\n",
        "        if (term not in embeddings):\n",
        "          oovs[dataset[1]].add(term)\n",
        "    # print num of oov terms\n",
        "    print(len(oovs[dataset[1]]))\n",
        "    # print the first oov terms\n",
        "    print(list(oovs[dataset[1]])[:20])\n",
        "\n",
        "check_oovs(train, dev, embeddings)"
      ],
      "execution_count": null,
      "outputs": [
        {
          "output_type": "stream",
          "text": [
            "2737\n",
            "['fringe.', 'together,', 'pennies.', 'stadium.', 'Baskerville.', 'crumbs.', 'Slipper.', 'back.\"', 'log.', 'traditions.', 'garlic.', 'tradecraft.', \"woman's\", 'children?', 'infraction.', 'confidences.', 'neared.', 'sacrifice.', 'westwards.', \"yourself-don't\"]\n",
            "558\n",
            "['hit?', 'faculty.', 'disk.', 'sensation.', 'pennies.', 'skull.', 'shapes.', 'iron.', 'numbers?', \"You've\", 'horseback!', 'traditions.', \"Picasso's\", 'third.', \"woman's\", 'homework?', 'governor,', 'fastener.', 'confidences.', \"president's\"]\n"
          ],
          "name": "stdout"
        }
      ]
    },
    {
      "cell_type": "markdown",
      "metadata": {
        "id": "8_Z4Zfoycf_g"
      },
      "source": [
        "I have to do some preprocessing of the data in order to remove some out of vocabulary terms: \n",
        "\n",
        "1. remove punctuation\n",
        "2. lower \n",
        "\n",
        "Other than this I decided to replace each target term with the string \"Target_Term\" that as been added to the embeddings dictionary before, in order to try to let the model understand that that term is not important for the classification since is important the context in which the target term is"
      ]
    },
    {
      "cell_type": "code",
      "metadata": {
        "colab": {
          "base_uri": "https://localhost:8080/"
        },
        "id": "kdl2d03YcYYl",
        "outputId": "269c94df-cd08-44c7-da64-f4a1f56c287b"
      },
      "source": [
        "# preprocess a single phrase by removing punctuation and lowerize it\n",
        "def preprocess_phrase(sentence:str, start:int, end:int):\n",
        "  # get the original target term\n",
        "  original_term = sentence[start:end].lower()\n",
        "  \n",
        "  # replace punctuation with space\n",
        "  sentence = re.sub(r\"[()\\\",\\-—.;/:@<>#?!&$“”'’`–%\\[\\]−]+\", \" \", sentence) \n",
        "  sentence = sentence.replace(\"'s\", \" 's\")\n",
        "  # strip and lowerize the obtained sentence\n",
        "  sentence = sentence.strip().lower()\n",
        "  \n",
        "  sentence = \" \".join(word_tokenize(sentence))\n",
        "\n",
        "  sentence = sentence.replace(original_term, \"TARGET_TERM \")\n",
        "  # remove extra space\n",
        "  sentence = re.sub(r\"\\s+\", \" \", sentence)\n",
        "  # get the new position of the target term\n",
        "  start_n = sentence.find(\"TARGET_TERM\")\n",
        "  end_n = start_n + len(\"TARGET_TERM\")\n",
        "\n",
        "  # check that the position is correct\n",
        "  assert \"TARGET_TERM\" == sentence[start_n:end_n] \n",
        "\n",
        "  return sentence, start_n, end_n\n",
        "\n",
        "def preprocessing(entries: List[Dict])-> List[Dict]:\n",
        "  preprocessed = []\n",
        "  for entry in entries:\n",
        "    \n",
        "    # get preprocessed phrase and the position of the target term\n",
        "    sentence1, start1, end1 = preprocess_phrase(entry[\"sentence1\"], int(entry[\"start1\"]), int(entry[\"end1\"]))\n",
        "    sentence2, start2, end2 = preprocess_phrase(entry[\"sentence2\"], int(entry[\"start2\"]), int(entry[\"end2\"]))\n",
        "    \n",
        "    # copy the entry and replace senteces and positions of the target terms\n",
        "    # in both the phrases\n",
        "    preprocessed_entry = entry.copy()\n",
        "    preprocessed_entry[\"sentence1\"] = sentence1\n",
        "    preprocessed_entry[\"sentence2\"] = sentence2\n",
        "    preprocessed_entry[\"start1\"] = start1\n",
        "    preprocessed_entry[\"end1\"] = end1\n",
        "    preprocessed_entry[\"start2\"] = start2\n",
        "    preprocessed_entry[\"end2\"] = end2\n",
        "    \n",
        "    preprocessed.append(preprocessed_entry)\n",
        "\n",
        "  return preprocessed\n",
        "\n",
        "\n",
        "train_n, dev_n = preprocessing(train), preprocessing(dev)\n",
        "\n",
        "check_oovs(train_n, dev_n, embeddings)"
      ],
      "execution_count": null,
      "outputs": [
        {
          "output_type": "stream",
          "text": [
            "48\n",
            "['', '\\\\sqrtb^2', 'papīra', 'herpetologTARGET_TERM', 'blTARGET_TERM', 'kurss', 'magnoliophyta', 'baddeck', 'acquaitance', 'maksā', 'elektromagnetismen', 'gielgud', 'syngman', '\\\\pm', 'thTARGET_TERM', 'kilogrTARGET_TERM', 'lysistrata', 'freudians', 'southernisms', 'grāmata']\n",
            "14\n",
            "['', 'piecas', 'kurss', 'mTARGET_TERM', 'nibelung', 'baddeck', 'e^i\\\\pi+1=0', '2*x', 'maksā', 'grāmata', 'x^2', 'clippurse', 'tithonian', '\\\\pi']\n"
          ],
          "name": "stdout"
        }
      ]
    },
    {
      "cell_type": "markdown",
      "metadata": {
        "id": "kFWxa0YYYnPI"
      },
      "source": [
        "As we can see from the precedent part we have removed a lot of oovs by removing punctuation and applying lower() to the entire phrase"
      ]
    },
    {
      "cell_type": "code",
      "metadata": {
        "id": "nlTcWvBQ73Nw"
      },
      "source": [
        "class PhraseDataset(Dataset):\n",
        "\n",
        "    def __init__(self, dataset: list, feature_extraction_function: Callable[[str], torch.tensor], word_index: dict):\n",
        "        \n",
        "        self.word_index = word_index\n",
        "        self.dataset = dataset\n",
        "        self.feature_extraction_function = feature_extraction_function\n",
        "        # initialize the data\n",
        "        self.__init_data()\n",
        "\n",
        "\n",
        "    def __init_data(self):\n",
        "        self.samples = []\n",
        "        for entry in self.dataset:\n",
        "          # for each entry in the dataset get the target term\n",
        "          term_1 = entry[\"sentence1\"][entry[\"start1\"]: entry[\"end1\"]]\n",
        "          term_2 = entry[\"sentence2\"][entry[\"start2\"]: entry[\"end2\"]]\n",
        "\n",
        "          # get the indexes of the phrases\n",
        "          indexes1 = self.feature_extraction_function(entry[\"sentence1\"], self.word_index)\n",
        "          indexes2 = self.feature_extraction_function(entry[\"sentence2\"], self.word_index)\n",
        "          \n",
        "          # get the target term position\n",
        "          term_1_index = entry[\"sentence1\"].split(\" \").index(term_1)\n",
        "          if (\"TARGET_TERM \" not in entry[\"sentence2\"]):\n",
        "            print(\"cazzo\")\n",
        "            print(entry[\"sentence2\"])\n",
        "          term_2_index = entry[\"sentence2\"].split(\" \").index(term_2)\n",
        "\n",
        "          # build the data sample as a tuple containing \n",
        "          # 1) a tuple with the list of indexes of the terms relative to the phrases (in order)\n",
        "          # 2) the target term position of the two phrases\n",
        "          # 3) the label\n",
        "          data = ((indexes1, indexes2), (term_1_index, term_2_index), float(1) if entry[\"label\"] == \"True\" else float(0))\n",
        "\n",
        "          # append the sample\n",
        "          self.samples.append(data)\n",
        "          \n",
        "    def __len__(self):\n",
        "        # returns the number of samples in our dataset\n",
        "      return len(self.samples)\n",
        "\n",
        "    def __getitem__(self, idx):\n",
        "        # returns the idx-th sample\n",
        "        return self.samples[idx]"
      ],
      "execution_count": null,
      "outputs": []
    },
    {
      "cell_type": "code",
      "metadata": {
        "id": "Ws6TzVP5WI6z"
      },
      "source": [
        "# word dict associates each term to a index inside the vectors_store\n",
        "word_index = dict()\n",
        "# vectors_store is a list containing in position i the emebdding of the term \n",
        "# relative to position i. in position 0 we have the pad token and in position 1\n",
        "# we have the unk token\n",
        "vectors_store = []\n",
        "\n",
        "# pad token, index = 0\n",
        "vectors_store.append(torch.zeros(300))\n",
        "\n",
        "# unk token, index = 1\n",
        "vectors_store.append(torch.rand(300))\n",
        "\n",
        "for word, vector in embeddings.items():\n",
        "    word_index[word] = len(vectors_store)\n",
        "    vectors_store.append(vector)\n",
        "\n",
        "word_index = defaultdict(lambda: 1, word_index)  # default dict returns 1 (unk token) when unknown word\n",
        "vectors_store = torch.stack(vectors_store)"
      ],
      "execution_count": null,
      "outputs": []
    },
    {
      "cell_type": "code",
      "metadata": {
        "id": "GGbPtQcpN2EO"
      },
      "source": [
        "# associates a phrase to the sequence of indeces relative to the terms inside the phrase\n",
        "def phrase2indices(review: str, word_index: Dict) -> torch.Tensor:\n",
        "    return torch.tensor([word_index[word] for word in review.split(\" \")], dtype=torch.long)"
      ],
      "execution_count": null,
      "outputs": []
    },
    {
      "cell_type": "code",
      "metadata": {
        "id": "rjEZuqVz9FBj"
      },
      "source": [
        "# create the Dataset objects for train and dev datasets\n",
        "train_dataset = PhraseDataset(train_n, phrase2indices, word_index)\n",
        "dev_dataset = PhraseDataset(dev_n, phrase2indices, word_index)"
      ],
      "execution_count": null,
      "outputs": []
    },
    {
      "cell_type": "code",
      "metadata": {
        "id": "EEonVU2nN5y5"
      },
      "source": [
        "\n",
        "# given a list of sentences (each a tensor of indexes of term) return a tuple containing\n",
        "#  1) the padded sequences of indeces\n",
        "#  2) the sentences lenghts\n",
        "def single_collate_fn(sentences: List[torch.Tensor])-> Tuple[torch.Tensor, torch.Tensor]:\n",
        "\n",
        "  sentence_lengths = torch.tensor([sentence.size(0)-1 for sentence in sentences], dtype=torch.long)\n",
        "  sentences = torch.nn.utils.rnn.pad_sequence(sentences, batch_first=True, padding_value=0) \n",
        "\n",
        "  return sentences, sentence_lengths\n",
        "# given a list of tuple containing\n",
        "# 1) a tuple of\n",
        "#   1.1) a tuple containing the indexes (in vectors_store) of the terms in the sentences\n",
        "#   1.2) the target term position\n",
        "#   1.3) the label\n",
        "# and returns \n",
        "# 1) a tuple containing the sequences of indexes of terms (in vector_store) for the two sentences\n",
        "# 2) a tuple containing the lenghts of the two sentences\n",
        "# 3) a tuple containing the target term positio in the sentence\n",
        "# 4) the label\n",
        "def collate_fn(\n",
        "    entries: List[Tuple[Tuple[torch.Tensor, torch.Tensor], Tuple[int, int], float]]\n",
        ") -> Tuple[Tuple[torch.Tensor, torch.Tensor], Tuple[torch.Tensor, torch.Tensor], torch.Tensor]:\n",
        "\n",
        "    sentences1 = [entry[0][0] for entry in entries]\n",
        "    sentences2 = [entry[0][1] for entry in entries]\n",
        "\n",
        "    # get the padded sentences and the lenght of the sentences\n",
        "    sentences1, sentence_lengths1 = single_collate_fn(sentences1)\n",
        "    sentences2, sentence_lengths2 = single_collate_fn(sentences2)\n",
        "\n",
        "    #get target term position in the sentences\n",
        "    target_term_indexes1 = torch.tensor([entry[1][0] for entry in entries])\n",
        "    target_term_indexes2 = torch.tensor([entry[1][1] for entry in entries])\n",
        "\n",
        "    # get lables\n",
        "    y = [entry[-1] for entry in entries]\n",
        "    y = torch.tensor(y)\n",
        "\n",
        "    return (sentences1, sentences2), (sentence_lengths1, sentence_lengths2), (target_term_indexes1, target_term_indexes2), y"
      ],
      "execution_count": null,
      "outputs": []
    },
    {
      "cell_type": "code",
      "metadata": {
        "colab": {
          "base_uri": "https://localhost:8080/"
        },
        "id": "_bC7UB6N9ZNs",
        "outputId": "8f5ca5e6-54eb-4c3e-ded1-f2ddc9a5c671"
      },
      "source": [
        "# create the dataloader objects for train and test with batch size to BATCH_SIZE\n",
        "train_dataloader = DataLoader(train_dataset, batch_size=BATCH_SIZE, shuffle=True, collate_fn=collate_fn)\n",
        "dev_dataloader = DataLoader(dev_dataset, batch_size=BATCH_SIZE, collate_fn=collate_fn)\n",
        "\n",
        "# see the structure of a sample from the dataloader\n",
        "for batch in train_dataloader:\n",
        "    #sentences, target_term_indexes, y = batch\n",
        "    sentences, sentence_lengths, target_term_indexes, y = batch\n",
        "    \n",
        "    print(f\"# batch len: {len(batch)}\\n\")\n",
        "    print(f\"# batch sentences shape: {sentences[0].shape}, {sentences[1].shape}\\n\")\n",
        "    print(f\"# batch sentence_lengths shape: {sentence_lengths[0].shape}, {sentence_lengths[1].shape}\\n\")\n",
        "    print(f\"# batch target_term_indexes shape: {target_term_indexes[0].shape}, {target_term_indexes[1].shape}\\n\")\n",
        "\n",
        "    print(f\"# batch y shape: {y.shape}\\n\")\n",
        "    break"
      ],
      "execution_count": null,
      "outputs": [
        {
          "output_type": "stream",
          "text": [
            "# batch len: 4\n",
            "\n",
            "# batch sentences shape: torch.Size([512, 22]), torch.Size([512, 22])\n",
            "\n",
            "# batch sentence_lengths shape: torch.Size([512]), torch.Size([512])\n",
            "\n",
            "# batch target_term_indexes shape: torch.Size([512]), torch.Size([512])\n",
            "\n",
            "# batch y shape: torch.Size([512])\n",
            "\n"
          ],
          "name": "stdout"
        }
      ]
    },
    {
      "cell_type": "markdown",
      "metadata": {
        "id": "0pJ8KIBkoM1S"
      },
      "source": [
        "# Train"
      ]
    },
    {
      "cell_type": "code",
      "metadata": {
        "id": "kLUEgorh_i5U"
      },
      "source": [
        "# method to save the model \n",
        "def save_model(model: nn.Module, path:str):\n",
        "  torch.save(model.state_dict(), path)"
      ],
      "execution_count": null,
      "outputs": []
    },
    {
      "cell_type": "code",
      "metadata": {
        "id": "YPIYd9X2PW49"
      },
      "source": [
        "# method to train and evaluate\n",
        "def train_and_evaluate(\n",
        "    model: nn.Module,\n",
        "    optimizer: torch.optim.Optimizer,\n",
        "    train_dataloader: DataLoader,\n",
        "    epochs: int = 50,\n",
        "    dev_dataloader: DataLoader = None,\n",
        "    dev_fn: Callable = None,\n",
        "    verbose: bool = True,\n",
        "):\n",
        "    # history\n",
        "    train_loss = []\n",
        "    dev_losses = []\n",
        "    dev_accs = []\n",
        "    train_accs = []\n",
        "\n",
        "    # current value of patience\n",
        "    patience = 0\n",
        "    for epoch in range(epochs):\n",
        "        # put the model in train mode so that we activate the dropout\n",
        "        model.train()\n",
        "        # store the losses and the accs over the several batches in this epoch\n",
        "        losses = []\n",
        "        accs = []\n",
        "\n",
        "        # for each batch\n",
        "        for batch in train_dataloader:\n",
        "            # reset the gradient of the optimizer\n",
        "            optimizer.zero_grad()\n",
        "            \n",
        "            sentences, sentence_lengths, target_term_indexes, y = batch\n",
        "\n",
        "            # move data to device\n",
        "            y = y.to(DEVICE)\n",
        "            sentences1, sentences2 = [x.to(DEVICE) for x in sentences]\n",
        "            sentence_lengths1, sentence_lengths2 = [x.to(DEVICE) for x in sentence_lengths]\n",
        "            target_term_indexes1, target_term_indexes2 = [x.to(DEVICE) for x in target_term_indexes]\n",
        "\n",
        "\n",
        "            # batch_out is a dictionary with loss and acc keys\n",
        "            batch_out = model(sentences1, sentences2, sentence_lengths1, sentence_lengths2, target_term_indexes1, target_term_indexes2, y)\n",
        "            \n",
        "            loss = batch_out[\"loss\"]\n",
        "            acc = batch_out[\"acc\"]\n",
        "            # store the acc and the loss\n",
        "            losses.append(loss)\n",
        "            accs.append(acc)\n",
        "\n",
        "            # computes the gradient of the loss\n",
        "            loss.backward()\n",
        "          \n",
        "            # updates parameters based on the gradient information\n",
        "            optimizer.step()\n",
        "\n",
        "        model.global_epoch += 1\n",
        "        # mean loss and acc in the epoch\n",
        "        mean_loss = sum(losses) / len(losses)\n",
        "        mean_acc = sum(accs) / len(accs)\n",
        "        \n",
        "        # store the mean loss and acc\n",
        "        train_loss.append(mean_loss.item())\n",
        "        train_accs.append(mean_acc.item())\n",
        "        \n",
        "        if verbose or epoch == epochs - 1:\n",
        "            print(f\"\\tEpoch\\t{model.global_epoch:3d} => Loss: {mean_loss:0.6f}\")\n",
        "        \n",
        "        if dev_dataloader and dev_fn is not None:\n",
        "            \n",
        "            # put the model in evaluating mode\n",
        "            model.eval()\n",
        "            # evaluate the model over the development set\n",
        "            dev_output = dev_fn(model, dev_dataloader)\n",
        "            # get acc and loss\n",
        "            dev_loss_value = dev_output[\"loss\"]\n",
        "            dev_acc_value = dev_output[\"acc\"]\n",
        "            # if the loss is higher than the minimun dev loss stored, increase \n",
        "            # patience level, otherwise reset it \n",
        "            if (len(dev_losses) > 0 and dev_loss_value > min(dev_losses)):\n",
        "              patience += 1\n",
        "            else:\n",
        "              # save the best model (it will be overwritten when I arrive to a \n",
        "              # lower loss value\n",
        "              if (epoch > 40):\n",
        "                save_model(model, f\"{FILE_NAME}.pt\")\n",
        "              patience = 0\n",
        "            \n",
        "            # save dev loss and acc\n",
        "            dev_losses.append(dev_loss_value)\n",
        "            dev_accs.append(dev_acc_value)\n",
        "\n",
        "            # info prints\n",
        "            print(f\"\\t\\tDevelopment => Loss: {dev_loss_value:0.6f}\")\n",
        "            print(f\"\\t\\tDevelopment => Acc: {dev_acc_value:0.6f}\")\n",
        "            print()\n",
        "\n",
        "            # early stopping\n",
        "            if (patience > PATIENCE):\n",
        "              print(\"EARLY STOPPING\")\n",
        "              break \n",
        "    print(f\"max_dev_acc: {max(dev_accs)}\")\n",
        "    return {\"train\": train_loss, \"dev\":dev_losses, \"dev_accs\":dev_accs, \"train_accs\": train_accs}"
      ],
      "execution_count": null,
      "outputs": []
    },
    {
      "cell_type": "code",
      "metadata": {
        "id": "UkKXPoS4cOEo"
      },
      "source": [
        "class Classifier(torch.nn.Module):\n",
        "\n",
        "    def __init__(self,\n",
        "                 n_hidden1: int,\n",
        "                 n_hidden2: int,                 \n",
        "                 dropout:float,\n",
        "                 vectors_store: torch.Tensor,\n",
        "                 device: str):\n",
        "        super().__init__()\n",
        "        # embedding layer\n",
        "        self.embedding = torch.nn.Embedding.from_pretrained(vectors_store)\n",
        "        self.n_hidden1 = n_hidden1\n",
        "        # recurrent layer\n",
        "        self.rnn = torch.nn.LSTM(input_size=EMBEDDING_DIMENSION, hidden_size=n_hidden1, num_layers=2, batch_first=True, bidirectional=True, dropout=dropout)\n",
        "\n",
        "        self.bn1 = torch.nn.BatchNorm1d(num_features = n_hidden1*4+3)\n",
        "        self.bn2 = torch.nn.BatchNorm1d(num_features = n_hidden2)\n",
        "\n",
        "        # dropout\n",
        "        self.drop = torch.nn.Dropout(dropout)\n",
        "\n",
        "        # classification head\n",
        "        # *4 since -> *2 cause of the concatenation \n",
        "        #          -> *2 cause of the bidirectional LSTM\n",
        "        self.lin1 = torch.nn.Linear(n_hidden1*4+3, n_hidden2)\n",
        "        self.lin2 = torch.nn.Linear(n_hidden2, 1)\n",
        "\n",
        "        self.loss_fn = torch.nn.BCELoss()\n",
        "        self.global_epoch = 0\n",
        "\n",
        "        self.cos = cos = nn.CosineSimilarity(dim=1, eps=1e-6)\n",
        "\n",
        "        self.device = device\n",
        "    \n",
        "    def forward(\n",
        "        self, \n",
        "        sentences1: torch.Tensor,  \n",
        "        sentences2: torch.Tensor,  \n",
        "        sentence_lengths1: torch.Tensor, \n",
        "        sentence_lengths2: torch.Tensor, \n",
        "        target_term_indexes1: torch.Tensor, \n",
        "        target_term_indexes2: torch.Tensor, \n",
        "        y: Optional[torch.Tensor] = None\n",
        "    ) -> Dict[str, torch.Tensor]:\n",
        "        \n",
        "        # embedding words from indices\n",
        "        embeddings1 = self.embedding(sentences1)\n",
        "        embeddings2 = self.embedding(sentences2)\n",
        "\n",
        "        # recurrent encoding\n",
        "        recurrent_out1 = self.rnn(embeddings1)\n",
        "        \n",
        "        # get the output per term in the paddes sentence        \n",
        "        recurrent_out1 = recurrent_out1[0]\n",
        " \n",
        "        # get the target term backward and forward output\n",
        "        target_term_vectors1 = recurrent_out1[range(recurrent_out1.shape[0]), target_term_indexes1]\n",
        "        # get the first term backward output\n",
        "        start_sentence_vectors1 = recurrent_out1[range(recurrent_out1.shape[0]), [0]*len(sentence_lengths1), self.n_hidden1:]\n",
        "        # get the last term forward output\n",
        "        end_sentence_vectors1 = recurrent_out1[range(recurrent_out1.shape[0]), sentence_lengths1, :self.n_hidden1]\n",
        "\n",
        "        # recurrent encoding for the second sentence\n",
        "        recurrent_out2 = self.rnn(embeddings2)\n",
        "\n",
        "        # get the output per term in the paddes sentence        \n",
        "        recurrent_out2 = recurrent_out2[0]\n",
        "\n",
        "        # get the target term backward and forward output\n",
        "        target_term_vectors2 = recurrent_out2[range(recurrent_out2.shape[0]), target_term_indexes2]\n",
        "        # get the first term backward output\n",
        "        start_sentence_vectors2 = recurrent_out2[range(recurrent_out2.shape[0]), [0]*len(sentence_lengths2), self.n_hidden1:]\n",
        "        # get the last term forward output\n",
        "        end_sentence_vectors2 = recurrent_out2[range(recurrent_out2.shape[0]), sentence_lengths2, :self.n_hidden1]\n",
        "        \n",
        "        # save memory\n",
        "        recurrent_out2 = None\n",
        "\n",
        "        # compute cosine similarity\n",
        "        cos_target = torch.unsqueeze(self.cos(target_term_vectors1, target_term_vectors2),1)\n",
        "        cos_start_sentence = torch.unsqueeze(self.cos(start_sentence_vectors1, start_sentence_vectors2),1)\n",
        "        cos_end_sentence = torch.unsqueeze(self.cos(end_sentence_vectors1, end_sentence_vectors2),1)\n",
        "        \n",
        "        # concatenate values\n",
        "        summary_vectors = torch.hstack((\n",
        "                                        torch.abs(target_term_vectors1-target_term_vectors2),\n",
        "                                        torch.abs(start_sentence_vectors1-start_sentence_vectors2),\n",
        "                                        torch.abs(end_sentence_vectors1-end_sentence_vectors2),\n",
        "                                        cos_target, \n",
        "                                        cos_start_sentence, \n",
        "                                        cos_end_sentence))\n",
        "        \n",
        "        summary_vectors = self.drop(summary_vectors)\n",
        "        \n",
        "        # two fc layers\n",
        "        out = self.lin1(summary_vectors)\n",
        "        out = torch.relu(out)\n",
        "        out = self.bn2(out)\n",
        "        out = self.lin2(out).squeeze(1)\n",
        "\n",
        "        logits = out\n",
        "        pred = torch.sigmoid(logits)\n",
        "\n",
        "        result = {'logits': logits, 'pred': pred}\n",
        "\n",
        "        # compute loss\n",
        "        if y is not None:\n",
        "            loss = self.loss(pred, y)\n",
        "            result[\"loss\"] = loss\n",
        "            result[\"acc\"] = (torch.round(pred) == y).float().sum()/len(y)\n",
        "            # number of correct predictions\n",
        "            result[\"correct\"] = (torch.round(pred) == y).float().sum()\n",
        "\n",
        "        return result\n",
        "    def loss(self, pred, y):\n",
        "        return self.loss_fn(pred, y)\n"
      ],
      "execution_count": null,
      "outputs": []
    },
    {
      "cell_type": "code",
      "metadata": {
        "id": "EVWWFQ_GzWtS"
      },
      "source": [
        "@torch.no_grad()\n",
        "def evaluate(\n",
        "    model: nn.Module,\n",
        "    dataloader: DataLoader,\n",
        "):\n",
        "    losses = []\n",
        "    accs = []\n",
        "    size = 0\n",
        "    for batch in dataloader:\n",
        "        # unpack\n",
        "        sentences, sentence_lengths, target_term_indexes, y = batch\n",
        "\n",
        "        # move data to device\n",
        "        y = y.to(DEVICE)\n",
        "        sentences1, sentences2 = [x.to(DEVICE) for x in sentences]\n",
        "        sentence_lengths1, sentence_lengths2 = [x.to(DEVICE) for x in sentence_lengths]\n",
        "        target_term_indexes1, target_term_indexes2 = [x.to(DEVICE) for x in target_term_indexes]\n",
        "\n",
        "        outputs = model(sentences1, sentences2, sentence_lengths1, sentence_lengths2, target_term_indexes1, target_term_indexes2, y)\n",
        "\n",
        "        # get the number of elements in the batch (it is not constant since the \n",
        "        # number of examples is not a multiple of BATCH_SIZE, so the last batch\n",
        "        # will be smaller)\n",
        "        size += len(y)\n",
        "\n",
        "        # get loss and acc\n",
        "        loss = outputs[\"loss\"]\n",
        "        losses.append(loss*len(y))\n",
        "        # append the number of correct predictions\n",
        "        accs.append(outputs[\"correct\"])\n",
        "\n",
        "    # get mean acc and mean loss\n",
        "    mean_acc = sum(accs)/size\n",
        "    mean_loss = sum(losses) / size\n",
        "    return {\n",
        "        \"loss\": mean_loss,\n",
        "        \"acc\": mean_acc,\n",
        "    }"
      ],
      "execution_count": null,
      "outputs": []
    },
    {
      "cell_type": "code",
      "metadata": {
        "colab": {
          "base_uri": "https://localhost:8080/"
        },
        "id": "cEBQeC199ojj",
        "outputId": "e93b37ef-05d2-4c2f-f879-8a53029d9764"
      },
      "source": [
        "# preproducibility\n",
        "torch.manual_seed(SEED)\n",
        "torch.use_deterministic_algorithms(True)\n",
        "\n",
        "model = Classifier(n_hidden1=128, n_hidden2=32, dropout=0.5, vectors_store=vectors_store, device=DEVICE)\n",
        "model.to(DEVICE)\n",
        "# define the adam optimizer \n",
        "optimizer = torch.optim.Adam(model.parameters(), lr=LR)\n",
        "\n",
        "scores = train_and_evaluate(model, optimizer, train_dataloader, epochs=2_000, dev_dataloader=dev_dataloader, dev_fn=evaluate)"
      ],
      "execution_count": null,
      "outputs": [
        {
          "output_type": "stream",
          "text": [
            "\tEpoch\t  1 => Loss: 0.728405\n",
            "\t\tDevelopment => Loss: 0.694107\n",
            "\t\tDevelopment => Acc: 0.482702\n",
            "\n",
            "\tEpoch\t  2 => Loss: 0.721232\n",
            "\t\tDevelopment => Loss: 0.693576\n",
            "\t\tDevelopment => Acc: 0.482702\n",
            "\n",
            "\tEpoch\t  3 => Loss: 0.715702\n",
            "\t\tDevelopment => Loss: 0.692623\n",
            "\t\tDevelopment => Acc: 0.481054\n",
            "\n",
            "\tEpoch\t  4 => Loss: 0.707877\n",
            "\t\tDevelopment => Loss: 0.690869\n",
            "\t\tDevelopment => Acc: 0.494234\n",
            "\n",
            "\tEpoch\t  5 => Loss: 0.706782\n",
            "\t\tDevelopment => Loss: 0.688355\n",
            "\t\tDevelopment => Acc: 0.520593\n",
            "\n",
            "\tEpoch\t  6 => Loss: 0.704323\n",
            "\t\tDevelopment => Loss: 0.684663\n",
            "\t\tDevelopment => Acc: 0.537068\n",
            "\n",
            "\tEpoch\t  7 => Loss: 0.704047\n",
            "\t\tDevelopment => Loss: 0.680133\n",
            "\t\tDevelopment => Acc: 0.579901\n",
            "\n",
            "\tEpoch\t  8 => Loss: 0.698036\n",
            "\t\tDevelopment => Loss: 0.675219\n",
            "\t\tDevelopment => Acc: 0.591433\n",
            "\n",
            "\tEpoch\t  9 => Loss: 0.696181\n",
            "\t\tDevelopment => Loss: 0.672415\n",
            "\t\tDevelopment => Acc: 0.594728\n",
            "\n",
            "\tEpoch\t 10 => Loss: 0.687056\n",
            "\t\tDevelopment => Loss: 0.669938\n",
            "\t\tDevelopment => Acc: 0.602965\n",
            "\n",
            "\tEpoch\t 11 => Loss: 0.695935\n",
            "\t\tDevelopment => Loss: 0.666920\n",
            "\t\tDevelopment => Acc: 0.611203\n",
            "\n",
            "\tEpoch\t 12 => Loss: 0.689064\n",
            "\t\tDevelopment => Loss: 0.665775\n",
            "\t\tDevelopment => Acc: 0.611203\n",
            "\n",
            "\tEpoch\t 13 => Loss: 0.688736\n",
            "\t\tDevelopment => Loss: 0.665838\n",
            "\t\tDevelopment => Acc: 0.606260\n",
            "\n",
            "\tEpoch\t 14 => Loss: 0.684081\n",
            "\t\tDevelopment => Loss: 0.664011\n",
            "\t\tDevelopment => Acc: 0.609555\n",
            "\n",
            "\tEpoch\t 15 => Loss: 0.686477\n",
            "\t\tDevelopment => Loss: 0.662308\n",
            "\t\tDevelopment => Acc: 0.606260\n",
            "\n",
            "\tEpoch\t 16 => Loss: 0.680097\n",
            "\t\tDevelopment => Loss: 0.660986\n",
            "\t\tDevelopment => Acc: 0.616145\n",
            "\n",
            "\tEpoch\t 17 => Loss: 0.682128\n",
            "\t\tDevelopment => Loss: 0.658458\n",
            "\t\tDevelopment => Acc: 0.617792\n",
            "\n",
            "\tEpoch\t 18 => Loss: 0.675784\n",
            "\t\tDevelopment => Loss: 0.656721\n",
            "\t\tDevelopment => Acc: 0.621087\n",
            "\n",
            "\tEpoch\t 19 => Loss: 0.675639\n",
            "\t\tDevelopment => Loss: 0.654783\n",
            "\t\tDevelopment => Acc: 0.630972\n",
            "\n",
            "\tEpoch\t 20 => Loss: 0.676892\n",
            "\t\tDevelopment => Loss: 0.653105\n",
            "\t\tDevelopment => Acc: 0.626030\n",
            "\n",
            "\tEpoch\t 21 => Loss: 0.674888\n",
            "\t\tDevelopment => Loss: 0.651688\n",
            "\t\tDevelopment => Acc: 0.627677\n",
            "\n",
            "\tEpoch\t 22 => Loss: 0.671980\n",
            "\t\tDevelopment => Loss: 0.650455\n",
            "\t\tDevelopment => Acc: 0.621087\n",
            "\n",
            "\tEpoch\t 23 => Loss: 0.668091\n",
            "\t\tDevelopment => Loss: 0.648987\n",
            "\t\tDevelopment => Acc: 0.621087\n",
            "\n",
            "\tEpoch\t 24 => Loss: 0.664745\n",
            "\t\tDevelopment => Loss: 0.647587\n",
            "\t\tDevelopment => Acc: 0.624382\n",
            "\n",
            "\tEpoch\t 25 => Loss: 0.666356\n",
            "\t\tDevelopment => Loss: 0.645739\n",
            "\t\tDevelopment => Acc: 0.627677\n",
            "\n",
            "\tEpoch\t 26 => Loss: 0.661909\n",
            "\t\tDevelopment => Loss: 0.644319\n",
            "\t\tDevelopment => Acc: 0.640857\n",
            "\n",
            "\tEpoch\t 27 => Loss: 0.664107\n",
            "\t\tDevelopment => Loss: 0.643418\n",
            "\t\tDevelopment => Acc: 0.637562\n",
            "\n",
            "\tEpoch\t 28 => Loss: 0.663534\n",
            "\t\tDevelopment => Loss: 0.643011\n",
            "\t\tDevelopment => Acc: 0.635914\n",
            "\n",
            "\tEpoch\t 29 => Loss: 0.658879\n",
            "\t\tDevelopment => Loss: 0.641200\n",
            "\t\tDevelopment => Acc: 0.632619\n",
            "\n",
            "\tEpoch\t 30 => Loss: 0.653886\n",
            "\t\tDevelopment => Loss: 0.638721\n",
            "\t\tDevelopment => Acc: 0.650741\n",
            "\n",
            "\tEpoch\t 31 => Loss: 0.651458\n",
            "\t\tDevelopment => Loss: 0.637336\n",
            "\t\tDevelopment => Acc: 0.658979\n",
            "\n",
            "\tEpoch\t 32 => Loss: 0.648764\n",
            "\t\tDevelopment => Loss: 0.637010\n",
            "\t\tDevelopment => Acc: 0.647446\n",
            "\n",
            "\tEpoch\t 33 => Loss: 0.645891\n",
            "\t\tDevelopment => Loss: 0.636027\n",
            "\t\tDevelopment => Acc: 0.649094\n",
            "\n",
            "\tEpoch\t 34 => Loss: 0.646069\n",
            "\t\tDevelopment => Loss: 0.634543\n",
            "\t\tDevelopment => Acc: 0.644152\n",
            "\n",
            "\tEpoch\t 35 => Loss: 0.638042\n",
            "\t\tDevelopment => Loss: 0.633783\n",
            "\t\tDevelopment => Acc: 0.649094\n",
            "\n",
            "\tEpoch\t 36 => Loss: 0.638683\n",
            "\t\tDevelopment => Loss: 0.632695\n",
            "\t\tDevelopment => Acc: 0.650741\n",
            "\n",
            "\tEpoch\t 37 => Loss: 0.634139\n",
            "\t\tDevelopment => Loss: 0.631633\n",
            "\t\tDevelopment => Acc: 0.652389\n",
            "\n",
            "\tEpoch\t 38 => Loss: 0.635135\n",
            "\t\tDevelopment => Loss: 0.631891\n",
            "\t\tDevelopment => Acc: 0.642504\n",
            "\n",
            "\tEpoch\t 39 => Loss: 0.633175\n",
            "\t\tDevelopment => Loss: 0.631932\n",
            "\t\tDevelopment => Acc: 0.639209\n",
            "\n",
            "\tEpoch\t 40 => Loss: 0.628442\n",
            "\t\tDevelopment => Loss: 0.631808\n",
            "\t\tDevelopment => Acc: 0.637562\n",
            "\n",
            "\tEpoch\t 41 => Loss: 0.633248\n",
            "\t\tDevelopment => Loss: 0.629928\n",
            "\t\tDevelopment => Acc: 0.637562\n",
            "\n",
            "\tEpoch\t 42 => Loss: 0.629089\n",
            "\t\tDevelopment => Loss: 0.629165\n",
            "\t\tDevelopment => Acc: 0.637562\n",
            "\n",
            "\tEpoch\t 43 => Loss: 0.624575\n",
            "\t\tDevelopment => Loss: 0.628754\n",
            "\t\tDevelopment => Acc: 0.637562\n",
            "\n",
            "\tEpoch\t 44 => Loss: 0.624732\n",
            "\t\tDevelopment => Loss: 0.627170\n",
            "\t\tDevelopment => Acc: 0.654036\n",
            "\n",
            "\tEpoch\t 45 => Loss: 0.613939\n",
            "\t\tDevelopment => Loss: 0.625768\n",
            "\t\tDevelopment => Acc: 0.649094\n",
            "\n",
            "\tEpoch\t 46 => Loss: 0.616260\n",
            "\t\tDevelopment => Loss: 0.626178\n",
            "\t\tDevelopment => Acc: 0.650741\n",
            "\n",
            "\tEpoch\t 47 => Loss: 0.616104\n",
            "\t\tDevelopment => Loss: 0.626265\n",
            "\t\tDevelopment => Acc: 0.650741\n",
            "\n",
            "\tEpoch\t 48 => Loss: 0.601900\n",
            "\t\tDevelopment => Loss: 0.626349\n",
            "\t\tDevelopment => Acc: 0.652389\n",
            "\n",
            "\tEpoch\t 49 => Loss: 0.607693\n",
            "\t\tDevelopment => Loss: 0.625328\n",
            "\t\tDevelopment => Acc: 0.650741\n",
            "\n",
            "\tEpoch\t 50 => Loss: 0.599590\n",
            "\t\tDevelopment => Loss: 0.624386\n",
            "\t\tDevelopment => Acc: 0.650741\n",
            "\n",
            "\tEpoch\t 51 => Loss: 0.603117\n",
            "\t\tDevelopment => Loss: 0.622930\n",
            "\t\tDevelopment => Acc: 0.647446\n",
            "\n",
            "\tEpoch\t 52 => Loss: 0.599969\n",
            "\t\tDevelopment => Loss: 0.621573\n",
            "\t\tDevelopment => Acc: 0.647446\n",
            "\n",
            "\tEpoch\t 53 => Loss: 0.594707\n",
            "\t\tDevelopment => Loss: 0.621118\n",
            "\t\tDevelopment => Acc: 0.640857\n",
            "\n",
            "\tEpoch\t 54 => Loss: 0.586408\n",
            "\t\tDevelopment => Loss: 0.621338\n",
            "\t\tDevelopment => Acc: 0.647446\n",
            "\n",
            "\tEpoch\t 55 => Loss: 0.590353\n",
            "\t\tDevelopment => Loss: 0.620582\n",
            "\t\tDevelopment => Acc: 0.649094\n",
            "\n",
            "\tEpoch\t 56 => Loss: 0.589740\n",
            "\t\tDevelopment => Loss: 0.621757\n",
            "\t\tDevelopment => Acc: 0.637562\n",
            "\n",
            "\tEpoch\t 57 => Loss: 0.586607\n",
            "\t\tDevelopment => Loss: 0.620561\n",
            "\t\tDevelopment => Acc: 0.645799\n",
            "\n",
            "\tEpoch\t 58 => Loss: 0.576492\n",
            "\t\tDevelopment => Loss: 0.620327\n",
            "\t\tDevelopment => Acc: 0.655684\n",
            "\n",
            "\tEpoch\t 59 => Loss: 0.578846\n",
            "\t\tDevelopment => Loss: 0.619318\n",
            "\t\tDevelopment => Acc: 0.657331\n",
            "\n",
            "\tEpoch\t 60 => Loss: 0.571542\n",
            "\t\tDevelopment => Loss: 0.620567\n",
            "\t\tDevelopment => Acc: 0.654036\n",
            "\n",
            "\tEpoch\t 61 => Loss: 0.565880\n",
            "\t\tDevelopment => Loss: 0.620502\n",
            "\t\tDevelopment => Acc: 0.665568\n",
            "\n",
            "\tEpoch\t 62 => Loss: 0.568758\n",
            "\t\tDevelopment => Loss: 0.619514\n",
            "\t\tDevelopment => Acc: 0.667216\n",
            "\n",
            "\tEpoch\t 63 => Loss: 0.558666\n",
            "\t\tDevelopment => Loss: 0.621867\n",
            "\t\tDevelopment => Acc: 0.660626\n",
            "\n",
            "\tEpoch\t 64 => Loss: 0.558927\n",
            "\t\tDevelopment => Loss: 0.620623\n",
            "\t\tDevelopment => Acc: 0.663921\n",
            "\n",
            "\tEpoch\t 65 => Loss: 0.550715\n",
            "\t\tDevelopment => Loss: 0.619770\n",
            "\t\tDevelopment => Acc: 0.662273\n",
            "\n",
            "\tEpoch\t 66 => Loss: 0.548476\n",
            "\t\tDevelopment => Loss: 0.618160\n",
            "\t\tDevelopment => Acc: 0.667216\n",
            "\n",
            "\tEpoch\t 67 => Loss: 0.541174\n",
            "\t\tDevelopment => Loss: 0.619238\n",
            "\t\tDevelopment => Acc: 0.665568\n",
            "\n",
            "\tEpoch\t 68 => Loss: 0.535903\n",
            "\t\tDevelopment => Loss: 0.621915\n",
            "\t\tDevelopment => Acc: 0.663921\n",
            "\n",
            "\tEpoch\t 69 => Loss: 0.545211\n",
            "\t\tDevelopment => Loss: 0.622413\n",
            "\t\tDevelopment => Acc: 0.662273\n",
            "\n",
            "\tEpoch\t 70 => Loss: 0.532284\n",
            "\t\tDevelopment => Loss: 0.623338\n",
            "\t\tDevelopment => Acc: 0.665568\n",
            "\n",
            "\tEpoch\t 71 => Loss: 0.525762\n",
            "\t\tDevelopment => Loss: 0.624159\n",
            "\t\tDevelopment => Acc: 0.668863\n",
            "\n",
            "\tEpoch\t 72 => Loss: 0.527502\n",
            "\t\tDevelopment => Loss: 0.623948\n",
            "\t\tDevelopment => Acc: 0.667216\n",
            "\n",
            "\tEpoch\t 73 => Loss: 0.518969\n",
            "\t\tDevelopment => Loss: 0.622348\n",
            "\t\tDevelopment => Acc: 0.667216\n",
            "\n",
            "\tEpoch\t 74 => Loss: 0.514807\n",
            "\t\tDevelopment => Loss: 0.623748\n",
            "\t\tDevelopment => Acc: 0.672158\n",
            "\n",
            "\tEpoch\t 75 => Loss: 0.517327\n",
            "\t\tDevelopment => Loss: 0.626525\n",
            "\t\tDevelopment => Acc: 0.673806\n",
            "\n",
            "\tEpoch\t 76 => Loss: 0.508396\n",
            "\t\tDevelopment => Loss: 0.626146\n",
            "\t\tDevelopment => Acc: 0.665568\n",
            "\n",
            "\tEpoch\t 77 => Loss: 0.511776\n",
            "\t\tDevelopment => Loss: 0.624632\n",
            "\t\tDevelopment => Acc: 0.672158\n",
            "\n",
            "EARLY STOPPING\n",
            "max_dev_acc: 0.6738055944442749\n"
          ],
          "name": "stdout"
        }
      ]
    },
    {
      "cell_type": "code",
      "metadata": {
        "id": "XEtcaN86dGuz",
        "colab": {
          "base_uri": "https://localhost:8080/",
          "height": 791
        },
        "outputId": "d06d2125-bbcb-497f-da6d-5d98ca60ca08"
      },
      "source": [
        "def plot_logs(logs: dict):\n",
        "    \n",
        "    plt.figure(figsize=(8,6))\n",
        "\n",
        "    plt.plot(list(range(len(logs['train']))), logs['train'], label='Train loss')\n",
        "    plt.plot(list(range(len(logs['dev']))), logs['dev'], label='Dev loss')\n",
        "    \n",
        "    plt.title(\"Losses\")\n",
        "    plt.xlabel('Epochs')\n",
        "    plt.ylabel('Loss')\n",
        "    plt.legend(loc=\"upper right\")\n",
        "\n",
        "    plt.show()\n",
        "\n",
        "    plt.figure(figsize=(8,6))\n",
        "    plt.plot(list(range(len(logs['train_accs']))), logs['train_accs'], label='Train acc')\n",
        "    plt.plot(list(range(len(logs['dev_accs']))), logs['dev_accs'], label='Dev acc')\n",
        "    \n",
        "    plt.title(\"Accs\")\n",
        "    plt.xlabel('Epochs')\n",
        "    plt.ylabel('Acc')\n",
        "    plt.legend(loc=\"upper right\")\n",
        "\n",
        "    plt.show()\n",
        "\n",
        "plot_logs(scores)"
      ],
      "execution_count": null,
      "outputs": [
        {
          "output_type": "display_data",
          "data": {
            "image/png": "[encoded data removed]",
            "text/plain": [
              "<Figure size 576x432 with 1 Axes>"
            ]
          },
          "metadata": {
            "tags": [],
            "needs_background": "light"
          }
        },
        {
          "output_type": "display_data",
          "data": {
            "image/png": "[encoded data removed]",
            "text/plain": [
              "<Figure size 576x432 with 1 Axes>"
            ]
          },
          "metadata": {
            "tags": [],
            "needs_background": "light"
          }
        }
      ]
    },
    {
      "cell_type": "code",
      "metadata": {
        "id": "h14nLRqReVTa"
      },
      "source": [
        "from sklearn.metrics import confusion_matrix\n",
        "import seaborn as sn\n",
        "import pandas as pd\n",
        "from matplotlib import pyplot\n",
        "from sklearn.metrics import roc_curve\n",
        "from sklearn.metrics import roc_auc_score\n",
        "\n",
        "@torch.no_grad()\n",
        "def plots(\n",
        "    model: nn.Module,\n",
        "    dataloader: DataLoader,\n",
        "):\n",
        "    accs = []\n",
        "    preds = torch.tensor([])\n",
        "    gt = torch.tensor([])\n",
        "    size = 0\n",
        "    for batch in dataloader:\n",
        "\n",
        "        sentences, sentence_lengths, target_term_indexes, y = batch\n",
        "\n",
        "        y = y.to(DEVICE)\n",
        "        sentences1, sentences2 = [x.to(DEVICE) for x in sentences]\n",
        "        sentence_lengths1, sentence_lengths2 = [x.to(DEVICE) for x in sentence_lengths]\n",
        "        target_term_indexes1, target_term_indexes2 = [x.to(DEVICE) for x in target_term_indexes]\n",
        "\n",
        "\n",
        "        outputs = model(sentences1, sentences2, sentence_lengths1, sentence_lengths2, target_term_indexes1, target_term_indexes2, y)\n",
        "\n",
        "        # get the number of elements in the batch (it is not constant since the \n",
        "        # number of examples is not a multiple of BATCH_SIZE, so the last batch\n",
        "        # will be smaller)\n",
        "        size += len(y)\n",
        "        preds = torch.hstack((preds, outputs[\"pred\"]))\n",
        "        gt = torch.hstack((gt, y))\n",
        "        accs.append(outputs[\"correct\"])\n",
        "\n",
        "    # get mean acc and mean loss\n",
        "    mean_acc = sum(accs)/size\n",
        "    \n",
        "    # confusion matrix\n",
        "    classes = [\"True\", \"False\"]\n",
        "    cf_matrix = confusion_matrix(gt.cpu().numpy(), torch.round(preds).cpu().numpy())\n",
        "    df_cm = pd.DataFrame(cf_matrix, index = [i for i in classes],\n",
        "                     columns = [i for i in classes])\n",
        "    plt.figure(figsize = (12,7))\n",
        "    sn.heatmap(df_cm, annot=True, cmap='Blues', fmt='g')\n",
        "    plt.savefig('output.png')\n",
        "    plt.show()\n",
        "\n",
        "    print()\n",
        "\n",
        "    # roc curve and score\n",
        "    roc_score = roc_auc_score(gt.cpu().numpy(), preds.cpu().numpy())\n",
        "    fpr, tpr, _ = roc_curve(gt.cpu().numpy(), preds.cpu().numpy())\n",
        "\n",
        "    # plot the roc curve for the model\n",
        "    pyplot.plot(fpr, tpr, marker='.', label='ROC AUC=%.3f' % (roc_score))\n",
        "    # axis labels\n",
        "    pyplot.xlabel('False Positive Rate')\n",
        "    pyplot.ylabel('True Positive Rate')\n",
        "    pyplot.legend()\n",
        "    # show the plot\n",
        "    pyplot.show()"
      ],
      "execution_count": null,
      "outputs": []
    },
    {
      "cell_type": "code",
      "metadata": {
        "colab": {
          "base_uri": "https://localhost:8080/",
          "height": 707
        },
        "id": "HJ6Zx4WseW0-",
        "outputId": "a2faadb7-7ffe-4b8e-b174-6a50c522ab4b"
      },
      "source": [
        "model = Classifier(n_hidden1=128, n_hidden2=32, dropout=0.5, vectors_store=vectors_store, device=DEVICE)\n",
        "model.load_state_dict(torch.load(f\"{FILE_NAME}.pt\"))\n",
        "model.eval()\n",
        "\n",
        "plots(model, dev_dataloader)"
      ],
      "execution_count": null,
      "outputs": [
        {
          "output_type": "display_data",
          "data": {
            "image/png": "[encoded data removed]",
            "text/plain": [
              "<Figure size 864x504 with 2 Axes>"
            ]
          },
          "metadata": {
            "tags": [],
            "needs_background": "light"
          }
        },
        {
          "output_type": "stream",
          "text": [
            "\n"
          ],
          "name": "stdout"
        },
        {
          "output_type": "display_data",
          "data": {
            "image/png": "[encoded data removed]",
            "text/plain": [
              "<Figure size 432x288 with 1 Axes>"
            ]
          },
          "metadata": {
            "tags": [],
            "needs_background": "light"
          }
        }
      ]
    }
  ]
}