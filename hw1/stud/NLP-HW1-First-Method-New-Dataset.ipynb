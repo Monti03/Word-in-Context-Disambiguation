{
  "nbformat": 4,
  "nbformat_minor": 0,
  "metadata": {
    "colab": {
      "name": "New Dataset Download-data-734-HW1-word_level",
      "provenance": [],
      "collapsed_sections": [],
      "toc_visible": true
    },
    "kernelspec": {
      "name": "python3",
      "display_name": "Python 3"
    },
    "accelerator": "GPU"
  },
  "cells": [
    {
      "cell_type": "markdown",
      "metadata": {
        "id": "DFxNTxGDeVaL"
      },
      "source": [
        "# Preparing the Environment"
      ]
    },
    {
      "cell_type": "code",
      "metadata": {
        "id": "YfD_pcyZe0LR",
        "colab": {
          "base_uri": "https://localhost:8080/"
        },
        "outputId": "73a483d6-0b52-4998-d739-fc8ee03c18b3"
      },
      "source": [
        "# imports\n",
        "import matplotlib.pyplot as plt\n",
        "import numpy as np\n",
        "import json\n",
        "import re\n",
        "\n",
        "from collections import Counter\n",
        "from tqdm.notebook import tqdm\n",
        "from typing import *\n",
        "\n",
        "import nltk\n",
        "from nltk.corpus import stopwords\n",
        "from nltk.tokenize import word_tokenize\n",
        "nltk.download('stopwords')\n",
        "nltk.download('punkt')"
      ],
      "execution_count": null,
      "outputs": [
        {
          "output_type": "stream",
          "text": [
            "[nltk_data] Downloading package stopwords to /root/nltk_data...\n",
            "[nltk_data]   Unzipping corpora/stopwords.zip.\n",
            "[nltk_data] Downloading package punkt to /root/nltk_data...\n",
            "[nltk_data]   Unzipping tokenizers/punkt.zip.\n"
          ],
          "name": "stdout"
        },
        {
          "output_type": "execute_result",
          "data": {
            "text/plain": [
              "True"
            ]
          },
          "metadata": {
            "tags": []
          },
          "execution_count": 1
        }
      ]
    },
    {
      "cell_type": "code",
      "metadata": {
        "id": "8VQo_JT08ES3"
      },
      "source": [
        "# pythorch imports\n",
        "import torch\n",
        "\n",
        "from torch import nn\n",
        "from torch.utils.data import Dataset, DataLoader"
      ],
      "execution_count": null,
      "outputs": []
    },
    {
      "cell_type": "code",
      "metadata": {
        "id": "CL1tzNUsZRCr"
      },
      "source": [
        "# seed used in order to thave reproducibility\n",
        "SEED = 93\n",
        "\n",
        "# patience in the train\n",
        "PATIENCE = 10\n",
        "\n",
        "# weight to give to the target term when building the embeddings of the phrases\n",
        "# I have set it to zero since I think that is more important the context than\n",
        "# the given term, since it is surely in both the phrases\n",
        "WEIGHT = 0\n",
        "\n",
        "# embedding dimension\n",
        "EMBEDDING_DIMENSION = 300\n",
        "\n",
        "\n",
        "LR = 0.000_01\n",
        "BATCH_SIZE = 300"
      ],
      "execution_count": null,
      "outputs": []
    },
    {
      "cell_type": "code",
      "metadata": {
        "id": "JHY51I6xBdjg"
      },
      "source": [
        "# hanlde preproducibility by setting the seed and deterministic algorithms\n",
        "torch.manual_seed(SEED)\n",
        "torch.use_deterministic_algorithms(True)"
      ],
      "execution_count": null,
      "outputs": []
    },
    {
      "cell_type": "code",
      "metadata": {
        "id": "4XrspF4VBI9A"
      },
      "source": [
        "# get the name of the file (works in colab) I sued it in order to save the \n",
        "# models (since I tried several models each with a different colab file)\n",
        "from requests import get\n",
        "# the below command do not work in local, but works in colab\n",
        "#FILE_NAME = get('http://172.28.0.2:9000/api/sessions').json()[0]['name']\n",
        "FILE_NAME = \"NLP-HW1-First-Method-New-Dataset\""
      ],
      "execution_count": null,
      "outputs": []
    },
    {
      "cell_type": "code",
      "metadata": {
        "id": "K1QQNq__fKgr"
      },
      "source": [
        "! rm -rf sample_data"
      ],
      "execution_count": null,
      "outputs": []
    },
    {
      "cell_type": "code",
      "metadata": {
        "colab": {
          "base_uri": "https://localhost:8080/"
        },
        "id": "SoOh8WMjQnLU",
        "outputId": "75f5c857-c979-426d-b22b-e581bb61cb39"
      },
      "source": [
        "# download the datasets\n",
        "! wget https://pilehvar.github.io/xlwic/data/xlwic_datasets.zip"
      ],
      "execution_count": null,
      "outputs": [
        {
          "output_type": "stream",
          "text": [
            "--2021-05-01 09:36:48--  https://pilehvar.github.io/xlwic/data/xlwic_datasets.zip\n",
            "Resolving pilehvar.github.io (pilehvar.github.io)... 185.199.108.153, 185.199.109.153, 185.199.110.153, ...\n",
            "Connecting to pilehvar.github.io (pilehvar.github.io)|185.199.108.153|:443... connected.\n",
            "HTTP request sent, awaiting response... 200 OK\n",
            "Length: 18748158 (18M) [application/zip]\n",
            "Saving to: ‘xlwic_datasets.zip’\n",
            "\n",
            "\rxlwic_datasets.zip    0%[                    ]       0  --.-KB/s               \rxlwic_datasets.zip  100%[===================>]  17.88M  --.-KB/s    in 0.1s    \n",
            "\n",
            "2021-05-01 09:36:48 (161 MB/s) - ‘xlwic_datasets.zip’ saved [18748158/18748158]\n",
            "\n"
          ],
          "name": "stdout"
        }
      ]
    },
    {
      "cell_type": "code",
      "metadata": {
        "colab": {
          "base_uri": "https://localhost:8080/"
        },
        "id": "Z_cPIFqQasCH",
        "outputId": "09002225-a0ac-4546-f118-01cac81af7ae"
      },
      "source": [
        "! unzip /content/xlwic_datasets.zip"
      ],
      "execution_count": null,
      "outputs": [
        {
          "output_type": "stream",
          "text": [
            "Archive:  /content/xlwic_datasets.zip\n",
            "   creating: xlwic_datasets/\n",
            "  inflating: xlwic_datasets/.DS_Store  \n",
            "  inflating: xlwic_datasets/README.txt  \n",
            "   creating: xlwic_datasets/wic_english/\n",
            "  inflating: xlwic_datasets/wic_english/train_en.txt  \n",
            "  inflating: xlwic_datasets/wic_english/valid_en.txt  \n",
            "  inflating: xlwic_datasets/xlwic_scorer.py  \n",
            "   creating: xlwic_datasets/xlwic_wikt/\n",
            "  inflating: xlwic_datasets/xlwic_wikt/.DS_Store  \n",
            "   creating: xlwic_datasets/xlwic_wikt/french_fr/\n",
            "  inflating: xlwic_datasets/xlwic_wikt/french_fr/.DS_Store  \n",
            "   creating: xlwic_datasets/xlwic_wikt/french_fr/IV/\n",
            "  inflating: xlwic_datasets/xlwic_wikt/french_fr/IV/fr_iv_test_data.txt  \n",
            "  inflating: xlwic_datasets/xlwic_wikt/french_fr/IV/fr_iv_test_gold.txt  \n",
            "   creating: xlwic_datasets/xlwic_wikt/french_fr/OOV/\n",
            "  inflating: xlwic_datasets/xlwic_wikt/french_fr/OOV/fr_oov_test_data.txt  \n",
            "  inflating: xlwic_datasets/xlwic_wikt/french_fr/OOV/fr_oov_test_gold.txt  \n",
            "  inflating: xlwic_datasets/xlwic_wikt/french_fr/fr_test_data.txt  \n",
            "  inflating: xlwic_datasets/xlwic_wikt/french_fr/fr_test_gold.txt  \n",
            "  inflating: xlwic_datasets/xlwic_wikt/french_fr/fr_train.txt  \n",
            "  inflating: xlwic_datasets/xlwic_wikt/french_fr/fr_valid.txt  \n",
            "   creating: xlwic_datasets/xlwic_wikt/german_de/\n",
            "  inflating: xlwic_datasets/xlwic_wikt/german_de/.DS_Store  \n",
            "   creating: xlwic_datasets/xlwic_wikt/german_de/IV/\n",
            "  inflating: xlwic_datasets/xlwic_wikt/german_de/IV/de_iv_test_data.txt  \n",
            "  inflating: xlwic_datasets/xlwic_wikt/german_de/IV/de_iv_test_gold.txt  \n",
            "   creating: xlwic_datasets/xlwic_wikt/german_de/OOV/\n",
            "  inflating: xlwic_datasets/xlwic_wikt/german_de/OOV/de_oov_test_data.txt  \n",
            "  inflating: xlwic_datasets/xlwic_wikt/german_de/OOV/de_oov_test_gold.txt  \n",
            "  inflating: xlwic_datasets/xlwic_wikt/german_de/de_test_data.txt  \n",
            "  inflating: xlwic_datasets/xlwic_wikt/german_de/de_test_gold.txt  \n",
            "  inflating: xlwic_datasets/xlwic_wikt/german_de/de_train.txt  \n",
            "  inflating: xlwic_datasets/xlwic_wikt/german_de/de_valid.txt  \n",
            "   creating: xlwic_datasets/xlwic_wikt/italian_it/\n",
            "  inflating: xlwic_datasets/xlwic_wikt/italian_it/.DS_Store  \n",
            "   creating: xlwic_datasets/xlwic_wikt/italian_it/IV/\n",
            "  inflating: xlwic_datasets/xlwic_wikt/italian_it/IV/it_iv_test_data.txt  \n",
            "  inflating: xlwic_datasets/xlwic_wikt/italian_it/IV/it_iv_test_gold.txt  \n",
            "   creating: xlwic_datasets/xlwic_wikt/italian_it/OOV/\n",
            "  inflating: xlwic_datasets/xlwic_wikt/italian_it/OOV/it_oov_test_data.txt  \n",
            "  inflating: xlwic_datasets/xlwic_wikt/italian_it/OOV/it_oov_test_gold.txt  \n",
            "  inflating: xlwic_datasets/xlwic_wikt/italian_it/it_test_data.txt  \n",
            "  inflating: xlwic_datasets/xlwic_wikt/italian_it/it_test_gold.txt  \n",
            "  inflating: xlwic_datasets/xlwic_wikt/italian_it/it_train.txt  \n",
            "  inflating: xlwic_datasets/xlwic_wikt/italian_it/it_valid.txt  \n",
            "   creating: xlwic_datasets/xlwic_wn/\n",
            "  inflating: xlwic_datasets/xlwic_wn/.DS_Store  \n",
            "   creating: xlwic_datasets/xlwic_wn/bulgarian_bg/\n",
            "  inflating: xlwic_datasets/xlwic_wn/bulgarian_bg/.DS_Store  \n",
            "  inflating: xlwic_datasets/xlwic_wn/bulgarian_bg/bg_test_data.txt  \n",
            "  inflating: xlwic_datasets/xlwic_wn/bulgarian_bg/bg_test_gold.txt  \n",
            "  inflating: xlwic_datasets/xlwic_wn/bulgarian_bg/bg_valid.txt  \n",
            "   creating: xlwic_datasets/xlwic_wn/chinese_zh/\n",
            "  inflating: xlwic_datasets/xlwic_wn/chinese_zh/.DS_Store  \n",
            "  inflating: xlwic_datasets/xlwic_wn/chinese_zh/zh_test_data.txt  \n",
            "  inflating: xlwic_datasets/xlwic_wn/chinese_zh/zh_test_gold.txt  \n",
            "  inflating: xlwic_datasets/xlwic_wn/chinese_zh/zh_valid.txt  \n",
            "   creating: xlwic_datasets/xlwic_wn/croatian_hr/\n",
            "  inflating: xlwic_datasets/xlwic_wn/croatian_hr/.DS_Store  \n",
            "  inflating: xlwic_datasets/xlwic_wn/croatian_hr/hr_test_data.txt  \n",
            "  inflating: xlwic_datasets/xlwic_wn/croatian_hr/hr_test_gold.txt  \n",
            "  inflating: xlwic_datasets/xlwic_wn/croatian_hr/hr_valid.txt  \n",
            "   creating: xlwic_datasets/xlwic_wn/danish_da/\n",
            "  inflating: xlwic_datasets/xlwic_wn/danish_da/.DS_Store  \n",
            "  inflating: xlwic_datasets/xlwic_wn/danish_da/da_test_data.txt  \n",
            "  inflating: xlwic_datasets/xlwic_wn/danish_da/da_test_gold.txt  \n",
            "  inflating: xlwic_datasets/xlwic_wn/danish_da/da_valid.txt  \n",
            "   creating: xlwic_datasets/xlwic_wn/dutch_nl/\n",
            "  inflating: xlwic_datasets/xlwic_wn/dutch_nl/.DS_Store  \n",
            "  inflating: xlwic_datasets/xlwic_wn/dutch_nl/nl_test_data.txt  \n",
            "  inflating: xlwic_datasets/xlwic_wn/dutch_nl/nl_test_gold.txt  \n",
            "  inflating: xlwic_datasets/xlwic_wn/dutch_nl/nl_valid.txt  \n",
            "   creating: xlwic_datasets/xlwic_wn/estonian_et/\n",
            "  inflating: xlwic_datasets/xlwic_wn/estonian_et/.DS_Store  \n",
            "  inflating: xlwic_datasets/xlwic_wn/estonian_et/et_test_data.txt  \n",
            "  inflating: xlwic_datasets/xlwic_wn/estonian_et/et_test_gold.txt  \n",
            "  inflating: xlwic_datasets/xlwic_wn/estonian_et/et_valid.txt  \n",
            "   creating: xlwic_datasets/xlwic_wn/farsi_fa/\n",
            "  inflating: xlwic_datasets/xlwic_wn/farsi_fa/.DS_Store  \n",
            "  inflating: xlwic_datasets/xlwic_wn/farsi_fa/fa_test_data.txt  \n",
            "  inflating: xlwic_datasets/xlwic_wn/farsi_fa/fa_test_gold.txt  \n",
            "  inflating: xlwic_datasets/xlwic_wn/farsi_fa/fa_valid.txt  \n",
            "   creating: xlwic_datasets/xlwic_wn/japanese_ja/\n",
            "  inflating: xlwic_datasets/xlwic_wn/japanese_ja/.DS_Store  \n",
            "  inflating: xlwic_datasets/xlwic_wn/japanese_ja/ja_test_data.txt  \n",
            "  inflating: xlwic_datasets/xlwic_wn/japanese_ja/ja_test_gold.txt  \n",
            "  inflating: xlwic_datasets/xlwic_wn/japanese_ja/ja_valid.txt  \n",
            "   creating: xlwic_datasets/xlwic_wn/korean_ko/\n",
            "  inflating: xlwic_datasets/xlwic_wn/korean_ko/.DS_Store  \n",
            "  inflating: xlwic_datasets/xlwic_wn/korean_ko/ko_test_data.txt  \n",
            "  inflating: xlwic_datasets/xlwic_wn/korean_ko/ko_test_gold.txt  \n",
            "  inflating: xlwic_datasets/xlwic_wn/korean_ko/ko_valid.txt  \n"
          ],
          "name": "stdout"
        }
      ]
    },
    {
      "cell_type": "code",
      "metadata": {
        "id": "wwyr26ftQt4W"
      },
      "source": [
        "# load train and dev sets\n",
        "with open (\"/content/xlwic_datasets/wic_english/train_en.txt\") as fin:\n",
        "  data = []\n",
        "  cnt = 0\n",
        "  for line in fin:\n",
        "    elements = line.strip().split('\\t')\n",
        "    \n",
        "    entry = {\n",
        "        \"lemma\" : elements[0],\n",
        "        \"pos\" : elements[1],\n",
        "        \"start1\" : elements[2],\n",
        "        \"end1\" : elements[3], \n",
        "        \"start2\" : elements[4], \n",
        "        \"end2\" : elements[5], \n",
        "        \"sentence1\" : elements[6], \n",
        "        \"sentence2\" : elements[7], \n",
        "        \"label\" : \"True\" if elements[8] == \"1\" else \"False\"\n",
        "    }\n",
        "    data.append(entry)\n",
        "\n",
        "\n",
        "with open (\"/content/xlwic_datasets/wic_english/valid_en.txt\") as fin:\n",
        "  for line in fin:\n",
        "    elements = line.strip().split('\\t')\n",
        "  \n",
        "    entry = {\n",
        "        \"lemma\" : elements[0],\n",
        "        \"pos\" : elements[1],\n",
        "        \"start1\" : elements[2],\n",
        "        \"end1\" : elements[3], \n",
        "        \"start2\" : elements[4], \n",
        "        \"end2\" : elements[5], \n",
        "        \"sentence1\" : elements[6], \n",
        "        \"sentence2\" : elements[7], \n",
        "        \"label\" : \"True\" if elements[8] == \"1\" else \"False\"\n",
        "    }\n",
        "    data.append(entry)\n"
      ],
      "execution_count": null,
      "outputs": []
    },
    {
      "cell_type": "code",
      "metadata": {
        "colab": {
          "base_uri": "https://localhost:8080/"
        },
        "id": "ch0h2sxq5Y41",
        "outputId": "3622e1b0-b1b3-43bf-a24d-5ac11f9db215"
      },
      "source": [
        "# see the structure of an entry of the dataset\n",
        "data[0]"
      ],
      "execution_count": null,
      "outputs": [
        {
          "output_type": "execute_result",
          "data": {
            "text/plain": [
              "{'end1': '8',\n",
              " 'end2': '11',\n",
              " 'label': 'False',\n",
              " 'lemma': 'approach',\n",
              " 'pos': 'V',\n",
              " 'sentence1': 'Approach a task.',\n",
              " 'sentence2': 'To approach the city.',\n",
              " 'start1': '0',\n",
              " 'start2': '3'}"
            ]
          },
          "metadata": {
            "tags": []
          },
          "execution_count": 10
        }
      ]
    },
    {
      "cell_type": "markdown",
      "metadata": {
        "id": "2zQSaLyicbSY"
      },
      "source": [
        "**Visualize class distribution** in order to see if is usefull to weight the classes in the loss function"
      ]
    },
    {
      "cell_type": "code",
      "metadata": {
        "colab": {
          "base_uri": "https://localhost:8080/",
          "height": 315
        },
        "id": "b2BKER5_vtIn",
        "outputId": "995b1bf3-9bfa-4e49-d764-3f6e7f478946"
      },
      "source": [
        "def visualize_class_distribution(train_gold: dict, title: str):\n",
        "    \n",
        "    counter = Counter()\n",
        "\n",
        "    for entry in train_gold:\n",
        "        label = entry[\"label\"] \n",
        "        counter[label] += 1\n",
        "\n",
        "    labels = sorted(counter)\n",
        "    values = [counter[label] for label in labels]\n",
        "\n",
        "    plt.bar(labels, values)\n",
        "    plt.title(title)\n",
        "    plt.show()\n",
        "    t_count = counter[\"True\"]\n",
        "    f_count = counter[\"False\"]\n",
        "    \n",
        "    print(f\"T: {t_count}\")\n",
        "    print(f\"F: {f_count}\")\n",
        "\n",
        "\n",
        "visualize_class_distribution(data, \"label distribution in development data\")\n"
      ],
      "execution_count": null,
      "outputs": [
        {
          "output_type": "display_data",
          "data": {
            "image/png": "[encoded data removed]",
            "text/plain": [
              "<Figure size 432x288 with 1 Axes>"
            ]
          },
          "metadata": {
            "tags": [],
            "needs_background": "light"
          }
        },
        {
          "output_type": "stream",
          "text": [
            "T: 3033\n",
            "F: 3033\n"
          ],
          "name": "stdout"
        }
      ]
    },
    {
      "cell_type": "markdown",
      "metadata": {
        "id": "i-LkaJ0Rwhll"
      },
      "source": [
        "So the classes are balanced. \n",
        "Let's see how the classes are distributed with respect to the pos tag"
      ]
    },
    {
      "cell_type": "code",
      "metadata": {
        "colab": {
          "base_uri": "https://localhost:8080/",
          "height": 681
        },
        "id": "Uk4oS7N2vJ27",
        "outputId": "813af51a-d401-4da9-b244-d85ee30f67de"
      },
      "source": [
        "def visualize_class_distribution_wrt_pos(train: dict, title: str):\n",
        "    # dictionary containing a counter per pos\n",
        "    counter = {}  \n",
        "  \n",
        "    for entry in train:\n",
        "        label = entry[\"label\"] \n",
        "        pos = entry[\"pos\"]\n",
        "        if (not pos in counter):\n",
        "          counter[pos] = Counter()  \n",
        "        counter[pos][label] += 1\n",
        "\n",
        "    for pos in counter:\n",
        "      print(f\"\\npos: {pos}\")\n",
        "      labels = sorted(counter[pos])\n",
        "      values = [counter[pos][label] for label in labels]\n",
        "\n",
        "      plt.bar(labels, values)\n",
        "      plt.title(title + f\" pos: {pos}\")\n",
        "      plt.show()\n",
        "      t_count = counter[pos][\"True\"]\n",
        "      f_count = counter[pos][\"False\"]\n",
        "    \n",
        "      print(f\"T: {t_count}\")\n",
        "      print(f\"F: {f_count}\")\n",
        "\n",
        "visualize_class_distribution_wrt_pos(data, \"label distribution in data\")\n"
      ],
      "execution_count": null,
      "outputs": [
        {
          "output_type": "stream",
          "text": [
            "\n",
            "pos: V\n"
          ],
          "name": "stdout"
        },
        {
          "output_type": "display_data",
          "data": {
            "image/png": "[encoded data removed]",
            "text/plain": [
              "<Figure size 432x288 with 1 Axes>"
            ]
          },
          "metadata": {
            "tags": [],
            "needs_background": "light"
          }
        },
        {
          "output_type": "stream",
          "text": [
            "T: 1364\n",
            "F: 1514\n",
            "\n",
            "pos: N\n"
          ],
          "name": "stdout"
        },
        {
          "output_type": "display_data",
          "data": {
            "image/png": "[encoded data removed]",
            "text/plain": [
              "<Figure size 432x288 with 1 Axes>"
            ]
          },
          "metadata": {
            "tags": [],
            "needs_background": "light"
          }
        },
        {
          "output_type": "stream",
          "text": [
            "T: 1669\n",
            "F: 1519\n"
          ],
          "name": "stdout"
        }
      ]
    },
    {
      "cell_type": "markdown",
      "metadata": {
        "id": "ueGkRHclxC3Q"
      },
      "source": [
        "As we can see from the precedent plots the classes are almost balanced also with respect to the pos tags"
      ]
    },
    {
      "cell_type": "code",
      "metadata": {
        "colab": {
          "base_uri": "https://localhost:8080/"
        },
        "id": "OSQnogT0fbxR",
        "outputId": "f83aee98-0b7d-45da-9deb-6d11f553ed14"
      },
      "source": [
        "# download the pre trained embeddings\n",
        "! wget http://nlp.stanford.edu/data/glove.840B.300d.zip"
      ],
      "execution_count": null,
      "outputs": [
        {
          "output_type": "stream",
          "text": [
            "--2021-05-01 09:37:03--  http://nlp.stanford.edu/data/glove.840B.300d.zip\n",
            "Resolving nlp.stanford.edu (nlp.stanford.edu)... 171.64.67.140\n",
            "Connecting to nlp.stanford.edu (nlp.stanford.edu)|171.64.67.140|:80... connected.\n",
            "HTTP request sent, awaiting response... 302 Found\n",
            "Location: https://nlp.stanford.edu/data/glove.840B.300d.zip [following]\n",
            "--2021-05-01 09:37:03--  https://nlp.stanford.edu/data/glove.840B.300d.zip\n",
            "Connecting to nlp.stanford.edu (nlp.stanford.edu)|171.64.67.140|:443... connected.\n",
            "HTTP request sent, awaiting response... 301 Moved Permanently\n",
            "Location: http://downloads.cs.stanford.edu/nlp/data/glove.840B.300d.zip [following]\n",
            "--2021-05-01 09:37:04--  http://downloads.cs.stanford.edu/nlp/data/glove.840B.300d.zip\n",
            "Resolving downloads.cs.stanford.edu (downloads.cs.stanford.edu)... 171.64.64.22\n",
            "Connecting to downloads.cs.stanford.edu (downloads.cs.stanford.edu)|171.64.64.22|:80... connected.\n",
            "HTTP request sent, awaiting response... 200 OK\n",
            "Length: 2176768927 (2.0G) [application/zip]\n",
            "Saving to: ‘glove.840B.300d.zip’\n",
            "\n",
            "glove.840B.300d.zip 100%[===================>]   2.03G  5.17MB/s    in 6m 54s  \n",
            "\n",
            "2021-05-01 09:43:58 (5.02 MB/s) - ‘glove.840B.300d.zip’ saved [2176768927/2176768927]\n",
            "\n"
          ],
          "name": "stdout"
        }
      ]
    },
    {
      "cell_type": "code",
      "metadata": {
        "colab": {
          "base_uri": "https://localhost:8080/"
        },
        "id": "hgtWO6hthrsu",
        "outputId": "b68d3b7f-fed5-4eb3-a0b8-fd94e17af2c2"
      },
      "source": [
        "# unzip the embeddings\n",
        "! sudo apt-get install unzip\n",
        "! unzip glove.840B.300d.zip -d glove"
      ],
      "execution_count": null,
      "outputs": [
        {
          "output_type": "stream",
          "text": [
            "Reading package lists... Done\n",
            "Building dependency tree       \n",
            "Reading state information... Done\n",
            "unzip is already the newest version (6.0-21ubuntu1.1).\n",
            "The following package was automatically installed and is no longer required:\n",
            "  libnvidia-common-460\n",
            "Use 'sudo apt autoremove' to remove it.\n",
            "0 upgraded, 0 newly installed, 0 to remove and 34 not upgraded.\n",
            "Archive:  glove.840B.300d.zip\n",
            "  inflating: glove/glove.840B.300d.txt  \n"
          ],
          "name": "stdout"
        }
      ]
    },
    {
      "cell_type": "code",
      "metadata": {
        "id": "nK5Brzs0hOOX"
      },
      "source": [
        "# Split data into train, dev and test\n",
        "import random\n",
        "random.seed(SEED)\n",
        "random.shuffle(data)\n",
        "train = data[:int(len(data)*0.8)]\n",
        "dev = data[int(len(data)*0.8):int(len(data)*0.9)]\n",
        "test = data[int(len(data)*0.9):]\n"
      ],
      "execution_count": null,
      "outputs": []
    },
    {
      "cell_type": "markdown",
      "metadata": {
        "id": "0dCogkvtxQ1d"
      },
      "source": [
        "**Load the embedding** and check for oov terms"
      ]
    },
    {
      "cell_type": "code",
      "metadata": {
        "id": "gbHOXxiuY_ZK"
      },
      "source": [
        "# load the embeddings to a dictionary with key the term and value the embedding\n",
        "embeddings = {}\n",
        "with open(f\"glove/glove.840B.{EMBEDDING_DIMENSION}d.txt\") as fin:\n",
        "  for line in fin:\n",
        "    term, *embedding = line.strip().split(\" \")\n",
        "    embedding = torch.tensor(list(map(lambda x: float(x), embedding)))\n",
        "        \n",
        "    embeddings[term] = embedding"
      ],
      "execution_count": null,
      "outputs": []
    },
    {
      "cell_type": "code",
      "metadata": {
        "colab": {
          "base_uri": "https://localhost:8080/"
        },
        "id": "k5o1LnCPaM0c",
        "outputId": "2e7283cd-212a-4af9-85d6-fc29adabfd9a"
      },
      "source": [
        "# check for out of words vocabulary\n",
        "def check_oovs(train:list, dev:list, test:list, embeddings:dict):\n",
        "  oovs = {}\n",
        "  for dataset in [(train, \"train\"), (dev, \"dev\"), (test, \"test\")]:\n",
        "    oovs[dataset[1]] = set()\n",
        "    for entry in dataset[0]:\n",
        "      s1 = entry[\"sentence1\"]\n",
        "      for term in s1.split(\" \"):\n",
        "        if (term not in embeddings):\n",
        "          oovs[dataset[1]].add(term)\n",
        "      \n",
        "      s2 = entry[\"sentence2\"]\n",
        "      for term in s2.split(\" \"):\n",
        "        if (term not in embeddings):\n",
        "          oovs[dataset[1]].add(term)\n",
        "    # print num of oov terms\n",
        "    print(len(oovs[dataset[1]]))\n",
        "    # print the first oov terms\n",
        "    print(list(oovs[dataset[1]])[:20])\n",
        "\n",
        "check_oovs(train, dev, test, embeddings)"
      ],
      "execution_count": null,
      "outputs": [
        {
          "output_type": "stream",
          "text": [
            "2737\n",
            "['automatically.', 'doughnuts.', 'invention.', 'falling.', 'birdies.', 'thumb.', 'unusual.', 'sermon,', 'claims.', 'salary.', 'orbit.', \"James's\", 'cigar.', \"moon's\", 'impressive,', 'squeakers.', 'conversation\"', 'coffee,', 'Prescott.', \"government's\"]\n",
            "558\n",
            "['here!', 'invention.', 'painlessly,', 'pheasants.', 'stains.', 'numbers?', \"There's\", 'shut.', 'economics.', \"isn't\", 'windows?', 'west.', 'onions.', 'Prescott.', 'triangle.', 'traitor.', 'art!', 'table?', 'agonist.', 'inferior.']\n",
            "561\n",
            "['doughnuts.', 'six.', 'here!', 'poet,', 'falling.', 'governor.', 'drill?', 'stains.', 'limitations.', 'unusual.', 'shut.', 'cigar.', 'limitation.', \"'will\", 'remarks?', 'quick,', \"Mann's\", 'scissors,', 'division.', 'feared,']\n"
          ],
          "name": "stdout"
        }
      ]
    },
    {
      "cell_type": "markdown",
      "metadata": {
        "id": "8_Z4Zfoycf_g"
      },
      "source": [
        "I have to do some preprocessing of the data in order to remove some out of vocabulary terms: \n",
        "\n",
        "1. remove punctuation\n",
        "2. lower "
      ]
    },
    {
      "cell_type": "code",
      "metadata": {
        "colab": {
          "base_uri": "https://localhost:8080/"
        },
        "id": "kdl2d03YcYYl",
        "outputId": "156fa2d7-a7be-4229-e773-4d6d27b46dce"
      },
      "source": [
        "# I tried also to remove stopwords but this was not usefull\n",
        "def remove_stopwords(phrase: str, original_term: str):\n",
        "  tokens = phrase.split(\" \")\n",
        "  tokens = [token for token in tokens if (token == original_term or not token in stopwords.words()) ]\n",
        "\n",
        "  return (\" \").join(tokens)\n",
        "\n",
        "# preprocess a single phrase by removing punctuation and lowerize it\n",
        "def preprocess_phrase(sentence:str, start:int, end:int):\n",
        "  # get the original target term\n",
        "  original_term = sentence[start:end].lower()\n",
        "  \n",
        "  # replace punctuation with space\n",
        "  sentence = re.sub(r\"[()\\\",\\-—.;/:@<>#?!&$“”'’`–%\\[\\]−]+\", \" \", sentence) \n",
        "  # remove extra space\n",
        "  sentence = re.sub(r\"\\s+\", \" \", sentence)\n",
        "  sentence = sentence.replace(\"'s\", \" 's\")\n",
        "  # strip and lowerize the obtained sentence\n",
        "  sentence = sentence.strip().lower()\n",
        "  \n",
        "  # get the new position of the target term\n",
        "  start_n = sentence.find(original_term)\n",
        "  end_n = start_n + len(original_term)\n",
        "\n",
        "  # check that the position is correct\n",
        "  assert original_term == sentence[start_n:end_n] \n",
        "\n",
        "  return sentence, start_n, end_n\n",
        "\n",
        "def preprocessing(entries: List[Dict])-> List[Dict]:\n",
        "  preprocessed = []\n",
        "  for entry in entries:\n",
        "    \n",
        "    # get preprocessed phrase and the position of the target term\n",
        "    sentence1, start1, end1 = preprocess_phrase(entry[\"sentence1\"], int(entry[\"start1\"]), int(entry[\"end1\"]))\n",
        "    sentence2, start2, end2 = preprocess_phrase(entry[\"sentence2\"], int(entry[\"start2\"]), int(entry[\"end2\"]))\n",
        "    \n",
        "    # copy the entry and replace senteces and positions of the target terms\n",
        "    # in both the phrases\n",
        "    preprocessed_entry = entry.copy()\n",
        "    preprocessed_entry[\"sentence1\"] = sentence1\n",
        "    preprocessed_entry[\"sentence2\"] = sentence2\n",
        "    preprocessed_entry[\"start1\"] = start1\n",
        "    preprocessed_entry[\"end1\"] = end1\n",
        "    preprocessed_entry[\"start2\"] = start2\n",
        "    preprocessed_entry[\"end2\"] = end2\n",
        "    \n",
        "    preprocessed.append(preprocessed_entry)\n",
        "\n",
        "  return preprocessed\n",
        "\n",
        "\n",
        "train_n, dev_n, test_n = preprocessing(train), preprocessing(dev), preprocessing(test)\n",
        "\n",
        "check_oovs(train_n, dev_n, test_n, embeddings)"
      ],
      "execution_count": null,
      "outputs": [
        {
          "output_type": "stream",
          "text": [
            "48\n",
            "['kronas', 'hapsburg', 'vr+', 'rohmer', 'adoxography', 'magnoliophyta', '2*x', '4ac2a', 'grāmata', 'maksā', 'simenon', 'x^2', 'buggywhips', 'decussates', 'påverkar', '\\\\sqrtb^2', 'acquaitance', '\\\\mathbbq', 'lysistrata', 'sunjeong']\n",
            "15\n",
            "['kronas', 'baddeck', '2*x', 'e^i\\\\pi+1=0', 'grāmata', 'kurss', 'ulteriority', 'piecas', 'maksā', 'tithonian', 'x^2', 'allowanced', 'nibelung', 'clippurse', '\\\\pi']\n",
            "7\n",
            "['\\\\mathbbq', 'vr+', 'lysistrata', 'ulteriorities', 'slowcoaches', 'magnoliales', 'ulteriority']\n"
          ],
          "name": "stdout"
        }
      ]
    },
    {
      "cell_type": "markdown",
      "metadata": {
        "id": "kFWxa0YYYnPI"
      },
      "source": [
        "As we can see from the precedent part we have removed a lot of oovs by removing punctuation and applying lower() to the entire phrase"
      ]
    },
    {
      "cell_type": "code",
      "metadata": {
        "id": "ZWwW9W3n57F3"
      },
      "source": [
        "STOPWORDS = stopwords.words()\n",
        "# weight used when computing the avg of the embeddings of the phrase for the stopwords\n",
        "STOPWORDS_WEIGHT = 0.1\n",
        "# function that associates phrase to phrase embedding given an embedding and the\n",
        "# target term\n",
        "def phrase2vector(phrase: str, embeddings: dict, lemma:str):\n",
        "  # split the phrase into tokens\n",
        "  terms = phrase.split(\" \")\n",
        "  # start the phrase embedding as a zero tensor\n",
        "  sum = torch.zeros(EMBEDDING_DIMENSION)\n",
        "\n",
        "  # n -> num of non zero embeddings\n",
        "  n = 0\n",
        "  for term in terms:\n",
        "    if (term in embeddings ):\n",
        "      # get the embedding of the term and turn it to tensor\n",
        "      emb = embeddings[term]\n",
        "      # update the counter of non zero embeddings\n",
        "      n += 1\n",
        "      # update the sum of embeddings of the phrase \n",
        "      # the target term is weighted with WEIGHT\n",
        "      # the stopwords also are weighted with STOPWORDS_WEIGHT\n",
        "      # the other term have weight = 1\n",
        "      sum = sum + WEIGHT*emb if term == lemma else (sum + STOPWORDS_WEIGHT*emb if term in STOPWORDS else sum + emb)\n",
        "\n",
        "    # in order to avoid possible errors in test phase\n",
        "    # (for train and dev data is not necessary)\n",
        "    n = 1 if n == 0 else n \n",
        "  return sum/n"
      ],
      "execution_count": null,
      "outputs": []
    },
    {
      "cell_type": "code",
      "metadata": {
        "id": "nlTcWvBQ73Nw"
      },
      "source": [
        "class PhraseDataset(Dataset):\n",
        "\n",
        "    def __init__(self, dataset: list, feature_extraction_function: Callable[[str], torch.tensor], embeddings: dict):\n",
        "        \n",
        "        self.embeddings = embeddings\n",
        "        self.dataset = dataset\n",
        "        self.feature_extraction_function = feature_extraction_function\n",
        "        # initialize the data\n",
        "        self.__init_data()\n",
        "\n",
        "\n",
        "    def __init_data(self):\n",
        "        self.samples = []\n",
        "        for entry in self.dataset:\n",
        "          # for each entry in the dataset get the target term\n",
        "          term_1 = entry[\"sentence1\"][entry[\"start1\"]: entry[\"end1\"]]\n",
        "          term_2 = entry[\"sentence2\"][entry[\"start2\"]: entry[\"end2\"]]\n",
        "\n",
        "          # get the embeddings of the phrases\n",
        "          emb_1 = self.feature_extraction_function(entry[\"sentence1\"], self.embeddings, term_1)\n",
        "          emb_2 = self.feature_extraction_function(entry[\"sentence2\"], self.embeddings, term_2)\n",
        "          \n",
        "          # build the data sample as a tuple containing \n",
        "          # 1) a tuple with the two embeddings of the sentences\n",
        "          # 2) the label\n",
        "          data = ((emb_1, emb_2), float(1) if entry[\"label\"] == \"True\" else float(0))\n",
        "\n",
        "          # append the sample\n",
        "          self.samples.append(data)\n",
        "          \n",
        "    def __len__(self):\n",
        "        # returns the number of samples in our dataset\n",
        "      return len(self.samples)\n",
        "\n",
        "    def __getitem__(self, idx):\n",
        "        # returns the idx-th sample\n",
        "        return self.samples[idx]"
      ],
      "execution_count": null,
      "outputs": []
    },
    {
      "cell_type": "code",
      "metadata": {
        "id": "rjEZuqVz9FBj"
      },
      "source": [
        "# create the Dataset objects for train and dev datasets\n",
        "train_dataset = PhraseDataset(train_n, phrase2vector, embeddings)\n",
        "dev_dataset = PhraseDataset(dev_n, phrase2vector, embeddings)\n",
        "test_dataset = PhraseDataset(test_n, phrase2vector, embeddings)\n"
      ],
      "execution_count": null,
      "outputs": []
    },
    {
      "cell_type": "code",
      "metadata": {
        "id": "_bC7UB6N9ZNs",
        "colab": {
          "base_uri": "https://localhost:8080/"
        },
        "outputId": "1a009e58-0817-45c7-9a21-744c30e420fe"
      },
      "source": [
        "# create the dataloader objects for train and test with batch size to BATCH_SIZE\n",
        "train_dataloader = DataLoader(train_dataset, batch_size=BATCH_SIZE, shuffle=True)\n",
        "dev_dataloader = DataLoader(dev_dataset, batch_size=BATCH_SIZE)\n",
        "test_dataloader = DataLoader(test_dataset, batch_size=BATCH_SIZE)\n",
        "\n",
        "# see the structure of a sample from the dataloader\n",
        "for batch in train_dataloader:\n",
        "    \n",
        "    batch_x, batch_y = batch\n",
        "    print(f\"# batch len: {len(batch_x)}\")\n",
        "    print(f\"# batch x[0] shape: \\n{batch_x[0].shape}\")\n",
        "    print(f\"# batch x[1] shape: \\n{batch_x[1].shape}\")\n",
        "\n",
        "    print(f\"# batch y shape: \\n{batch_y.shape}\")\n",
        "    break"
      ],
      "execution_count": null,
      "outputs": [
        {
          "output_type": "stream",
          "text": [
            "# batch len: 2\n",
            "# batch x[0] shape: \n",
            "torch.Size([300, 300])\n",
            "# batch x[1] shape: \n",
            "torch.Size([300, 300])\n",
            "# batch y shape: \n",
            "torch.Size([300])\n"
          ],
          "name": "stdout"
        }
      ]
    },
    {
      "cell_type": "markdown",
      "metadata": {
        "id": "0pJ8KIBkoM1S"
      },
      "source": [
        "# Train"
      ]
    },
    {
      "cell_type": "code",
      "metadata": {
        "id": "kLUEgorh_i5U"
      },
      "source": [
        "# method to save the model \n",
        "def save_model(model: nn.Module, path:str):\n",
        "  torch.save(model.state_dict(), path)"
      ],
      "execution_count": null,
      "outputs": []
    },
    {
      "cell_type": "code",
      "metadata": {
        "id": "YPIYd9X2PW49"
      },
      "source": [
        "# method to train and evaluate\n",
        "def train_and_evaluate(\n",
        "    model: nn.Module,\n",
        "    optimizer: torch.optim.Optimizer,\n",
        "    train_dataloader: DataLoader,\n",
        "    epochs: int = 50,\n",
        "    dev_dataloader: DataLoader = None,\n",
        "    dev_fn: Callable = None,\n",
        "    verbose: bool = True,\n",
        "):\n",
        "    # history\n",
        "    train_loss = []\n",
        "    dev_losses = []\n",
        "    dev_accs = []\n",
        "    train_accs = []\n",
        "\n",
        "    # current value of patience\n",
        "    patience = 0\n",
        "    for epoch in range(epochs):\n",
        "        # put the model in train mode so that we activate the dropout\n",
        "        model.train()\n",
        "        # store the losses and the accs over the several batches in this epoch\n",
        "        losses = []\n",
        "        accs = []\n",
        "\n",
        "        # for each batch\n",
        "        for x, y in train_dataloader:\n",
        "            # reset the gradient of the optimizer\n",
        "            optimizer.zero_grad()\n",
        "            # batch_out is a dictionary with loss and acc keys\n",
        "            batch_out = model(x[0], x[1], y.float())\n",
        "            loss = batch_out[\"loss\"]\n",
        "            acc = batch_out[\"acc\"]\n",
        "            # store the acc and the loss\n",
        "            losses.append(loss)\n",
        "            accs.append(acc)\n",
        "\n",
        "            # computes the gradient of the loss\n",
        "            loss.backward()\n",
        "          \n",
        "            # updates parameters based on the gradient information\n",
        "            optimizer.step()\n",
        "\n",
        "        model.global_epoch += 1\n",
        "        # mean loss and acc in the epoch\n",
        "        mean_loss = sum(losses) / len(losses)\n",
        "        mean_acc = sum(accs) / len(accs)\n",
        "        \n",
        "        # store the mean loss and acc\n",
        "        train_loss.append(mean_loss.item())\n",
        "        train_accs.append(mean_acc.item())\n",
        "        \n",
        "        if verbose or epoch == epochs - 1:\n",
        "            print(f\"\\tEpoch\\t{model.global_epoch:3d} => Loss: {mean_loss:0.6f}\")\n",
        "        \n",
        "        if dev_dataloader and dev_fn is not None:\n",
        "            \n",
        "            # put the model in evaluating mode\n",
        "            model.eval()\n",
        "            # evaluate the model over the development set\n",
        "            dev_output = dev_fn(model, dev_dataloader)\n",
        "            # get acc and loss\n",
        "            dev_loss_value = dev_output[\"loss\"]\n",
        "            dev_acc_value = dev_output[\"acc\"]\n",
        "            # if the loss is higher than the minimun dev loss stored, increase \n",
        "            # patience level, otherwise reset it \n",
        "            if (len(dev_losses) > 0 and dev_loss_value > min(dev_losses)):\n",
        "              patience += 1\n",
        "            else:\n",
        "              # save the best model (it will be overwritten when I arrive to a \n",
        "              # lower loss value\n",
        "              save_model(model, f\"{FILE_NAME}.pt\")\n",
        "              patience = 0\n",
        "            \n",
        "            # save dev loss and acc\n",
        "            dev_losses.append(dev_loss_value)\n",
        "            dev_accs.append(dev_acc_value)\n",
        "\n",
        "            # info prints\n",
        "            print(f\"\\t\\tDevelopment => Loss: {dev_loss_value:0.6f}\")\n",
        "            print(f\"\\t\\tDevelopment => Acc: {dev_acc_value:0.6f}\")\n",
        "            print()\n",
        "\n",
        "            # early stopping\n",
        "            if (patience > PATIENCE):\n",
        "              print(\"EARLY STOPPING\")\n",
        "              break \n",
        "    \n",
        "    return {\"train\": train_loss, \"dev\":dev_losses, \"dev_accs\":dev_accs, \"train_accs\": train_accs}"
      ],
      "execution_count": null,
      "outputs": []
    },
    {
      "cell_type": "code",
      "metadata": {
        "id": "UkKXPoS4cOEo"
      },
      "source": [
        "class Classifier(torch.nn.Module):\n",
        "\n",
        "    def __init__(self, \n",
        "                 n_features: int, \n",
        "                 n_hidden1: int, \n",
        "                 n_hidden2: int, \n",
        "                 dropout:float):\n",
        "        super().__init__()\n",
        "        # the first linear layer is shared among the emebeddings of the two sentences\n",
        "        self.lin1 = torch.nn.Linear(n_features, n_hidden1)\n",
        "        # second lienar layer\n",
        "        self.lin2 = torch.nn.Linear(n_hidden1, n_hidden2)\n",
        "        # third one that creates the output\n",
        "        self.lin3 = torch.nn.Linear(n_hidden2, 1)\n",
        "        # dropout\n",
        "        self.drop = torch.nn.Dropout(dropout)\n",
        "        # batch normalization\n",
        "        self.bn1 = nn.BatchNorm1d(num_features=n_hidden1)\n",
        "        self.bn2 = nn.BatchNorm1d(num_features=n_hidden2)\n",
        "\n",
        "        self.loss_fn = torch.nn.BCELoss()\n",
        "        self.global_epoch = 0\n",
        "    def forward(self, ph1: torch.Tensor, ph2: torch.Tensor, y: Optional[torch.Tensor] = None) -> Dict:\n",
        "        \n",
        "        # the embeddings of the two phrases pass through the same linear layer\n",
        "        # so that changing the order does not change the result\n",
        "        out1 = self.lin1(ph1)\n",
        "        out1 = torch.relu(out1)\n",
        "        # I use the batch normalization in order to speed up the learning\n",
        "        out1 = self.bn1(out1)\n",
        "\n",
        "        out2 = self.lin1(ph2)\n",
        "        out2 = torch.relu(out2)\n",
        "        out2 = self.bn1(out2)\n",
        "\n",
        "\n",
        "        # element wise product of the two matrices\n",
        "        # in order to merge the results of the first linear layer\n",
        "        # of the two sentence embedding\n",
        "        out = out1*out2    \n",
        "\n",
        "        # fc layer with dropout\n",
        "        res = self.lin2(out)\n",
        "        res = torch.relu(res)\n",
        "        res = self.drop(res)\n",
        "        \n",
        "        res = self.lin3(res)\n",
        "        # pass results in 0-1 range\n",
        "        res = torch.sigmoid(res)\n",
        "        \n",
        "        # remove a dimension\n",
        "        res = res.squeeze()\n",
        "\n",
        "        # save the predictions in order to return it\n",
        "        result = {\"pred\": res}\n",
        "\n",
        "        # compute loss and acc\n",
        "        if y is not None:\n",
        "            loss = self.loss(res, y)\n",
        "            result[\"loss\"] = loss\n",
        "            result[\"acc\"] = (torch.round(res) == y).float().sum()/len(y)\n",
        "            result[\"correct\"] = (torch.round(res) == y).float().sum()\n",
        "\n",
        "        return result\n",
        "\n",
        "    def loss(self, pred, y):\n",
        "        return self.loss_fn(pred, y)\n"
      ],
      "execution_count": null,
      "outputs": []
    },
    {
      "cell_type": "code",
      "metadata": {
        "id": "EVWWFQ_GzWtS"
      },
      "source": [
        "@torch.no_grad()\n",
        "def evaluate(\n",
        "    model: nn.Module,\n",
        "    dataloader: DataLoader,\n",
        "):\n",
        "    losses = []\n",
        "    accs = []\n",
        "    size = 0\n",
        "    for x, y in dataloader:\n",
        "        # get the number of elements in the batch (it is not constant since the \n",
        "        # number of examples is not a multiple of BATCH_SIZE, so the last batch\n",
        "        # will be smaller)\n",
        "        size += len(y)\n",
        "        outputs = model(x[0], x[1], y.float())\n",
        "        # get loss and acc\n",
        "        loss = outputs[\"loss\"]\n",
        "        losses.append(loss*len(y))\n",
        "\n",
        "        # in acc I store the number of correct elements predicted\n",
        "        # so that I can than sum all the values and obtain the accuracy on the \n",
        "        # set by dividing for the number of elements tested  \n",
        "        accs.append(outputs[\"correct\"])\n",
        "\n",
        "    # get mean acc and mean loss\n",
        "    mean_acc = sum(accs)/size\n",
        "    mean_loss = sum(losses) / size\n",
        "    return {\n",
        "        \"loss\": mean_loss,\n",
        "        \"acc\": mean_acc,\n",
        "    }"
      ],
      "execution_count": null,
      "outputs": []
    },
    {
      "cell_type": "code",
      "metadata": {
        "colab": {
          "base_uri": "https://localhost:8080/"
        },
        "id": "cEBQeC199ojj",
        "outputId": "7559ac16-d663-4f24-bfd3-ecb6b8cf56a3"
      },
      "source": [
        "# preproducibility\n",
        "torch.manual_seed(SEED)\n",
        "torch.use_deterministic_algorithms(True)\n",
        "\n",
        "model = Classifier(EMBEDDING_DIMENSION, n_hidden1=512, n_hidden2=256, dropout=0.5)\n",
        "#model = Classifier(EMBEDDING_DIMENSION, n_hidden1=1_024, n_hidden2=512, n_hidden3=256, dropout=0.1)\n",
        "\n",
        "# define the adam optimizer \n",
        "optimizer = torch.optim.Adam(model.parameters(), lr=LR)\n",
        "\n",
        "scores = train_and_evaluate(model, optimizer, train_dataloader, epochs=2_000, dev_dataloader=dev_dataloader, dev_fn=evaluate)"
      ],
      "execution_count": null,
      "outputs": [
        {
          "output_type": "stream",
          "text": [
            "\tEpoch\t  1 => Loss: 0.729739\n",
            "\t\tDevelopment => Loss: 0.693883\n",
            "\t\tDevelopment => Acc: 0.492586\n",
            "\n",
            "\tEpoch\t  2 => Loss: 0.724292\n",
            "\t\tDevelopment => Loss: 0.700237\n",
            "\t\tDevelopment => Acc: 0.489292\n",
            "\n",
            "\tEpoch\t  3 => Loss: 0.718031\n",
            "\t\tDevelopment => Loss: 0.712762\n",
            "\t\tDevelopment => Acc: 0.505766\n",
            "\n",
            "\tEpoch\t  4 => Loss: 0.708192\n",
            "\t\tDevelopment => Loss: 0.705904\n",
            "\t\tDevelopment => Acc: 0.510708\n",
            "\n",
            "\tEpoch\t  5 => Loss: 0.709929\n",
            "\t\tDevelopment => Loss: 0.700427\n",
            "\t\tDevelopment => Acc: 0.522241\n",
            "\n",
            "\tEpoch\t  6 => Loss: 0.702959\n",
            "\t\tDevelopment => Loss: 0.697451\n",
            "\t\tDevelopment => Acc: 0.525535\n",
            "\n",
            "\tEpoch\t  7 => Loss: 0.698059\n",
            "\t\tDevelopment => Loss: 0.692210\n",
            "\t\tDevelopment => Acc: 0.533773\n",
            "\n",
            "\tEpoch\t  8 => Loss: 0.691636\n",
            "\t\tDevelopment => Loss: 0.689045\n",
            "\t\tDevelopment => Acc: 0.546952\n",
            "\n",
            "\tEpoch\t  9 => Loss: 0.686105\n",
            "\t\tDevelopment => Loss: 0.684979\n",
            "\t\tDevelopment => Acc: 0.551895\n",
            "\n",
            "\tEpoch\t 10 => Loss: 0.680976\n",
            "\t\tDevelopment => Loss: 0.680604\n",
            "\t\tDevelopment => Acc: 0.555189\n",
            "\n",
            "\tEpoch\t 11 => Loss: 0.676038\n",
            "\t\tDevelopment => Loss: 0.675356\n",
            "\t\tDevelopment => Acc: 0.563427\n",
            "\n",
            "\tEpoch\t 12 => Loss: 0.673793\n",
            "\t\tDevelopment => Loss: 0.674719\n",
            "\t\tDevelopment => Acc: 0.574959\n",
            "\n",
            "\tEpoch\t 13 => Loss: 0.673198\n",
            "\t\tDevelopment => Loss: 0.670778\n",
            "\t\tDevelopment => Acc: 0.586491\n",
            "\n",
            "\tEpoch\t 14 => Loss: 0.669297\n",
            "\t\tDevelopment => Loss: 0.668427\n",
            "\t\tDevelopment => Acc: 0.594728\n",
            "\n",
            "\tEpoch\t 15 => Loss: 0.665949\n",
            "\t\tDevelopment => Loss: 0.666618\n",
            "\t\tDevelopment => Acc: 0.589786\n",
            "\n",
            "\tEpoch\t 16 => Loss: 0.662019\n",
            "\t\tDevelopment => Loss: 0.663651\n",
            "\t\tDevelopment => Acc: 0.596376\n",
            "\n",
            "\tEpoch\t 17 => Loss: 0.660090\n",
            "\t\tDevelopment => Loss: 0.661413\n",
            "\t\tDevelopment => Acc: 0.593081\n",
            "\n",
            "\tEpoch\t 18 => Loss: 0.657139\n",
            "\t\tDevelopment => Loss: 0.659685\n",
            "\t\tDevelopment => Acc: 0.598023\n",
            "\n",
            "\tEpoch\t 19 => Loss: 0.657580\n",
            "\t\tDevelopment => Loss: 0.657590\n",
            "\t\tDevelopment => Acc: 0.601318\n",
            "\n",
            "\tEpoch\t 20 => Loss: 0.652488\n",
            "\t\tDevelopment => Loss: 0.656366\n",
            "\t\tDevelopment => Acc: 0.607908\n",
            "\n",
            "\tEpoch\t 21 => Loss: 0.652976\n",
            "\t\tDevelopment => Loss: 0.655109\n",
            "\t\tDevelopment => Acc: 0.607908\n",
            "\n",
            "\tEpoch\t 22 => Loss: 0.647253\n",
            "\t\tDevelopment => Loss: 0.654336\n",
            "\t\tDevelopment => Acc: 0.606260\n",
            "\n",
            "\tEpoch\t 23 => Loss: 0.645929\n",
            "\t\tDevelopment => Loss: 0.652650\n",
            "\t\tDevelopment => Acc: 0.619440\n",
            "\n",
            "\tEpoch\t 24 => Loss: 0.638996\n",
            "\t\tDevelopment => Loss: 0.650189\n",
            "\t\tDevelopment => Acc: 0.635914\n",
            "\n",
            "\tEpoch\t 25 => Loss: 0.638413\n",
            "\t\tDevelopment => Loss: 0.649123\n",
            "\t\tDevelopment => Acc: 0.634267\n",
            "\n",
            "\tEpoch\t 26 => Loss: 0.635409\n",
            "\t\tDevelopment => Loss: 0.647538\n",
            "\t\tDevelopment => Acc: 0.637562\n",
            "\n",
            "\tEpoch\t 27 => Loss: 0.637007\n",
            "\t\tDevelopment => Loss: 0.646621\n",
            "\t\tDevelopment => Acc: 0.639209\n",
            "\n",
            "\tEpoch\t 28 => Loss: 0.634373\n",
            "\t\tDevelopment => Loss: 0.646165\n",
            "\t\tDevelopment => Acc: 0.640857\n",
            "\n",
            "\tEpoch\t 29 => Loss: 0.638006\n",
            "\t\tDevelopment => Loss: 0.645078\n",
            "\t\tDevelopment => Acc: 0.640857\n",
            "\n",
            "\tEpoch\t 30 => Loss: 0.631523\n",
            "\t\tDevelopment => Loss: 0.643491\n",
            "\t\tDevelopment => Acc: 0.642504\n",
            "\n",
            "\tEpoch\t 31 => Loss: 0.629539\n",
            "\t\tDevelopment => Loss: 0.643772\n",
            "\t\tDevelopment => Acc: 0.652389\n",
            "\n",
            "\tEpoch\t 32 => Loss: 0.630612\n",
            "\t\tDevelopment => Loss: 0.641959\n",
            "\t\tDevelopment => Acc: 0.640857\n",
            "\n",
            "\tEpoch\t 33 => Loss: 0.623877\n",
            "\t\tDevelopment => Loss: 0.641925\n",
            "\t\tDevelopment => Acc: 0.644152\n",
            "\n",
            "\tEpoch\t 34 => Loss: 0.626192\n",
            "\t\tDevelopment => Loss: 0.640497\n",
            "\t\tDevelopment => Acc: 0.647446\n",
            "\n",
            "\tEpoch\t 35 => Loss: 0.625571\n",
            "\t\tDevelopment => Loss: 0.639371\n",
            "\t\tDevelopment => Acc: 0.640857\n",
            "\n",
            "\tEpoch\t 36 => Loss: 0.625783\n",
            "\t\tDevelopment => Loss: 0.639313\n",
            "\t\tDevelopment => Acc: 0.639209\n",
            "\n",
            "\tEpoch\t 37 => Loss: 0.624262\n",
            "\t\tDevelopment => Loss: 0.638676\n",
            "\t\tDevelopment => Acc: 0.647446\n",
            "\n",
            "\tEpoch\t 38 => Loss: 0.621647\n",
            "\t\tDevelopment => Loss: 0.638681\n",
            "\t\tDevelopment => Acc: 0.644152\n",
            "\n",
            "\tEpoch\t 39 => Loss: 0.621759\n",
            "\t\tDevelopment => Loss: 0.637414\n",
            "\t\tDevelopment => Acc: 0.644152\n",
            "\n",
            "\tEpoch\t 40 => Loss: 0.615650\n",
            "\t\tDevelopment => Loss: 0.636686\n",
            "\t\tDevelopment => Acc: 0.647446\n",
            "\n",
            "\tEpoch\t 41 => Loss: 0.612642\n",
            "\t\tDevelopment => Loss: 0.636773\n",
            "\t\tDevelopment => Acc: 0.645799\n",
            "\n",
            "\tEpoch\t 42 => Loss: 0.614021\n",
            "\t\tDevelopment => Loss: 0.635078\n",
            "\t\tDevelopment => Acc: 0.649094\n",
            "\n",
            "\tEpoch\t 43 => Loss: 0.607995\n",
            "\t\tDevelopment => Loss: 0.634825\n",
            "\t\tDevelopment => Acc: 0.639209\n",
            "\n",
            "\tEpoch\t 44 => Loss: 0.615274\n",
            "\t\tDevelopment => Loss: 0.634556\n",
            "\t\tDevelopment => Acc: 0.644152\n",
            "\n",
            "\tEpoch\t 45 => Loss: 0.611288\n",
            "\t\tDevelopment => Loss: 0.635615\n",
            "\t\tDevelopment => Acc: 0.637562\n",
            "\n",
            "\tEpoch\t 46 => Loss: 0.608154\n",
            "\t\tDevelopment => Loss: 0.633873\n",
            "\t\tDevelopment => Acc: 0.637562\n",
            "\n",
            "\tEpoch\t 47 => Loss: 0.606956\n",
            "\t\tDevelopment => Loss: 0.634188\n",
            "\t\tDevelopment => Acc: 0.634267\n",
            "\n",
            "\tEpoch\t 48 => Loss: 0.607866\n",
            "\t\tDevelopment => Loss: 0.632130\n",
            "\t\tDevelopment => Acc: 0.640857\n",
            "\n",
            "\tEpoch\t 49 => Loss: 0.606385\n",
            "\t\tDevelopment => Loss: 0.632403\n",
            "\t\tDevelopment => Acc: 0.635914\n",
            "\n",
            "\tEpoch\t 50 => Loss: 0.603442\n",
            "\t\tDevelopment => Loss: 0.631989\n",
            "\t\tDevelopment => Acc: 0.640857\n",
            "\n",
            "\tEpoch\t 51 => Loss: 0.599327\n",
            "\t\tDevelopment => Loss: 0.631335\n",
            "\t\tDevelopment => Acc: 0.640857\n",
            "\n",
            "\tEpoch\t 52 => Loss: 0.596658\n",
            "\t\tDevelopment => Loss: 0.631137\n",
            "\t\tDevelopment => Acc: 0.649094\n",
            "\n",
            "\tEpoch\t 53 => Loss: 0.600848\n",
            "\t\tDevelopment => Loss: 0.630711\n",
            "\t\tDevelopment => Acc: 0.647446\n",
            "\n",
            "\tEpoch\t 54 => Loss: 0.597210\n",
            "\t\tDevelopment => Loss: 0.630842\n",
            "\t\tDevelopment => Acc: 0.642504\n",
            "\n",
            "\tEpoch\t 55 => Loss: 0.597565\n",
            "\t\tDevelopment => Loss: 0.629529\n",
            "\t\tDevelopment => Acc: 0.642504\n",
            "\n",
            "\tEpoch\t 56 => Loss: 0.595543\n",
            "\t\tDevelopment => Loss: 0.629175\n",
            "\t\tDevelopment => Acc: 0.649094\n",
            "\n",
            "\tEpoch\t 57 => Loss: 0.593274\n",
            "\t\tDevelopment => Loss: 0.629479\n",
            "\t\tDevelopment => Acc: 0.642504\n",
            "\n",
            "\tEpoch\t 58 => Loss: 0.588101\n",
            "\t\tDevelopment => Loss: 0.628693\n",
            "\t\tDevelopment => Acc: 0.637562\n",
            "\n",
            "\tEpoch\t 59 => Loss: 0.584715\n",
            "\t\tDevelopment => Loss: 0.628715\n",
            "\t\tDevelopment => Acc: 0.642504\n",
            "\n",
            "\tEpoch\t 60 => Loss: 0.589499\n",
            "\t\tDevelopment => Loss: 0.627270\n",
            "\t\tDevelopment => Acc: 0.642504\n",
            "\n",
            "\tEpoch\t 61 => Loss: 0.582870\n",
            "\t\tDevelopment => Loss: 0.627740\n",
            "\t\tDevelopment => Acc: 0.639209\n",
            "\n",
            "\tEpoch\t 62 => Loss: 0.584520\n",
            "\t\tDevelopment => Loss: 0.627735\n",
            "\t\tDevelopment => Acc: 0.639209\n",
            "\n",
            "\tEpoch\t 63 => Loss: 0.582040\n",
            "\t\tDevelopment => Loss: 0.628254\n",
            "\t\tDevelopment => Acc: 0.642504\n",
            "\n",
            "\tEpoch\t 64 => Loss: 0.587028\n",
            "\t\tDevelopment => Loss: 0.626781\n",
            "\t\tDevelopment => Acc: 0.645799\n",
            "\n",
            "\tEpoch\t 65 => Loss: 0.583841\n",
            "\t\tDevelopment => Loss: 0.626577\n",
            "\t\tDevelopment => Acc: 0.644152\n",
            "\n",
            "\tEpoch\t 66 => Loss: 0.578502\n",
            "\t\tDevelopment => Loss: 0.626159\n",
            "\t\tDevelopment => Acc: 0.642504\n",
            "\n",
            "\tEpoch\t 67 => Loss: 0.582259\n",
            "\t\tDevelopment => Loss: 0.625139\n",
            "\t\tDevelopment => Acc: 0.642504\n",
            "\n",
            "\tEpoch\t 68 => Loss: 0.575534\n",
            "\t\tDevelopment => Loss: 0.626611\n",
            "\t\tDevelopment => Acc: 0.640857\n",
            "\n",
            "\tEpoch\t 69 => Loss: 0.578041\n",
            "\t\tDevelopment => Loss: 0.624663\n",
            "\t\tDevelopment => Acc: 0.642504\n",
            "\n",
            "\tEpoch\t 70 => Loss: 0.573705\n",
            "\t\tDevelopment => Loss: 0.624695\n",
            "\t\tDevelopment => Acc: 0.642504\n",
            "\n",
            "\tEpoch\t 71 => Loss: 0.574480\n",
            "\t\tDevelopment => Loss: 0.623613\n",
            "\t\tDevelopment => Acc: 0.650741\n",
            "\n",
            "\tEpoch\t 72 => Loss: 0.571365\n",
            "\t\tDevelopment => Loss: 0.624638\n",
            "\t\tDevelopment => Acc: 0.647446\n",
            "\n",
            "\tEpoch\t 73 => Loss: 0.570263\n",
            "\t\tDevelopment => Loss: 0.624528\n",
            "\t\tDevelopment => Acc: 0.654036\n",
            "\n",
            "\tEpoch\t 74 => Loss: 0.571747\n",
            "\t\tDevelopment => Loss: 0.624349\n",
            "\t\tDevelopment => Acc: 0.642504\n",
            "\n",
            "\tEpoch\t 75 => Loss: 0.567476\n",
            "\t\tDevelopment => Loss: 0.624188\n",
            "\t\tDevelopment => Acc: 0.650741\n",
            "\n",
            "\tEpoch\t 76 => Loss: 0.563527\n",
            "\t\tDevelopment => Loss: 0.624313\n",
            "\t\tDevelopment => Acc: 0.644152\n",
            "\n",
            "\tEpoch\t 77 => Loss: 0.569249\n",
            "\t\tDevelopment => Loss: 0.624694\n",
            "\t\tDevelopment => Acc: 0.644152\n",
            "\n",
            "\tEpoch\t 78 => Loss: 0.565045\n",
            "\t\tDevelopment => Loss: 0.623351\n",
            "\t\tDevelopment => Acc: 0.647446\n",
            "\n",
            "\tEpoch\t 79 => Loss: 0.566726\n",
            "\t\tDevelopment => Loss: 0.624845\n",
            "\t\tDevelopment => Acc: 0.652389\n",
            "\n",
            "\tEpoch\t 80 => Loss: 0.559776\n",
            "\t\tDevelopment => Loss: 0.622496\n",
            "\t\tDevelopment => Acc: 0.657331\n",
            "\n",
            "\tEpoch\t 81 => Loss: 0.558824\n",
            "\t\tDevelopment => Loss: 0.622943\n",
            "\t\tDevelopment => Acc: 0.647446\n",
            "\n",
            "\tEpoch\t 82 => Loss: 0.560004\n",
            "\t\tDevelopment => Loss: 0.622606\n",
            "\t\tDevelopment => Acc: 0.650741\n",
            "\n",
            "\tEpoch\t 83 => Loss: 0.558457\n",
            "\t\tDevelopment => Loss: 0.622559\n",
            "\t\tDevelopment => Acc: 0.645799\n",
            "\n",
            "\tEpoch\t 84 => Loss: 0.554356\n",
            "\t\tDevelopment => Loss: 0.622705\n",
            "\t\tDevelopment => Acc: 0.652389\n",
            "\n",
            "\tEpoch\t 85 => Loss: 0.550583\n",
            "\t\tDevelopment => Loss: 0.622181\n",
            "\t\tDevelopment => Acc: 0.657331\n",
            "\n",
            "\tEpoch\t 86 => Loss: 0.548263\n",
            "\t\tDevelopment => Loss: 0.622894\n",
            "\t\tDevelopment => Acc: 0.649094\n",
            "\n",
            "\tEpoch\t 87 => Loss: 0.547997\n",
            "\t\tDevelopment => Loss: 0.621342\n",
            "\t\tDevelopment => Acc: 0.654036\n",
            "\n",
            "\tEpoch\t 88 => Loss: 0.545744\n",
            "\t\tDevelopment => Loss: 0.622032\n",
            "\t\tDevelopment => Acc: 0.642504\n",
            "\n",
            "\tEpoch\t 89 => Loss: 0.542776\n",
            "\t\tDevelopment => Loss: 0.621758\n",
            "\t\tDevelopment => Acc: 0.650741\n",
            "\n",
            "\tEpoch\t 90 => Loss: 0.543434\n",
            "\t\tDevelopment => Loss: 0.621277\n",
            "\t\tDevelopment => Acc: 0.650741\n",
            "\n",
            "\tEpoch\t 91 => Loss: 0.543346\n",
            "\t\tDevelopment => Loss: 0.620819\n",
            "\t\tDevelopment => Acc: 0.654036\n",
            "\n",
            "\tEpoch\t 92 => Loss: 0.539127\n",
            "\t\tDevelopment => Loss: 0.621054\n",
            "\t\tDevelopment => Acc: 0.649094\n",
            "\n",
            "\tEpoch\t 93 => Loss: 0.537694\n",
            "\t\tDevelopment => Loss: 0.620525\n",
            "\t\tDevelopment => Acc: 0.644152\n",
            "\n",
            "\tEpoch\t 94 => Loss: 0.537073\n",
            "\t\tDevelopment => Loss: 0.620897\n",
            "\t\tDevelopment => Acc: 0.645799\n",
            "\n",
            "\tEpoch\t 95 => Loss: 0.530722\n",
            "\t\tDevelopment => Loss: 0.621292\n",
            "\t\tDevelopment => Acc: 0.652389\n",
            "\n",
            "\tEpoch\t 96 => Loss: 0.531869\n",
            "\t\tDevelopment => Loss: 0.621732\n",
            "\t\tDevelopment => Acc: 0.650741\n",
            "\n",
            "\tEpoch\t 97 => Loss: 0.530324\n",
            "\t\tDevelopment => Loss: 0.621727\n",
            "\t\tDevelopment => Acc: 0.645799\n",
            "\n",
            "\tEpoch\t 98 => Loss: 0.534067\n",
            "\t\tDevelopment => Loss: 0.620255\n",
            "\t\tDevelopment => Acc: 0.650741\n",
            "\n",
            "\tEpoch\t 99 => Loss: 0.529277\n",
            "\t\tDevelopment => Loss: 0.621592\n",
            "\t\tDevelopment => Acc: 0.650741\n",
            "\n",
            "\tEpoch\t100 => Loss: 0.523929\n",
            "\t\tDevelopment => Loss: 0.621041\n",
            "\t\tDevelopment => Acc: 0.647446\n",
            "\n",
            "\tEpoch\t101 => Loss: 0.524967\n",
            "\t\tDevelopment => Loss: 0.620510\n",
            "\t\tDevelopment => Acc: 0.649094\n",
            "\n",
            "\tEpoch\t102 => Loss: 0.525059\n",
            "\t\tDevelopment => Loss: 0.620071\n",
            "\t\tDevelopment => Acc: 0.654036\n",
            "\n",
            "\tEpoch\t103 => Loss: 0.521459\n",
            "\t\tDevelopment => Loss: 0.621089\n",
            "\t\tDevelopment => Acc: 0.652389\n",
            "\n",
            "\tEpoch\t104 => Loss: 0.527058\n",
            "\t\tDevelopment => Loss: 0.620498\n",
            "\t\tDevelopment => Acc: 0.644152\n",
            "\n",
            "\tEpoch\t105 => Loss: 0.522693\n",
            "\t\tDevelopment => Loss: 0.619226\n",
            "\t\tDevelopment => Acc: 0.649094\n",
            "\n",
            "\tEpoch\t106 => Loss: 0.519558\n",
            "\t\tDevelopment => Loss: 0.620283\n",
            "\t\tDevelopment => Acc: 0.645799\n",
            "\n",
            "\tEpoch\t107 => Loss: 0.514756\n",
            "\t\tDevelopment => Loss: 0.620531\n",
            "\t\tDevelopment => Acc: 0.652389\n",
            "\n",
            "\tEpoch\t108 => Loss: 0.513974\n",
            "\t\tDevelopment => Loss: 0.620638\n",
            "\t\tDevelopment => Acc: 0.644152\n",
            "\n",
            "\tEpoch\t109 => Loss: 0.508607\n",
            "\t\tDevelopment => Loss: 0.620962\n",
            "\t\tDevelopment => Acc: 0.654036\n",
            "\n",
            "\tEpoch\t110 => Loss: 0.510790\n",
            "\t\tDevelopment => Loss: 0.619376\n",
            "\t\tDevelopment => Acc: 0.649094\n",
            "\n",
            "\tEpoch\t111 => Loss: 0.509815\n",
            "\t\tDevelopment => Loss: 0.620374\n",
            "\t\tDevelopment => Acc: 0.647446\n",
            "\n",
            "\tEpoch\t112 => Loss: 0.507178\n",
            "\t\tDevelopment => Loss: 0.619478\n",
            "\t\tDevelopment => Acc: 0.649094\n",
            "\n",
            "\tEpoch\t113 => Loss: 0.504875\n",
            "\t\tDevelopment => Loss: 0.620080\n",
            "\t\tDevelopment => Acc: 0.645799\n",
            "\n",
            "\tEpoch\t114 => Loss: 0.502363\n",
            "\t\tDevelopment => Loss: 0.621822\n",
            "\t\tDevelopment => Acc: 0.649094\n",
            "\n",
            "\tEpoch\t115 => Loss: 0.505445\n",
            "\t\tDevelopment => Loss: 0.622338\n",
            "\t\tDevelopment => Acc: 0.649094\n",
            "\n",
            "\tEpoch\t116 => Loss: 0.502078\n",
            "\t\tDevelopment => Loss: 0.619702\n",
            "\t\tDevelopment => Acc: 0.645799\n",
            "\n",
            "EARLY STOPPING\n"
          ],
          "name": "stdout"
        }
      ]
    },
    {
      "cell_type": "code",
      "metadata": {
        "colab": {
          "base_uri": "https://localhost:8080/",
          "height": 791
        },
        "id": "XEtcaN86dGuz",
        "outputId": "e2c45254-94b2-49a6-9ba2-abe1084f5e3c"
      },
      "source": [
        "def plot_logs(logs: dict):\n",
        "    # define the figure\n",
        "    plt.figure(figsize=(8,6))\n",
        "\n",
        "    # define the two sequences that we want to show\n",
        "    plt.plot(list(range(len(logs['train']))), logs['train'], label='Train loss')\n",
        "    plt.plot(list(range(len(logs['dev']))), logs['dev'], label='Dev loss')\n",
        "    \n",
        "    # set title and axis name\n",
        "    plt.title(\"Losses\")\n",
        "    plt.xlabel('Epochs')\n",
        "    plt.ylabel('Loss')\n",
        "    plt.legend(loc=\"upper right\")\n",
        "\n",
        "    plt.show()\n",
        "\n",
        "    # as before but for the accs\n",
        "    plt.figure(figsize=(8,6))\n",
        "    plt.plot(list(range(len(logs['train_accs']))), logs['train_accs'], label='Train acc')\n",
        "    plt.plot(list(range(len(logs['dev_accs']))), logs['dev_accs'], label='Dev acc')\n",
        "    \n",
        "    plt.title(\"Accs\")\n",
        "    plt.xlabel('Epochs')\n",
        "    plt.ylabel('Acc')\n",
        "    plt.legend(loc=\"upper right\")\n",
        "\n",
        "    plt.show()\n",
        "\n",
        "plot_logs(scores)"
      ],
      "execution_count": null,
      "outputs": [
        {
          "output_type": "display_data",
          "data": {
            "image/png": "[encoded data removed]",
            "text/plain": [
              "<Figure size 576x432 with 1 Axes>"
            ]
          },
          "metadata": {
            "tags": [],
            "needs_background": "light"
          }
        },
        {
          "output_type": "display_data",
          "data": {
            "image/png": "[encoded data removed]",
            "text/plain": [
              "<Figure size 576x432 with 1 Axes>"
            ]
          },
          "metadata": {
            "tags": [],
            "needs_background": "light"
          }
        }
      ]
    },
    {
      "cell_type": "code",
      "metadata": {
        "id": "SieOoGg0jih_"
      },
      "source": [
        "from sklearn.metrics import confusion_matrix\n",
        "import seaborn as sn\n",
        "import pandas as pd\n",
        "from matplotlib import pyplot\n",
        "from sklearn.metrics import roc_curve\n",
        "from sklearn.metrics import roc_auc_score\n",
        "\n",
        "@torch.no_grad()\n",
        "def plots(\n",
        "    model: nn.Module,\n",
        "    dataloader: DataLoader,\n",
        "):\n",
        "    accs = []\n",
        "    preds = torch.tensor([])\n",
        "    gt = torch.tensor([])\n",
        "    size = 0\n",
        "    for x, y in dataloader:\n",
        "        # get the number of elements in the batch (it is not constant since the \n",
        "        # number of examples is not a multiple of BATCH_SIZE, so the last batch\n",
        "        # will be smaller)\n",
        "        size += len(y)\n",
        "        outputs = model(x[0], x[1], y.float())\n",
        "        preds = torch.hstack((preds, outputs[\"pred\"]))\n",
        "        gt = torch.hstack((gt, y))\n",
        "        accs.append(outputs[\"correct\"])\n",
        "\n",
        "    # get mean acc and mean loss\n",
        "    mean_acc = sum(accs)/size\n",
        "    \n",
        "    # confusion matrix\n",
        "    classes = [\"True\", \"False\"]\n",
        "    cf_matrix = confusion_matrix(gt.cpu().numpy(), torch.round(preds).cpu().numpy())\n",
        "    df_cm = pd.DataFrame(cf_matrix, index = [i for i in classes],\n",
        "                     columns = [i for i in classes])\n",
        "    plt.figure(figsize = (12,7))\n",
        "    sn.heatmap(df_cm, annot=True, cmap='Blues', fmt='g')\n",
        "    plt.savefig('output.png')\n",
        "    plt.show()\n",
        "\n",
        "    print()\n",
        "\n",
        "    # roc curve and score\n",
        "    roc_score = roc_auc_score(gt.cpu().numpy(), preds.cpu().numpy())\n",
        "    fpr, tpr, _ = roc_curve(gt.cpu().numpy(), preds.cpu().numpy())\n",
        "\n",
        "    # plot the roc curve for the model\n",
        "    pyplot.plot(fpr, tpr, marker='.', label='ROC AUC=%.3f' % (roc_score))\n",
        "    # axis labels\n",
        "    pyplot.xlabel('False Positive Rate')\n",
        "    pyplot.ylabel('True Positive Rate')\n",
        "    pyplot.legend()\n",
        "    # show the plot\n",
        "    pyplot.show()"
      ],
      "execution_count": null,
      "outputs": []
    },
    {
      "cell_type": "code",
      "metadata": {
        "id": "9FYjFbueZMoU",
        "colab": {
          "base_uri": "https://localhost:8080/",
          "height": 707
        },
        "outputId": "24411a92-80bd-4126-f3bf-ceadeeef5ec6"
      },
      "source": [
        "model = Classifier(EMBEDDING_DIMENSION, n_hidden1=512, n_hidden2=256, dropout=0.5)\n",
        "model.load_state_dict(torch.load(f\"{FILE_NAME}.pt\"))\n",
        "model.eval()\n",
        "\n",
        "plots(model, test_dataloader)"
      ],
      "execution_count": null,
      "outputs": [
        {
          "output_type": "display_data",
          "data": {
            "image/png": "[encoded data removed]",
            "text/plain": [
              "<Figure size 864x504 with 2 Axes>"
            ]
          },
          "metadata": {
            "tags": [],
            "needs_background": "light"
          }
        },
        {
          "output_type": "stream",
          "text": [
            "\n"
          ],
          "name": "stdout"
        },
        {
          "output_type": "display_data",
          "data": {
            "image/png": "[encoded data removed]",
            "text/plain": [
              "<Figure size 432x288 with 1 Axes>"
            ]
          },
          "metadata": {
            "tags": [],
            "needs_background": "light"
          }
        }
      ]
    }
  ]
}