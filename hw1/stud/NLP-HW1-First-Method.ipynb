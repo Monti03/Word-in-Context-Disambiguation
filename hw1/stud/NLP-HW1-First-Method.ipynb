{
  "nbformat": 4,
  "nbformat_minor": 0,
  "metadata": {
    "colab": {
      "name": "Download-data-734-HW1-word_level",
      "provenance": [],
      "collapsed_sections": []
    },
    "kernelspec": {
      "name": "python3",
      "display_name": "Python 3"
    },
    "accelerator": "GPU"
  },
  "cells": [
    {
      "cell_type": "markdown",
      "metadata": {
        "id": "DFxNTxGDeVaL"
      },
      "source": [
        "# Preparing the Environment"
      ]
    },
    {
      "cell_type": "code",
      "metadata": {
        "id": "YfD_pcyZe0LR",
        "colab": {
          "base_uri": "https://localhost:8080/"
        },
        "outputId": "d78c4d3b-b44b-4181-d933-8dadf4fd5596"
      },
      "source": [
        "# imports\n",
        "import matplotlib.pyplot as plt\n",
        "import numpy as np\n",
        "import json\n",
        "import re\n",
        "\n",
        "from collections import Counter\n",
        "from tqdm.notebook import tqdm\n",
        "from typing import *\n",
        "\n",
        "import nltk\n",
        "from nltk.corpus import stopwords\n",
        "from nltk.tokenize import word_tokenize\n",
        "nltk.download('stopwords')\n",
        "nltk.download('punkt')"
      ],
      "execution_count": null,
      "outputs": [
        {
          "output_type": "stream",
          "text": [
            "[nltk_data] Downloading package stopwords to /root/nltk_data...\n",
            "[nltk_data]   Unzipping corpora/stopwords.zip.\n",
            "[nltk_data] Downloading package punkt to /root/nltk_data...\n",
            "[nltk_data]   Unzipping tokenizers/punkt.zip.\n"
          ],
          "name": "stdout"
        },
        {
          "output_type": "execute_result",
          "data": {
            "text/plain": [
              "True"
            ]
          },
          "metadata": {
            "tags": []
          },
          "execution_count": 1
        }
      ]
    },
    {
      "cell_type": "code",
      "metadata": {
        "id": "8VQo_JT08ES3"
      },
      "source": [
        "# pythorch imports\n",
        "import torch\n",
        "\n",
        "from torch import nn\n",
        "from torch.utils.data import Dataset, DataLoader"
      ],
      "execution_count": null,
      "outputs": []
    },
    {
      "cell_type": "code",
      "metadata": {
        "id": "CL1tzNUsZRCr"
      },
      "source": [
        "# seed used in order to thave reproducibility\n",
        "SEED = 93\n",
        "\n",
        "# patience in the train\n",
        "PATIENCE = 10\n",
        "\n",
        "# weight to give to the target term when building the embeddings of the phrases\n",
        "# I have set it to zero since I think that is more important the context than\n",
        "# the given term, since it is surely in both the phrases\n",
        "WEIGHT = 0\n",
        "\n",
        "# embedding dimension\n",
        "EMBEDDING_DIMENSION = 300\n",
        "\n",
        "\n",
        "LR = 0.000_01\n",
        "BATCH_SIZE = 300"
      ],
      "execution_count": null,
      "outputs": []
    },
    {
      "cell_type": "code",
      "metadata": {
        "id": "JHY51I6xBdjg"
      },
      "source": [
        "# hanlde preproducibility by setting the seed and deterministic algorithms\n",
        "torch.manual_seed(SEED)\n",
        "torch.use_deterministic_algorithms(True)"
      ],
      "execution_count": null,
      "outputs": []
    },
    {
      "cell_type": "code",
      "metadata": {
        "id": "4XrspF4VBI9A"
      },
      "source": [
        "# get the name of the file (works in colab) I sued it in order to save the \n",
        "# models (since I tried several models each with a different colab file)\n",
        "from requests import get\n",
        "# the below command do not work in local, but works in colab\n",
        "#FILE_NAME = get('http://172.28.0.2:9000/api/sessions').json()[0]['name']\n",
        "FILE_NAME = \"NLP-HW1-First-Method\""
      ],
      "execution_count": null,
      "outputs": []
    },
    {
      "cell_type": "code",
      "metadata": {
        "id": "K1QQNq__fKgr"
      },
      "source": [
        "! rm -rf sample_data"
      ],
      "execution_count": null,
      "outputs": []
    },
    {
      "cell_type": "code",
      "metadata": {
        "colab": {
          "base_uri": "https://localhost:8080/"
        },
        "id": "SoOh8WMjQnLU",
        "outputId": "7b937c31-43a7-4acb-a68c-3b7031f178fe"
      },
      "source": [
        "# download train and dev datasets\n",
        "! git clone https://github.com/SapienzaNLP/nlp2021-hw1.git"
      ],
      "execution_count": null,
      "outputs": [
        {
          "output_type": "stream",
          "text": [
            "Cloning into 'nlp2021-hw1'...\n",
            "remote: Enumerating objects: 40, done.\u001b[K\n",
            "remote: Counting objects: 100% (40/40), done.\u001b[K\n",
            "remote: Compressing objects: 100% (36/36), done.\u001b[K\n",
            "remote: Total 40 (delta 11), reused 18 (delta 0), pack-reused 0\u001b[K\n",
            "Unpacking objects: 100% (40/40), done.\n"
          ],
          "name": "stdout"
        }
      ]
    },
    {
      "cell_type": "code",
      "metadata": {
        "id": "wwyr26ftQt4W"
      },
      "source": [
        "# load train and dev sets\n",
        "with open (\"nlp2021-hw1/data/train.jsonl\") as fin:\n",
        "  train = []\n",
        "  for line in fin:\n",
        "    train.append(json.loads(line))\n",
        "\n",
        "\n",
        "with open (\"nlp2021-hw1/data/dev.jsonl\") as fin:\n",
        "  dev = []\n",
        "  for line in fin:\n",
        "    dev.append(json.loads(line))\n"
      ],
      "execution_count": null,
      "outputs": []
    },
    {
      "cell_type": "code",
      "metadata": {
        "colab": {
          "base_uri": "https://localhost:8080/"
        },
        "id": "ch0h2sxq5Y41",
        "outputId": "0390a2e2-e2d6-4ada-db2a-b6580fc31fae"
      },
      "source": [
        "# see the structure of an entry of the dataset\n",
        "train[0]"
      ],
      "execution_count": null,
      "outputs": [
        {
          "output_type": "execute_result",
          "data": {
            "text/plain": [
              "{'end1': '73',\n",
              " 'end2': '14',\n",
              " 'id': 'train.0',\n",
              " 'label': 'False',\n",
              " 'lemma': 'play',\n",
              " 'pos': 'NOUN',\n",
              " 'sentence1': 'In that context of coordination and integration, Bolivia holds a key play in any process of infrastructure development.',\n",
              " 'sentence2': 'A musical play on the same subject was also staged in Kathmandu for three days.',\n",
              " 'start1': '69',\n",
              " 'start2': '10'}"
            ]
          },
          "metadata": {
            "tags": []
          },
          "execution_count": 9
        }
      ]
    },
    {
      "cell_type": "markdown",
      "metadata": {
        "id": "2zQSaLyicbSY"
      },
      "source": [
        "**Visualize class distribution** in order to see if is usefull to weight the classes in the loss function"
      ]
    },
    {
      "cell_type": "code",
      "metadata": {
        "colab": {
          "base_uri": "https://localhost:8080/",
          "height": 630
        },
        "id": "b2BKER5_vtIn",
        "outputId": "d82182c0-aa8a-4cb5-b715-e351d7ad20ef"
      },
      "source": [
        "def visualize_class_distribution(train_gold: dict, title: str):\n",
        "    \n",
        "    counter = Counter()\n",
        "\n",
        "    for entry in train_gold:\n",
        "        label = entry[\"label\"] \n",
        "        counter[label] += 1\n",
        "\n",
        "    labels = sorted(counter)\n",
        "    values = [counter[label] for label in labels]\n",
        "\n",
        "    plt.bar(labels, values)\n",
        "    plt.title(title)\n",
        "    plt.show()\n",
        "    t_count = counter[\"True\"]\n",
        "    f_count = counter[\"False\"]\n",
        "    \n",
        "    print(f\"T: {t_count}\")\n",
        "    print(f\"F: {f_count}\")\n",
        "\n",
        "visualize_class_distribution(train, \"label distribution in train data\")\n",
        "print()\n",
        "visualize_class_distribution(dev, \"label distribution in development data\")\n"
      ],
      "execution_count": null,
      "outputs": [
        {
          "output_type": "display_data",
          "data": {
            "image/png": "[encoded data removed]",
            "text/plain": [
              "<Figure size 432x288 with 1 Axes>"
            ]
          },
          "metadata": {
            "tags": [],
            "needs_background": "light"
          }
        },
        {
          "output_type": "stream",
          "text": [
            "T: 4000\n",
            "F: 4000\n",
            "\n"
          ],
          "name": "stdout"
        },
        {
          "output_type": "display_data",
          "data": {
            "image/png": "[encoded data removed]",
            "text/plain": [
              "<Figure size 432x288 with 1 Axes>"
            ]
          },
          "metadata": {
            "tags": [],
            "needs_background": "light"
          }
        },
        {
          "output_type": "stream",
          "text": [
            "T: 500\n",
            "F: 500\n"
          ],
          "name": "stdout"
        }
      ]
    },
    {
      "cell_type": "markdown",
      "metadata": {
        "id": "i-LkaJ0Rwhll"
      },
      "source": [
        "So the classes are balanced. \n",
        "Let's see how the classes are distributed with respect to the pos tag"
      ]
    },
    {
      "cell_type": "code",
      "metadata": {
        "colab": {
          "base_uri": "https://localhost:8080/",
          "height": 1000
        },
        "id": "Uk4oS7N2vJ27",
        "outputId": "c54ddfc4-8d15-4b6e-a3a7-b078bb23ecda"
      },
      "source": [
        "def visualize_class_distribution_wrt_pos(train: dict, title: str):\n",
        "    # dictionary containing a counter per pos\n",
        "    counter = {}  \n",
        "  \n",
        "    for entry in train:\n",
        "        label = entry[\"label\"] \n",
        "        pos = entry[\"pos\"]\n",
        "        if (not pos in counter):\n",
        "          counter[pos] = Counter()  \n",
        "        counter[pos][label] += 1\n",
        "\n",
        "    for pos in counter:\n",
        "      print(f\"\\npos: {pos}\")\n",
        "      labels = sorted(counter[pos])\n",
        "      values = [counter[pos][label] for label in labels]\n",
        "\n",
        "      plt.bar(labels, values)\n",
        "      plt.title(title + f\" pos: {pos}\")\n",
        "      plt.show()\n",
        "      t_count = counter[pos][\"True\"]\n",
        "      f_count = counter[pos][\"False\"]\n",
        "    \n",
        "      print(f\"T: {t_count}\")\n",
        "      print(f\"F: {f_count}\")\n",
        "\n",
        "visualize_class_distribution_wrt_pos(train, \"label distribution in train data\")\n",
        "print()\n",
        "visualize_class_distribution_wrt_pos(dev, \"label distribution in development data\")"
      ],
      "execution_count": null,
      "outputs": [
        {
          "output_type": "stream",
          "text": [
            "\n",
            "pos: NOUN\n"
          ],
          "name": "stdout"
        },
        {
          "output_type": "display_data",
          "data": {
            "image/png": "[encoded data removed]",
            "text/plain": [
              "<Figure size 432x288 with 1 Axes>"
            ]
          },
          "metadata": {
            "tags": [],
            "needs_background": "light"
          }
        },
        {
          "output_type": "stream",
          "text": [
            "T: 2093\n",
            "F: 2031\n",
            "\n",
            "pos: ADJ\n"
          ],
          "name": "stdout"
        },
        {
          "output_type": "display_data",
          "data": {
            "image/png": "[encoded data removed]",
            "text/plain": [
              "<Figure size 432x288 with 1 Axes>"
            ]
          },
          "metadata": {
            "tags": [],
            "needs_background": "light"
          }
        },
        {
          "output_type": "stream",
          "text": [
            "T: 724\n",
            "F: 706\n",
            "\n",
            "pos: VERB\n"
          ],
          "name": "stdout"
        },
        {
          "output_type": "display_data",
          "data": {
            "image/png": "[encoded data removed]",
            "text/plain": [
              "<Figure size 432x288 with 1 Axes>"
            ]
          },
          "metadata": {
            "tags": [],
            "needs_background": "light"
          }
        },
        {
          "output_type": "stream",
          "text": [
            "T: 1095\n",
            "F: 1175\n",
            "\n",
            "pos: ADV\n"
          ],
          "name": "stdout"
        },
        {
          "output_type": "display_data",
          "data": {
            "image/png": "[encoded data removed]",
            "text/plain": [
              "<Figure size 432x288 with 1 Axes>"
            ]
          },
          "metadata": {
            "tags": [],
            "needs_background": "light"
          }
        },
        {
          "output_type": "stream",
          "text": [
            "T: 88\n",
            "F: 88\n",
            "\n",
            "\n",
            "pos: NOUN\n"
          ],
          "name": "stdout"
        },
        {
          "output_type": "display_data",
          "data": {
            "image/png": "[encoded data removed]",
            "text/plain": [
              "<Figure size 432x288 with 1 Axes>"
            ]
          },
          "metadata": {
            "tags": [],
            "needs_background": "light"
          }
        },
        {
          "output_type": "stream",
          "text": [
            "T: 290\n",
            "F: 292\n",
            "\n",
            "pos: ADJ\n"
          ],
          "name": "stdout"
        },
        {
          "output_type": "display_data",
          "data": {
            "image/png": "[encoded data removed]",
            "text/plain": [
              "<Figure size 432x288 with 1 Axes>"
            ]
          },
          "metadata": {
            "tags": [],
            "needs_background": "light"
          }
        },
        {
          "output_type": "stream",
          "text": [
            "T: 78\n",
            "F: 80\n",
            "\n",
            "pos: ADV\n"
          ],
          "name": "stdout"
        },
        {
          "output_type": "display_data",
          "data": {
            "image/png": "[encoded data removed]",
            "text/plain": [
              "<Figure size 432x288 with 1 Axes>"
            ]
          },
          "metadata": {
            "tags": [],
            "needs_background": "light"
          }
        },
        {
          "output_type": "stream",
          "text": [
            "T: 6\n",
            "F: 8\n",
            "\n",
            "pos: VERB\n"
          ],
          "name": "stdout"
        },
        {
          "output_type": "display_data",
          "data": {
            "image/png": "[encoded data removed]",
            "text/plain": [
              "<Figure size 432x288 with 1 Axes>"
            ]
          },
          "metadata": {
            "tags": [],
            "needs_background": "light"
          }
        },
        {
          "output_type": "stream",
          "text": [
            "T: 126\n",
            "F: 120\n"
          ],
          "name": "stdout"
        }
      ]
    },
    {
      "cell_type": "markdown",
      "metadata": {
        "id": "ueGkRHclxC3Q"
      },
      "source": [
        "As we can see from the precedent plots the classes are almost balanced also with respect to the pos tags"
      ]
    },
    {
      "cell_type": "code",
      "metadata": {
        "colab": {
          "base_uri": "https://localhost:8080/"
        },
        "id": "OSQnogT0fbxR",
        "outputId": "36618cef-2b23-47c1-fc7a-d46a2d065311"
      },
      "source": [
        "# download the pre trained embeddings\n",
        "! wget http://nlp.stanford.edu/data/glove.840B.300d.zip"
      ],
      "execution_count": null,
      "outputs": [
        {
          "output_type": "stream",
          "text": [
            "--2021-04-30 16:10:42--  http://nlp.stanford.edu/data/glove.840B.300d.zip\n",
            "Resolving nlp.stanford.edu (nlp.stanford.edu)... 171.64.67.140\n",
            "Connecting to nlp.stanford.edu (nlp.stanford.edu)|171.64.67.140|:80... connected.\n",
            "HTTP request sent, awaiting response... 302 Found\n",
            "Location: https://nlp.stanford.edu/data/glove.840B.300d.zip [following]\n",
            "--2021-04-30 16:10:43--  https://nlp.stanford.edu/data/glove.840B.300d.zip\n",
            "Connecting to nlp.stanford.edu (nlp.stanford.edu)|171.64.67.140|:443... connected.\n",
            "HTTP request sent, awaiting response... 301 Moved Permanently\n",
            "Location: http://downloads.cs.stanford.edu/nlp/data/glove.840B.300d.zip [following]\n",
            "--2021-04-30 16:10:43--  http://downloads.cs.stanford.edu/nlp/data/glove.840B.300d.zip\n",
            "Resolving downloads.cs.stanford.edu (downloads.cs.stanford.edu)... 171.64.64.22\n",
            "Connecting to downloads.cs.stanford.edu (downloads.cs.stanford.edu)|171.64.64.22|:80... connected.\n",
            "HTTP request sent, awaiting response... 200 OK\n",
            "Length: 2176768927 (2.0G) [application/zip]\n",
            "Saving to: ‘glove.840B.300d.zip’\n",
            "\n",
            "glove.840B.300d.zip 100%[===================>]   2.03G  5.20MB/s    in 7m 3s   \n",
            "\n",
            "2021-04-30 16:17:46 (4.91 MB/s) - ‘glove.840B.300d.zip’ saved [2176768927/2176768927]\n",
            "\n"
          ],
          "name": "stdout"
        }
      ]
    },
    {
      "cell_type": "code",
      "metadata": {
        "colab": {
          "base_uri": "https://localhost:8080/"
        },
        "id": "hgtWO6hthrsu",
        "outputId": "29c75b61-7dad-4146-a8bf-016a695063c4"
      },
      "source": [
        "# unzip the embeddings\n",
        "! sudo apt-get install unzip\n",
        "! unzip glove.840B.300d.zip -d glove"
      ],
      "execution_count": null,
      "outputs": [
        {
          "output_type": "stream",
          "text": [
            "Reading package lists... Done\n",
            "Building dependency tree       \n",
            "Reading state information... Done\n",
            "unzip is already the newest version (6.0-21ubuntu1.1).\n",
            "The following package was automatically installed and is no longer required:\n",
            "  libnvidia-common-460\n",
            "Use 'sudo apt autoremove' to remove it.\n",
            "0 upgraded, 0 newly installed, 0 to remove and 34 not upgraded.\n",
            "Archive:  glove.840B.300d.zip\n",
            "  inflating: glove/glove.840B.300d.txt  \n"
          ],
          "name": "stdout"
        }
      ]
    },
    {
      "cell_type": "markdown",
      "metadata": {
        "id": "0dCogkvtxQ1d"
      },
      "source": [
        "**Load the embedding** and check for oov terms"
      ]
    },
    {
      "cell_type": "code",
      "metadata": {
        "id": "gbHOXxiuY_ZK"
      },
      "source": [
        "# load the embeddings to a dictionary with key the term and value the embedding\n",
        "embeddings = {}\n",
        "with open(f\"glove/glove.840B.{EMBEDDING_DIMENSION}d.txt\") as fin:\n",
        "  for line in fin:\n",
        "    term, *embedding = line.strip().split(\" \")\n",
        "    embedding = torch.tensor(list(map(lambda x: float(x), embedding)))\n",
        "        \n",
        "    embeddings[term] = embedding"
      ],
      "execution_count": null,
      "outputs": []
    },
    {
      "cell_type": "code",
      "metadata": {
        "colab": {
          "base_uri": "https://localhost:8080/"
        },
        "id": "k5o1LnCPaM0c",
        "outputId": "fad34814-56e2-43c3-a18f-4640d0e9448a"
      },
      "source": [
        "# check for out of words vocabulary\n",
        "def check_oovs(train:list, dev:list, embeddings:dict):\n",
        "  oovs = {}\n",
        "  for dataset in [(train, \"train\"), (dev, \"dev\")]:\n",
        "    oovs[dataset[1]] = set()\n",
        "    for entry in dataset[0]:\n",
        "      s1 = entry[\"sentence1\"]\n",
        "      for term in s1.split(\" \"):\n",
        "        if (term not in embeddings):\n",
        "          oovs[dataset[1]].add(term)\n",
        "      \n",
        "      s2 = entry[\"sentence2\"]\n",
        "      for term in s2.split(\" \"):\n",
        "        if (term not in embeddings):\n",
        "          oovs[dataset[1]].add(term)\n",
        "    # print num of oov terms\n",
        "    print(len(oovs[dataset[1]]))\n",
        "    # print the first oov terms\n",
        "    print(list(oovs[dataset[1]])[:20])\n",
        "\n",
        "check_oovs(train, dev, embeddings)"
      ],
      "execution_count": null,
      "outputs": [
        {
          "output_type": "stream",
          "text": [
            "15063\n",
            "['', 'pencil,', 'Adynamia', 'dismay,', 'feelings,', 'bear,', 'recoil)', 'Flame\",', 'foreign,', 'filaments,', 'China,', 'aside.', 'Kinama', 'cinnamon,', 'retrieval.', 'reel,', 'Géricault’s', 'producers,', 'it),', \"hadn't\"]\n",
            "2493\n",
            "['', 'worshipers.', 'officer.', 'feelings,', 'treacherous,', 'borders,', 'home,', 'Madonna’s', 'competition,', 'space,', 'parliament.', 'Atlanta,', 'ribs.', 'stranger.', 'Ring,', 'six-', '\"Somebody', 'volunteering,', 'shells.', 'tanks,']\n"
          ],
          "name": "stdout"
        }
      ]
    },
    {
      "cell_type": "markdown",
      "metadata": {
        "id": "8_Z4Zfoycf_g"
      },
      "source": [
        "I have to do some preprocessing of the data in order to remove some out of vocabulary terms: \n",
        "\n",
        "1. remove punctuation\n",
        "2. lower "
      ]
    },
    {
      "cell_type": "code",
      "metadata": {
        "colab": {
          "base_uri": "https://localhost:8080/"
        },
        "id": "kdl2d03YcYYl",
        "outputId": "f3f9cd7a-0ec4-4906-e226-0fe1a119591b"
      },
      "source": [
        "# I tried also to remove stopwords but this was not usefull\n",
        "def remove_stopwords(phrase: str, original_term: str):\n",
        "  tokens = phrase.split(\" \")\n",
        "  tokens = [token for token in tokens if (token == original_term or not token in stopwords.words()) ]\n",
        "\n",
        "  return (\" \").join(tokens)\n",
        "\n",
        "# preprocess a single phrase by removing punctuation and lowerize it\n",
        "def preprocess_phrase(sentence:str, start:int, end:int):\n",
        "  # get the original target term\n",
        "  original_term = sentence[start:end].lower()\n",
        "  \n",
        "  # replace punctuation with space\n",
        "  sentence = re.sub(r\"[()\\\",\\-—.;/:@<>#?!&$“”'’`–%\\[\\]−]+\", \" \", sentence) \n",
        "  # remove extra space\n",
        "  sentence = re.sub(r\"\\s+\", \" \", sentence)\n",
        "  sentence = sentence.replace(\"'s\", \" 's\")\n",
        "  # strip and lowerize the obtained sentence\n",
        "  sentence = sentence.strip().lower()\n",
        "  \n",
        "  # get the new position of the target term\n",
        "  start_n = sentence.find(original_term)\n",
        "  end_n = start_n + len(original_term)\n",
        "\n",
        "  # check that the position is correct\n",
        "  assert original_term == sentence[start_n:end_n] \n",
        "\n",
        "  return sentence, start_n, end_n\n",
        "\n",
        "def preprocessing(entries: List[Dict])-> List[Dict]:\n",
        "  preprocessed = []\n",
        "  for entry in entries:\n",
        "    \n",
        "    # get preprocessed phrase and the position of the target term\n",
        "    sentence1, start1, end1 = preprocess_phrase(entry[\"sentence1\"], int(entry[\"start1\"]), int(entry[\"end1\"]))\n",
        "    sentence2, start2, end2 = preprocess_phrase(entry[\"sentence2\"], int(entry[\"start2\"]), int(entry[\"end2\"]))\n",
        "    \n",
        "    # copy the entry and replace senteces and positions of the target terms\n",
        "    # in both the phrases\n",
        "    preprocessed_entry = entry.copy()\n",
        "    preprocessed_entry[\"sentence1\"] = sentence1\n",
        "    preprocessed_entry[\"sentence2\"] = sentence2\n",
        "    preprocessed_entry[\"start1\"] = start1\n",
        "    preprocessed_entry[\"end1\"] = end1\n",
        "    preprocessed_entry[\"start2\"] = start2\n",
        "    preprocessed_entry[\"end2\"] = end2\n",
        "    \n",
        "    preprocessed.append(preprocessed_entry)\n",
        "\n",
        "  return preprocessed\n",
        "\n",
        "\n",
        "train_n, dev_n = preprocessing(train), preprocessing(dev)\n",
        "\n",
        "check_oovs(train_n, dev_n, embeddings)"
      ],
      "execution_count": null,
      "outputs": [
        {
          "output_type": "stream",
          "text": [
            "1806\n",
            "['adomnán', 'collot', 'afsharid', 'viṣakaṇṭha', 'fmct', 'bpm5', 'soramimi', 'rbec', 'čačak', 'bahmani', 'andrada', 'ibrahimi', 'daudmannsodden', 'terap', 'seblat', 'aalcc', 'eylau', 'blodeuwedd', 'chazy', 'sepac']\n",
            "172\n",
            "['juantorena', 'mezzalunas', 'muldowney', 'cryptocurrencies', 'rangdum', 'seny', 'dáil', 'pherusa', 'goldtown', 'popplestone', 'ohira', 'espinillo', 'basmachis', 'chainsmokers', 'bahini', 'castagna', 'ledra', 'redcorn', 'nakazato', 'kokoity']\n"
          ],
          "name": "stdout"
        }
      ]
    },
    {
      "cell_type": "markdown",
      "metadata": {
        "id": "kFWxa0YYYnPI"
      },
      "source": [
        "As we can see from the precedent part we have removed a lot of oovs by removing punctuation and applying lower() to the entire phrase"
      ]
    },
    {
      "cell_type": "code",
      "metadata": {
        "id": "ZWwW9W3n57F3"
      },
      "source": [
        "STOPWORDS = stopwords.words()\n",
        "# weight used when computing the avg of the embeddings of the phrase for the stopwords\n",
        "STOPWORDS_WEIGHT = 0.1\n",
        "# function that associates phrase to phrase embedding given an embedding and the\n",
        "# target term\n",
        "def phrase2vector(phrase: str, embeddings: dict, lemma:str):\n",
        "  # split the phrase into tokens\n",
        "  terms = phrase.split(\" \")\n",
        "  # start the phrase embedding as a zero tensor\n",
        "  sum = torch.zeros(EMBEDDING_DIMENSION)\n",
        "\n",
        "  # n -> num of non zero embeddings\n",
        "  n = 0\n",
        "  for term in terms:\n",
        "    if (term in embeddings ):\n",
        "      # get the embedding of the term and turn it to tensor\n",
        "      emb = embeddings[term]\n",
        "      # update the counter of non zero embeddings\n",
        "      n += 1\n",
        "      # update the sum of embeddings of the phrase \n",
        "      # the target term is weighted with WEIGHT\n",
        "      # the stopwords also are weighted with STOPWORDS_WEIGHT\n",
        "      # the other term have weight = 1\n",
        "      sum = sum + WEIGHT*emb if term == lemma else (sum + STOPWORDS_WEIGHT*emb if term in STOPWORDS else sum + emb)\n",
        "\n",
        "    # in order to avoid possible errors in test phase\n",
        "    # (for train and dev data is not necessary)\n",
        "    n = 1 if n == 0 else n \n",
        "  return sum/n"
      ],
      "execution_count": null,
      "outputs": []
    },
    {
      "cell_type": "code",
      "metadata": {
        "id": "nlTcWvBQ73Nw"
      },
      "source": [
        "class PhraseDataset(Dataset):\n",
        "\n",
        "    def __init__(self, dataset: list, feature_extraction_function: Callable[[str], torch.tensor], embeddings: dict):\n",
        "        \n",
        "        self.embeddings = embeddings\n",
        "        self.dataset = dataset\n",
        "        self.feature_extraction_function = feature_extraction_function\n",
        "        # initialize the data\n",
        "        self.__init_data()\n",
        "\n",
        "\n",
        "    def __init_data(self):\n",
        "        self.samples = []\n",
        "        for entry in self.dataset:\n",
        "          # for each entry in the dataset get the target term\n",
        "          term_1 = entry[\"sentence1\"][entry[\"start1\"]: entry[\"end1\"]]\n",
        "          term_2 = entry[\"sentence2\"][entry[\"start2\"]: entry[\"end2\"]]\n",
        "\n",
        "          # get the embeddings of the phrases\n",
        "          emb_1 = self.feature_extraction_function(entry[\"sentence1\"], self.embeddings, term_1)\n",
        "          emb_2 = self.feature_extraction_function(entry[\"sentence2\"], self.embeddings, term_2)\n",
        "          \n",
        "          # build the data sample as a tuple containing \n",
        "          # 1) a tuple with the two embeddings of the sentences\n",
        "          # 2) the label\n",
        "          data = ((emb_1, emb_2), float(1) if entry[\"label\"] == \"True\" else float(0))\n",
        "\n",
        "          # append the sample\n",
        "          self.samples.append(data)\n",
        "          \n",
        "    def __len__(self):\n",
        "        # returns the number of samples in our dataset\n",
        "      return len(self.samples)\n",
        "\n",
        "    def __getitem__(self, idx):\n",
        "        # returns the idx-th sample\n",
        "        return self.samples[idx]"
      ],
      "execution_count": null,
      "outputs": []
    },
    {
      "cell_type": "code",
      "metadata": {
        "id": "rjEZuqVz9FBj"
      },
      "source": [
        "# create the Dataset objects for train and dev datasets\n",
        "train_dataset = PhraseDataset(train_n, phrase2vector, embeddings)\n",
        "dev_dataset = PhraseDataset(dev_n, phrase2vector, embeddings)"
      ],
      "execution_count": null,
      "outputs": []
    },
    {
      "cell_type": "code",
      "metadata": {
        "id": "_bC7UB6N9ZNs",
        "colab": {
          "base_uri": "https://localhost:8080/"
        },
        "outputId": "2a42b1bd-0c8a-47c4-f4a6-ecc148d81d50"
      },
      "source": [
        "# create the dataloader objects for train and test with batch size to BATCH_SIZE\n",
        "train_dataloader = DataLoader(train_dataset, batch_size=BATCH_SIZE, shuffle=True)\n",
        "dev_dataloader = DataLoader(dev_dataset, batch_size=BATCH_SIZE)\n",
        "\n",
        "# see the structure of a sample from the dataloader\n",
        "for batch in train_dataloader:\n",
        "    \n",
        "    batch_x, batch_y = batch\n",
        "    print(f\"# batch len: {len(batch_x)}\")\n",
        "    print(f\"# batch x[0] shape: \\n{batch_x[0].shape}\")\n",
        "    print(f\"# batch x[1] shape: \\n{batch_x[1].shape}\")\n",
        "\n",
        "    print(f\"# batch y shape: \\n{batch_y.shape}\")\n",
        "    break"
      ],
      "execution_count": null,
      "outputs": [
        {
          "output_type": "stream",
          "text": [
            "# batch len: 2\n",
            "# batch x[0] shape: \n",
            "torch.Size([300, 300])\n",
            "# batch x[1] shape: \n",
            "torch.Size([300, 300])\n",
            "# batch y shape: \n",
            "torch.Size([300])\n"
          ],
          "name": "stdout"
        }
      ]
    },
    {
      "cell_type": "markdown",
      "metadata": {
        "id": "0pJ8KIBkoM1S"
      },
      "source": [
        "# Train"
      ]
    },
    {
      "cell_type": "code",
      "metadata": {
        "id": "kLUEgorh_i5U"
      },
      "source": [
        "# method to save the model \n",
        "def save_model(model: nn.Module, path:str):\n",
        "  torch.save(model.state_dict(), path)"
      ],
      "execution_count": null,
      "outputs": []
    },
    {
      "cell_type": "code",
      "metadata": {
        "id": "YPIYd9X2PW49"
      },
      "source": [
        "# method to train and evaluate\n",
        "def train_and_evaluate(\n",
        "    model: nn.Module,\n",
        "    optimizer: torch.optim.Optimizer,\n",
        "    train_dataloader: DataLoader,\n",
        "    epochs: int = 50,\n",
        "    dev_dataloader: DataLoader = None,\n",
        "    dev_fn: Callable = None,\n",
        "    verbose: bool = True,\n",
        "):\n",
        "    # history\n",
        "    train_loss = []\n",
        "    dev_losses = []\n",
        "    dev_accs = []\n",
        "    train_accs = []\n",
        "\n",
        "    # current value of patience\n",
        "    patience = 0\n",
        "    for epoch in range(epochs):\n",
        "        # put the model in train mode so that we activate the dropout\n",
        "        model.train()\n",
        "        # store the losses and the accs over the several batches in this epoch\n",
        "        losses = []\n",
        "        accs = []\n",
        "\n",
        "        # for each batch\n",
        "        for x, y in train_dataloader:\n",
        "            # reset the gradient of the optimizer\n",
        "            optimizer.zero_grad()\n",
        "            # batch_out is a dictionary with loss and acc keys\n",
        "            batch_out = model(x[0], x[1], y.float())\n",
        "            loss = batch_out[\"loss\"]\n",
        "            acc = batch_out[\"acc\"]\n",
        "            # store the acc and the loss\n",
        "            losses.append(loss)\n",
        "            accs.append(acc)\n",
        "\n",
        "            # computes the gradient of the loss\n",
        "            loss.backward()\n",
        "          \n",
        "            # updates parameters based on the gradient information\n",
        "            optimizer.step()\n",
        "\n",
        "        model.global_epoch += 1\n",
        "        # mean loss and acc in the epoch\n",
        "        mean_loss = sum(losses) / len(losses)\n",
        "        mean_acc = sum(accs) / len(accs)\n",
        "        \n",
        "        # store the mean loss and acc\n",
        "        train_loss.append(mean_loss.item())\n",
        "        train_accs.append(mean_acc.item())\n",
        "        \n",
        "        if verbose or epoch == epochs - 1:\n",
        "            print(f\"\\tEpoch\\t{model.global_epoch:3d} => Loss: {mean_loss:0.6f}\")\n",
        "        \n",
        "        if dev_dataloader and dev_fn is not None:\n",
        "            \n",
        "            # put the model in evaluating mode\n",
        "            model.eval()\n",
        "            # evaluate the model over the development set\n",
        "            dev_output = dev_fn(model, dev_dataloader)\n",
        "            # get acc and loss\n",
        "            dev_loss_value = dev_output[\"loss\"]\n",
        "            dev_acc_value = dev_output[\"acc\"]\n",
        "            # if the loss is higher than the minimun dev loss stored, increase \n",
        "            # patience level, otherwise reset it \n",
        "            if (len(dev_losses) > 0 and dev_loss_value > min(dev_losses)):\n",
        "              patience += 1\n",
        "            else:\n",
        "              # save the best model (it will be overwritten when I arrive to a \n",
        "              # lower loss value\n",
        "              save_model(model, f\"{FILE_NAME}.pt\")\n",
        "              patience = 0\n",
        "            \n",
        "            # save dev loss and acc\n",
        "            dev_losses.append(dev_loss_value)\n",
        "            dev_accs.append(dev_acc_value)\n",
        "\n",
        "            # info prints\n",
        "            print(f\"\\t\\tDevelopment => Loss: {dev_loss_value:0.6f}\")\n",
        "            print(f\"\\t\\tDevelopment => Acc: {dev_acc_value:0.6f}\")\n",
        "            print()\n",
        "\n",
        "            # early stopping\n",
        "            if (patience > PATIENCE):\n",
        "              print(\"EARLY STOPPING\")\n",
        "              break \n",
        "    \n",
        "    return {\"train\": train_loss, \"dev\":dev_losses, \"dev_accs\":dev_accs, \"train_accs\": train_accs}"
      ],
      "execution_count": null,
      "outputs": []
    },
    {
      "cell_type": "code",
      "metadata": {
        "id": "UkKXPoS4cOEo"
      },
      "source": [
        "class Classifier(torch.nn.Module):\n",
        "\n",
        "    def __init__(self, \n",
        "                 n_features: int, \n",
        "                 n_hidden1: int, \n",
        "                 n_hidden2: int, \n",
        "                 dropout:float):\n",
        "        super().__init__()\n",
        "        # the first linear layer is shared among the emebeddings of the two sentences\n",
        "        self.lin1 = torch.nn.Linear(n_features, n_hidden1)\n",
        "        # second lienar layer\n",
        "        self.lin2 = torch.nn.Linear(n_hidden1, n_hidden2)\n",
        "        # third one that creates the output\n",
        "        self.lin3 = torch.nn.Linear(n_hidden2, 1)\n",
        "        # dropout\n",
        "        self.drop = torch.nn.Dropout(dropout)\n",
        "        # batch normalization\n",
        "        self.bn1 = nn.BatchNorm1d(num_features=n_hidden1)\n",
        "        self.bn2 = nn.BatchNorm1d(num_features=n_hidden2)\n",
        "\n",
        "        self.loss_fn = torch.nn.BCELoss()\n",
        "        self.global_epoch = 0\n",
        "    def forward(self, ph1: torch.Tensor, ph2: torch.Tensor, y: Optional[torch.Tensor] = None) -> Dict:\n",
        "        \n",
        "        # the embeddings of the two phrases pass through the same linear layer\n",
        "        # so that changing the order does not change the result\n",
        "        out1 = self.lin1(ph1)\n",
        "        out1 = torch.relu(out1)\n",
        "        # I use the batch normalization in order to speed up the learning\n",
        "        out1 = self.bn1(out1)\n",
        "\n",
        "        out2 = self.lin1(ph2)\n",
        "        out2 = torch.relu(out2)\n",
        "        out2 = self.bn1(out2)\n",
        "\n",
        "\n",
        "        # element wise product of the two matrices\n",
        "        # in order to merge the results of the first linear layer\n",
        "        # of the two sentence embedding\n",
        "        out = out1*out2    \n",
        "\n",
        "        # fc layer with dropout\n",
        "        res = self.lin2(out)\n",
        "        res = torch.relu(res)\n",
        "        res = self.drop(res)\n",
        "        \n",
        "        res = self.lin3(res)\n",
        "        # pass results in 0-1 range\n",
        "        res = torch.sigmoid(res)\n",
        "        \n",
        "        # remove a dimension\n",
        "        res = res.squeeze()\n",
        "\n",
        "        # save the predictions in order to return it\n",
        "        result = {\"pred\": res}\n",
        "\n",
        "        # compute loss and acc\n",
        "        if y is not None:\n",
        "            loss = self.loss(res, y)\n",
        "            result[\"loss\"] = loss\n",
        "            result[\"acc\"] = (torch.round(res) == y).float().sum()/len(y)\n",
        "            result[\"correct\"] = (torch.round(res) == y).float().sum()\n",
        "\n",
        "        return result\n",
        "\n",
        "    def loss(self, pred, y):\n",
        "        return self.loss_fn(pred, y)\n"
      ],
      "execution_count": null,
      "outputs": []
    },
    {
      "cell_type": "code",
      "metadata": {
        "id": "EVWWFQ_GzWtS"
      },
      "source": [
        "@torch.no_grad()\n",
        "def evaluate(\n",
        "    model: nn.Module,\n",
        "    dataloader: DataLoader,\n",
        "):\n",
        "    losses = []\n",
        "    accs = []\n",
        "    size = 0\n",
        "    for x, y in dataloader:\n",
        "        # get the number of elements in the batch (it is not constant since the \n",
        "        # number of examples is not a multiple of BATCH_SIZE, so the last batch\n",
        "        # will be smaller)\n",
        "        size += len(y)\n",
        "        outputs = model(x[0], x[1], y.float())\n",
        "        # get loss and acc\n",
        "        loss = outputs[\"loss\"]\n",
        "        losses.append(loss*len(y))\n",
        "\n",
        "        # in acc I store the number of correct elements predicted\n",
        "        # so that I can than sum all the values and obtain the accuracy on the \n",
        "        # set by dividing for the number of elements tested  \n",
        "        accs.append(outputs[\"correct\"])\n",
        "\n",
        "    # get mean acc and mean loss\n",
        "    mean_acc = sum(accs)/size\n",
        "    mean_loss = sum(losses) / size\n",
        "    return {\n",
        "        \"loss\": mean_loss,\n",
        "        \"acc\": mean_acc,\n",
        "    }"
      ],
      "execution_count": null,
      "outputs": []
    },
    {
      "cell_type": "code",
      "metadata": {
        "colab": {
          "base_uri": "https://localhost:8080/"
        },
        "id": "cEBQeC199ojj",
        "outputId": "213cb0cf-b4b0-4959-c48c-1e0b8419937d"
      },
      "source": [
        "# preproducibility\n",
        "torch.manual_seed(SEED)\n",
        "torch.use_deterministic_algorithms(True)\n",
        "\n",
        "model = Classifier(EMBEDDING_DIMENSION, n_hidden1=512, n_hidden2=256, dropout=0.5)\n",
        "#model = Classifier(EMBEDDING_DIMENSION, n_hidden1=1_024, n_hidden2=512, n_hidden3=256, dropout=0.1)\n",
        "\n",
        "# define the adam optimizer \n",
        "optimizer = torch.optim.Adam(model.parameters(), lr=LR)\n",
        "\n",
        "scores = train_and_evaluate(model, optimizer, train_dataloader, epochs=2_000, dev_dataloader=dev_dataloader, dev_fn=evaluate)"
      ],
      "execution_count": null,
      "outputs": [
        {
          "output_type": "stream",
          "text": [
            "\tEpoch\t  1 => Loss: 0.732723\n",
            "\t\tDevelopment => Loss: 0.693233\n",
            "\t\tDevelopment => Acc: 0.504000\n",
            "\n",
            "\tEpoch\t  2 => Loss: 0.717438\n",
            "\t\tDevelopment => Loss: 0.707152\n",
            "\t\tDevelopment => Acc: 0.516000\n",
            "\n",
            "\tEpoch\t  3 => Loss: 0.698800\n",
            "\t\tDevelopment => Loss: 0.694895\n",
            "\t\tDevelopment => Acc: 0.536000\n",
            "\n",
            "\tEpoch\t  4 => Loss: 0.689146\n",
            "\t\tDevelopment => Loss: 0.684046\n",
            "\t\tDevelopment => Acc: 0.576000\n",
            "\n",
            "\tEpoch\t  5 => Loss: 0.677343\n",
            "\t\tDevelopment => Loss: 0.672358\n",
            "\t\tDevelopment => Acc: 0.600000\n",
            "\n",
            "\tEpoch\t  6 => Loss: 0.667098\n",
            "\t\tDevelopment => Loss: 0.662305\n",
            "\t\tDevelopment => Acc: 0.616000\n",
            "\n",
            "\tEpoch\t  7 => Loss: 0.662823\n",
            "\t\tDevelopment => Loss: 0.654989\n",
            "\t\tDevelopment => Acc: 0.644000\n",
            "\n",
            "\tEpoch\t  8 => Loss: 0.656015\n",
            "\t\tDevelopment => Loss: 0.648751\n",
            "\t\tDevelopment => Acc: 0.656000\n",
            "\n",
            "\tEpoch\t  9 => Loss: 0.649988\n",
            "\t\tDevelopment => Loss: 0.642067\n",
            "\t\tDevelopment => Acc: 0.661000\n",
            "\n",
            "\tEpoch\t 10 => Loss: 0.644594\n",
            "\t\tDevelopment => Loss: 0.636531\n",
            "\t\tDevelopment => Acc: 0.674000\n",
            "\n",
            "\tEpoch\t 11 => Loss: 0.638662\n",
            "\t\tDevelopment => Loss: 0.631968\n",
            "\t\tDevelopment => Acc: 0.671000\n",
            "\n",
            "\tEpoch\t 12 => Loss: 0.637559\n",
            "\t\tDevelopment => Loss: 0.628237\n",
            "\t\tDevelopment => Acc: 0.683000\n",
            "\n",
            "\tEpoch\t 13 => Loss: 0.635010\n",
            "\t\tDevelopment => Loss: 0.624404\n",
            "\t\tDevelopment => Acc: 0.688000\n",
            "\n",
            "\tEpoch\t 14 => Loss: 0.632496\n",
            "\t\tDevelopment => Loss: 0.620807\n",
            "\t\tDevelopment => Acc: 0.690000\n",
            "\n",
            "\tEpoch\t 15 => Loss: 0.627194\n",
            "\t\tDevelopment => Loss: 0.617561\n",
            "\t\tDevelopment => Acc: 0.693000\n",
            "\n",
            "\tEpoch\t 16 => Loss: 0.623906\n",
            "\t\tDevelopment => Loss: 0.614268\n",
            "\t\tDevelopment => Acc: 0.694000\n",
            "\n",
            "\tEpoch\t 17 => Loss: 0.621603\n",
            "\t\tDevelopment => Loss: 0.611945\n",
            "\t\tDevelopment => Acc: 0.696000\n",
            "\n",
            "\tEpoch\t 18 => Loss: 0.617375\n",
            "\t\tDevelopment => Loss: 0.609640\n",
            "\t\tDevelopment => Acc: 0.694000\n",
            "\n",
            "\tEpoch\t 19 => Loss: 0.615579\n",
            "\t\tDevelopment => Loss: 0.608782\n",
            "\t\tDevelopment => Acc: 0.692000\n",
            "\n",
            "\tEpoch\t 20 => Loss: 0.614280\n",
            "\t\tDevelopment => Loss: 0.606929\n",
            "\t\tDevelopment => Acc: 0.694000\n",
            "\n",
            "\tEpoch\t 21 => Loss: 0.612049\n",
            "\t\tDevelopment => Loss: 0.604445\n",
            "\t\tDevelopment => Acc: 0.698000\n",
            "\n",
            "\tEpoch\t 22 => Loss: 0.608127\n",
            "\t\tDevelopment => Loss: 0.601197\n",
            "\t\tDevelopment => Acc: 0.703000\n",
            "\n",
            "\tEpoch\t 23 => Loss: 0.607050\n",
            "\t\tDevelopment => Loss: 0.599789\n",
            "\t\tDevelopment => Acc: 0.706000\n",
            "\n",
            "\tEpoch\t 24 => Loss: 0.603890\n",
            "\t\tDevelopment => Loss: 0.598336\n",
            "\t\tDevelopment => Acc: 0.707000\n",
            "\n",
            "\tEpoch\t 25 => Loss: 0.601120\n",
            "\t\tDevelopment => Loss: 0.596938\n",
            "\t\tDevelopment => Acc: 0.712000\n",
            "\n",
            "\tEpoch\t 26 => Loss: 0.600938\n",
            "\t\tDevelopment => Loss: 0.595306\n",
            "\t\tDevelopment => Acc: 0.709000\n",
            "\n",
            "\tEpoch\t 27 => Loss: 0.595526\n",
            "\t\tDevelopment => Loss: 0.593316\n",
            "\t\tDevelopment => Acc: 0.714000\n",
            "\n",
            "\tEpoch\t 28 => Loss: 0.596437\n",
            "\t\tDevelopment => Loss: 0.591317\n",
            "\t\tDevelopment => Acc: 0.718000\n",
            "\n",
            "\tEpoch\t 29 => Loss: 0.593460\n",
            "\t\tDevelopment => Loss: 0.590563\n",
            "\t\tDevelopment => Acc: 0.720000\n",
            "\n",
            "\tEpoch\t 30 => Loss: 0.590037\n",
            "\t\tDevelopment => Loss: 0.589682\n",
            "\t\tDevelopment => Acc: 0.713000\n",
            "\n",
            "\tEpoch\t 31 => Loss: 0.587301\n",
            "\t\tDevelopment => Loss: 0.589053\n",
            "\t\tDevelopment => Acc: 0.717000\n",
            "\n",
            "\tEpoch\t 32 => Loss: 0.584756\n",
            "\t\tDevelopment => Loss: 0.586373\n",
            "\t\tDevelopment => Acc: 0.721000\n",
            "\n",
            "\tEpoch\t 33 => Loss: 0.581838\n",
            "\t\tDevelopment => Loss: 0.585737\n",
            "\t\tDevelopment => Acc: 0.722000\n",
            "\n",
            "\tEpoch\t 34 => Loss: 0.581137\n",
            "\t\tDevelopment => Loss: 0.584576\n",
            "\t\tDevelopment => Acc: 0.728000\n",
            "\n",
            "\tEpoch\t 35 => Loss: 0.579958\n",
            "\t\tDevelopment => Loss: 0.582934\n",
            "\t\tDevelopment => Acc: 0.719000\n",
            "\n",
            "\tEpoch\t 36 => Loss: 0.577411\n",
            "\t\tDevelopment => Loss: 0.582171\n",
            "\t\tDevelopment => Acc: 0.723000\n",
            "\n",
            "\tEpoch\t 37 => Loss: 0.575328\n",
            "\t\tDevelopment => Loss: 0.581094\n",
            "\t\tDevelopment => Acc: 0.724000\n",
            "\n",
            "\tEpoch\t 38 => Loss: 0.574305\n",
            "\t\tDevelopment => Loss: 0.580229\n",
            "\t\tDevelopment => Acc: 0.724000\n",
            "\n",
            "\tEpoch\t 39 => Loss: 0.570998\n",
            "\t\tDevelopment => Loss: 0.579249\n",
            "\t\tDevelopment => Acc: 0.724000\n",
            "\n",
            "\tEpoch\t 40 => Loss: 0.568052\n",
            "\t\tDevelopment => Loss: 0.577770\n",
            "\t\tDevelopment => Acc: 0.724000\n",
            "\n",
            "\tEpoch\t 41 => Loss: 0.568258\n",
            "\t\tDevelopment => Loss: 0.576404\n",
            "\t\tDevelopment => Acc: 0.720000\n",
            "\n",
            "\tEpoch\t 42 => Loss: 0.567094\n",
            "\t\tDevelopment => Loss: 0.575752\n",
            "\t\tDevelopment => Acc: 0.726000\n",
            "\n",
            "\tEpoch\t 43 => Loss: 0.564138\n",
            "\t\tDevelopment => Loss: 0.574467\n",
            "\t\tDevelopment => Acc: 0.725000\n",
            "\n",
            "\tEpoch\t 44 => Loss: 0.559700\n",
            "\t\tDevelopment => Loss: 0.574023\n",
            "\t\tDevelopment => Acc: 0.723000\n",
            "\n",
            "\tEpoch\t 45 => Loss: 0.559193\n",
            "\t\tDevelopment => Loss: 0.572609\n",
            "\t\tDevelopment => Acc: 0.728000\n",
            "\n",
            "\tEpoch\t 46 => Loss: 0.555727\n",
            "\t\tDevelopment => Loss: 0.572659\n",
            "\t\tDevelopment => Acc: 0.725000\n",
            "\n",
            "\tEpoch\t 47 => Loss: 0.554376\n",
            "\t\tDevelopment => Loss: 0.571520\n",
            "\t\tDevelopment => Acc: 0.723000\n",
            "\n",
            "\tEpoch\t 48 => Loss: 0.552372\n",
            "\t\tDevelopment => Loss: 0.570575\n",
            "\t\tDevelopment => Acc: 0.726000\n",
            "\n",
            "\tEpoch\t 49 => Loss: 0.551014\n",
            "\t\tDevelopment => Loss: 0.569893\n",
            "\t\tDevelopment => Acc: 0.723000\n",
            "\n",
            "\tEpoch\t 50 => Loss: 0.548704\n",
            "\t\tDevelopment => Loss: 0.569223\n",
            "\t\tDevelopment => Acc: 0.724000\n",
            "\n",
            "\tEpoch\t 51 => Loss: 0.546319\n",
            "\t\tDevelopment => Loss: 0.567668\n",
            "\t\tDevelopment => Acc: 0.725000\n",
            "\n",
            "\tEpoch\t 52 => Loss: 0.546271\n",
            "\t\tDevelopment => Loss: 0.566647\n",
            "\t\tDevelopment => Acc: 0.720000\n",
            "\n",
            "\tEpoch\t 53 => Loss: 0.544893\n",
            "\t\tDevelopment => Loss: 0.566875\n",
            "\t\tDevelopment => Acc: 0.722000\n",
            "\n",
            "\tEpoch\t 54 => Loss: 0.541265\n",
            "\t\tDevelopment => Loss: 0.566365\n",
            "\t\tDevelopment => Acc: 0.721000\n",
            "\n",
            "\tEpoch\t 55 => Loss: 0.539520\n",
            "\t\tDevelopment => Loss: 0.566504\n",
            "\t\tDevelopment => Acc: 0.720000\n",
            "\n",
            "\tEpoch\t 56 => Loss: 0.533241\n",
            "\t\tDevelopment => Loss: 0.564637\n",
            "\t\tDevelopment => Acc: 0.725000\n",
            "\n",
            "\tEpoch\t 57 => Loss: 0.535144\n",
            "\t\tDevelopment => Loss: 0.563577\n",
            "\t\tDevelopment => Acc: 0.721000\n",
            "\n",
            "\tEpoch\t 58 => Loss: 0.533123\n",
            "\t\tDevelopment => Loss: 0.563432\n",
            "\t\tDevelopment => Acc: 0.725000\n",
            "\n",
            "\tEpoch\t 59 => Loss: 0.531667\n",
            "\t\tDevelopment => Loss: 0.563351\n",
            "\t\tDevelopment => Acc: 0.723000\n",
            "\n",
            "\tEpoch\t 60 => Loss: 0.528541\n",
            "\t\tDevelopment => Loss: 0.562307\n",
            "\t\tDevelopment => Acc: 0.723000\n",
            "\n",
            "\tEpoch\t 61 => Loss: 0.523866\n",
            "\t\tDevelopment => Loss: 0.561860\n",
            "\t\tDevelopment => Acc: 0.723000\n",
            "\n",
            "\tEpoch\t 62 => Loss: 0.524919\n",
            "\t\tDevelopment => Loss: 0.561417\n",
            "\t\tDevelopment => Acc: 0.724000\n",
            "\n",
            "\tEpoch\t 63 => Loss: 0.522394\n",
            "\t\tDevelopment => Loss: 0.561937\n",
            "\t\tDevelopment => Acc: 0.722000\n",
            "\n",
            "\tEpoch\t 64 => Loss: 0.520417\n",
            "\t\tDevelopment => Loss: 0.560584\n",
            "\t\tDevelopment => Acc: 0.726000\n",
            "\n",
            "\tEpoch\t 65 => Loss: 0.519310\n",
            "\t\tDevelopment => Loss: 0.560235\n",
            "\t\tDevelopment => Acc: 0.727000\n",
            "\n",
            "\tEpoch\t 66 => Loss: 0.515424\n",
            "\t\tDevelopment => Loss: 0.559713\n",
            "\t\tDevelopment => Acc: 0.728000\n",
            "\n",
            "\tEpoch\t 67 => Loss: 0.514732\n",
            "\t\tDevelopment => Loss: 0.559665\n",
            "\t\tDevelopment => Acc: 0.725000\n",
            "\n",
            "\tEpoch\t 68 => Loss: 0.511173\n",
            "\t\tDevelopment => Loss: 0.558836\n",
            "\t\tDevelopment => Acc: 0.728000\n",
            "\n",
            "\tEpoch\t 69 => Loss: 0.510191\n",
            "\t\tDevelopment => Loss: 0.558623\n",
            "\t\tDevelopment => Acc: 0.726000\n",
            "\n",
            "\tEpoch\t 70 => Loss: 0.508017\n",
            "\t\tDevelopment => Loss: 0.558050\n",
            "\t\tDevelopment => Acc: 0.726000\n",
            "\n",
            "\tEpoch\t 71 => Loss: 0.506993\n",
            "\t\tDevelopment => Loss: 0.557072\n",
            "\t\tDevelopment => Acc: 0.727000\n",
            "\n",
            "\tEpoch\t 72 => Loss: 0.504484\n",
            "\t\tDevelopment => Loss: 0.557806\n",
            "\t\tDevelopment => Acc: 0.727000\n",
            "\n",
            "\tEpoch\t 73 => Loss: 0.500838\n",
            "\t\tDevelopment => Loss: 0.557213\n",
            "\t\tDevelopment => Acc: 0.727000\n",
            "\n",
            "\tEpoch\t 74 => Loss: 0.498303\n",
            "\t\tDevelopment => Loss: 0.557529\n",
            "\t\tDevelopment => Acc: 0.725000\n",
            "\n",
            "\tEpoch\t 75 => Loss: 0.494623\n",
            "\t\tDevelopment => Loss: 0.557126\n",
            "\t\tDevelopment => Acc: 0.727000\n",
            "\n",
            "\tEpoch\t 76 => Loss: 0.493463\n",
            "\t\tDevelopment => Loss: 0.556643\n",
            "\t\tDevelopment => Acc: 0.726000\n",
            "\n",
            "\tEpoch\t 77 => Loss: 0.493378\n",
            "\t\tDevelopment => Loss: 0.556388\n",
            "\t\tDevelopment => Acc: 0.729000\n",
            "\n",
            "\tEpoch\t 78 => Loss: 0.491765\n",
            "\t\tDevelopment => Loss: 0.556237\n",
            "\t\tDevelopment => Acc: 0.725000\n",
            "\n",
            "\tEpoch\t 79 => Loss: 0.489784\n",
            "\t\tDevelopment => Loss: 0.555283\n",
            "\t\tDevelopment => Acc: 0.734000\n",
            "\n",
            "\tEpoch\t 80 => Loss: 0.487773\n",
            "\t\tDevelopment => Loss: 0.556134\n",
            "\t\tDevelopment => Acc: 0.725000\n",
            "\n",
            "\tEpoch\t 81 => Loss: 0.484192\n",
            "\t\tDevelopment => Loss: 0.555834\n",
            "\t\tDevelopment => Acc: 0.724000\n",
            "\n",
            "\tEpoch\t 82 => Loss: 0.481788\n",
            "\t\tDevelopment => Loss: 0.555671\n",
            "\t\tDevelopment => Acc: 0.728000\n",
            "\n",
            "\tEpoch\t 83 => Loss: 0.481536\n",
            "\t\tDevelopment => Loss: 0.556531\n",
            "\t\tDevelopment => Acc: 0.725000\n",
            "\n",
            "\tEpoch\t 84 => Loss: 0.477681\n",
            "\t\tDevelopment => Loss: 0.556051\n",
            "\t\tDevelopment => Acc: 0.726000\n",
            "\n",
            "\tEpoch\t 85 => Loss: 0.478288\n",
            "\t\tDevelopment => Loss: 0.555459\n",
            "\t\tDevelopment => Acc: 0.725000\n",
            "\n",
            "\tEpoch\t 86 => Loss: 0.475052\n",
            "\t\tDevelopment => Loss: 0.555092\n",
            "\t\tDevelopment => Acc: 0.726000\n",
            "\n",
            "\tEpoch\t 87 => Loss: 0.471756\n",
            "\t\tDevelopment => Loss: 0.554647\n",
            "\t\tDevelopment => Acc: 0.726000\n",
            "\n",
            "\tEpoch\t 88 => Loss: 0.468971\n",
            "\t\tDevelopment => Loss: 0.555524\n",
            "\t\tDevelopment => Acc: 0.724000\n",
            "\n",
            "\tEpoch\t 89 => Loss: 0.465669\n",
            "\t\tDevelopment => Loss: 0.554724\n",
            "\t\tDevelopment => Acc: 0.729000\n",
            "\n",
            "\tEpoch\t 90 => Loss: 0.463597\n",
            "\t\tDevelopment => Loss: 0.556650\n",
            "\t\tDevelopment => Acc: 0.725000\n",
            "\n",
            "\tEpoch\t 91 => Loss: 0.461604\n",
            "\t\tDevelopment => Loss: 0.555900\n",
            "\t\tDevelopment => Acc: 0.724000\n",
            "\n",
            "\tEpoch\t 92 => Loss: 0.462134\n",
            "\t\tDevelopment => Loss: 0.556071\n",
            "\t\tDevelopment => Acc: 0.721000\n",
            "\n",
            "\tEpoch\t 93 => Loss: 0.459957\n",
            "\t\tDevelopment => Loss: 0.555287\n",
            "\t\tDevelopment => Acc: 0.724000\n",
            "\n",
            "\tEpoch\t 94 => Loss: 0.456588\n",
            "\t\tDevelopment => Loss: 0.556531\n",
            "\t\tDevelopment => Acc: 0.725000\n",
            "\n",
            "\tEpoch\t 95 => Loss: 0.454698\n",
            "\t\tDevelopment => Loss: 0.555921\n",
            "\t\tDevelopment => Acc: 0.727000\n",
            "\n",
            "\tEpoch\t 96 => Loss: 0.451832\n",
            "\t\tDevelopment => Loss: 0.555442\n",
            "\t\tDevelopment => Acc: 0.728000\n",
            "\n",
            "\tEpoch\t 97 => Loss: 0.449661\n",
            "\t\tDevelopment => Loss: 0.556721\n",
            "\t\tDevelopment => Acc: 0.728000\n",
            "\n",
            "\tEpoch\t 98 => Loss: 0.447075\n",
            "\t\tDevelopment => Loss: 0.556607\n",
            "\t\tDevelopment => Acc: 0.724000\n",
            "\n",
            "EARLY STOPPING\n"
          ],
          "name": "stdout"
        }
      ]
    },
    {
      "cell_type": "code",
      "metadata": {
        "colab": {
          "base_uri": "https://localhost:8080/",
          "height": 791
        },
        "id": "XEtcaN86dGuz",
        "outputId": "9837a220-e411-42e9-ddd5-ecfac231632e"
      },
      "source": [
        "def plot_logs(logs: dict):\n",
        "    # define the figure\n",
        "    plt.figure(figsize=(8,6))\n",
        "\n",
        "    # define the two sequences that we want to show\n",
        "    plt.plot(list(range(len(logs['train']))), logs['train'], label='Train loss')\n",
        "    plt.plot(list(range(len(logs['dev']))), logs['dev'], label='Dev loss')\n",
        "    \n",
        "    # set title and axis name\n",
        "    plt.title(\"Losses\")\n",
        "    plt.xlabel('Epochs')\n",
        "    plt.ylabel('Loss')\n",
        "    plt.legend(loc=\"upper right\")\n",
        "\n",
        "    plt.show()\n",
        "\n",
        "    # as before but for the accs\n",
        "    plt.figure(figsize=(8,6))\n",
        "    plt.plot(list(range(len(logs['train_accs']))), logs['train_accs'], label='Train acc')\n",
        "    plt.plot(list(range(len(logs['dev_accs']))), logs['dev_accs'], label='Dev acc')\n",
        "    \n",
        "    plt.title(\"Accs\")\n",
        "    plt.xlabel('Epochs')\n",
        "    plt.ylabel('Acc')\n",
        "    plt.legend(loc=\"upper right\")\n",
        "\n",
        "    plt.show()\n",
        "\n",
        "plot_logs(scores)"
      ],
      "execution_count": null,
      "outputs": [
        {
          "output_type": "display_data",
          "data": {
            "image/png": "[encoded data removed]",
            "text/plain": [
              "<Figure size 576x432 with 1 Axes>"
            ]
          },
          "metadata": {
            "tags": [],
            "needs_background": "light"
          }
        },
        {
          "output_type": "display_data",
          "data": {
            "image/png": "[encoded data removed]",
            "text/plain": [
              "<Figure size 576x432 with 1 Axes>"
            ]
          },
          "metadata": {
            "tags": [],
            "needs_background": "light"
          }
        }
      ]
    },
    {
      "cell_type": "code",
      "metadata": {
        "id": "SieOoGg0jih_"
      },
      "source": [
        "from sklearn.metrics import confusion_matrix\n",
        "import seaborn as sn\n",
        "import pandas as pd\n",
        "from matplotlib import pyplot\n",
        "from sklearn.metrics import roc_curve\n",
        "from sklearn.metrics import roc_auc_score\n",
        "\n",
        "@torch.no_grad()\n",
        "def plots(\n",
        "    model: nn.Module,\n",
        "    dataloader: DataLoader,\n",
        "):\n",
        "    accs = []\n",
        "    preds = torch.tensor([])\n",
        "    gt = torch.tensor([])\n",
        "    size = 0\n",
        "    for x, y in dataloader:\n",
        "        # get the number of elements in the batch (it is not constant since the \n",
        "        # number of examples is not a multiple of BATCH_SIZE, so the last batch\n",
        "        # will be smaller)\n",
        "        size += len(y)\n",
        "        outputs = model(x[0], x[1], y.float())\n",
        "        preds = torch.hstack((preds, outputs[\"pred\"]))\n",
        "        gt = torch.hstack((gt, y))\n",
        "        accs.append(outputs[\"correct\"])\n",
        "\n",
        "    # get mean acc and mean loss\n",
        "    mean_acc = sum(accs)/size\n",
        "    \n",
        "    # confusion matrix\n",
        "    classes = [\"True\", \"False\"]\n",
        "    cf_matrix = confusion_matrix(gt.cpu().numpy(), torch.round(preds).cpu().numpy())\n",
        "    df_cm = pd.DataFrame(cf_matrix, index = [i for i in classes],\n",
        "                     columns = [i for i in classes])\n",
        "    plt.figure(figsize = (12,7))\n",
        "    sn.heatmap(df_cm, annot=True, cmap='Blues', fmt='g')\n",
        "    plt.savefig('output.png')\n",
        "    plt.show()\n",
        "\n",
        "    print()\n",
        "\n",
        "    # roc curve and score\n",
        "    roc_score = roc_auc_score(gt.cpu().numpy(), preds.cpu().numpy())\n",
        "    fpr, tpr, _ = roc_curve(gt.cpu().numpy(), preds.cpu().numpy())\n",
        "\n",
        "    # plot the roc curve for the model\n",
        "    pyplot.plot(fpr, tpr, marker='.', label='ROC AUC=%.3f' % (roc_score))\n",
        "    # axis labels\n",
        "    pyplot.xlabel('False Positive Rate')\n",
        "    pyplot.ylabel('True Positive Rate')\n",
        "    pyplot.legend()\n",
        "    # show the plot\n",
        "    pyplot.show()"
      ],
      "execution_count": null,
      "outputs": []
    },
    {
      "cell_type": "code",
      "metadata": {
        "id": "9FYjFbueZMoU",
        "colab": {
          "base_uri": "https://localhost:8080/",
          "height": 707
        },
        "outputId": "29973b63-f32c-4f06-f542-95583363b5c5"
      },
      "source": [
        "model = Classifier(EMBEDDING_DIMENSION, n_hidden1=512, n_hidden2=256, dropout=0.5)\n",
        "model.load_state_dict(torch.load(f\"{FILE_NAME}.pt\"))\n",
        "model.eval()\n",
        "\n",
        "plots(model, dev_dataloader)"
      ],
      "execution_count": null,
      "outputs": [
        {
          "output_type": "display_data",
          "data": {
            "image/png": "[encoded data removed]",
            "text/plain": [
              "<Figure size 864x504 with 2 Axes>"
            ]
          },
          "metadata": {
            "tags": [],
            "needs_background": "light"
          }
        },
        {
          "output_type": "stream",
          "text": [
            "\n"
          ],
          "name": "stdout"
        },
        {
          "output_type": "display_data",
          "data": {
            "image/png": "[encoded data removed]",
            "text/plain": [
              "<Figure size 432x288 with 1 Axes>"
            ]
          },
          "metadata": {
            "tags": [],
            "needs_background": "light"
          }
        }
      ]
    },
    {
      "cell_type": "code",
      "metadata": {
        "id": "OmiGag3Ijdnp"
      },
      "source": [],
      "execution_count": null,
      "outputs": []
    }
  ]
}